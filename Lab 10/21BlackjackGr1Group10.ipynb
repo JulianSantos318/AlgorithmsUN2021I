{
  "nbformat": 4,
  "nbformat_minor": 0,
  "metadata": {
    "colab": {
      "name": "21BlackjackGr1Group10.ipynb",
      "provenance": [],
      "collapsed_sections": []
    },
    "kernelspec": {
      "name": "python3",
      "display_name": "Python 3"
    },
    "language_info": {
      "name": "python"
    }
  },
  "cells": [
    {
      "cell_type": "markdown",
      "metadata": {
        "id": "i6EdCQxfvqeA"
      },
      "source": [
        "# Laboratorio 10\n",
        "## Grupo 10 - integrantes:\n",
        "*   Julian Esteban Santos Martinez\n",
        "*   Santiago Vargas Avendaño\n"
      ]
    },
    {
      "cell_type": "code",
      "metadata": {
        "id": "DKnDMCeSXyD3"
      },
      "source": [
        "import random as r\n",
        "import matplotlib.pyplot as plt"
      ],
      "execution_count": null,
      "outputs": []
    },
    {
      "cell_type": "markdown",
      "metadata": {
        "id": "u2HthLBOGU9V"
      },
      "source": [
        "1.   Estimate the probability of getting a 21, the average number of cards required to complete 21 and plot the experimental distribution of the number of card required to complete 21 drawing cards sequentially from a shuffled Spanish 48-card deck with card values [1,2,3,4,5,6,7,8,9,10,11,12,1,2,3,4,5,6,7,8,9,10,11,12,1,2,3,4,5,6,7,8,9,10,11,12,1,2,3,4,5,6,7,8,9,10,11,12]"
      ]
    },
    {
      "cell_type": "code",
      "metadata": {
        "id": "5OOFzQJMvjRn",
        "colab": {
          "base_uri": "https://localhost:8080/",
          "height": 282
        },
        "outputId": "86842383-cce1-4842-fd6c-61f462570b5d"
      },
      "source": [
        "n = 10000000\n",
        "count = 0\n",
        "numberCardsUsed = {2:0,3:0,4:0,5:0,6:0,7:0,8:0,9:0,10:0,11:0}\n",
        "averageNumberCards = 0\n",
        "for i in range(n):\n",
        "  cards = [1,2,3,4,5,6,7,8,9,10,11,12,1,2,3,4,5,6,7,8,9,10,11,12,1,2,3,4,5,6,7,8,9,10,11,12,1,2,3,4,5,6,7,8,9,10,11,12]\n",
        "  game = []\n",
        "  numberCards = 0\n",
        "  while(sum(game)<21):\n",
        "    card = r.choice(cards)\n",
        "    cards.remove(card)\n",
        "    game.append(card)\n",
        "    numberCards = numberCards + 1;\n",
        "    if(sum(game)==21):\n",
        "      count = count + 1\n",
        "      averageNumberCards = averageNumberCards + numberCards\n",
        "      numberCardsUsed[numberCards] = numberCardsUsed[numberCards] + 1\n",
        "print(\"Probabilidad: \", count/n, \", Número de cartas promedio: \", averageNumberCards/count)\n",
        "plt.bar(numberCardsUsed.keys(), numberCardsUsed.values(), 1, color='g')\n",
        "plt.show()"
      ],
      "execution_count": null,
      "outputs": [
        {
          "output_type": "stream",
          "text": [
            "Probabilidad:  0.1584715 , Número de cartas promedio:  3.478784513303654\n"
          ],
          "name": "stdout"
        },
        {
          "output_type": "display_data",
          "data": {
            "image/png": "[encoded data removed]",
            "text/plain": [
              "<Figure size 432x288 with 1 Axes>"
            ]
          },
          "metadata": {
            "tags": [],
            "needs_background": "light"
          }
        }
      ]
    },
    {
      "cell_type": "markdown",
      "metadata": {
        "id": "gNfydqYlXYpw"
      },
      "source": [
        "and from a shuffled Poker 52-card with card values [1,2,3,4,5,6,7,8,9,10,11,12,13,1,2,3,4,5,6,7,8,9,10,11,12,13,1,2,3,4,5,6,7,8,9,10,11,12,13,1,2,3,4,5,6,7,8,9,10,11,12,13]"
      ]
    },
    {
      "cell_type": "code",
      "metadata": {
        "id": "ABlWRfAGGUEu",
        "colab": {
          "base_uri": "https://localhost:8080/",
          "height": 282
        },
        "outputId": "264030e7-7fae-4be8-ae07-11058da856f4"
      },
      "source": [
        "n = 10000000\n",
        "count = 0\n",
        "numberCardsUsed = {2:0,3:0,4:0,5:0,6:0,7:0,8:0,9:0,10:0,11:0}\n",
        "averageNumberCards = 0\n",
        "for i in range(n):\n",
        "  cards = [1,2,3,4,5,6,7,8,9,10,11,12,13,1,2,3,4,5,6,7,8,9,10,11,12,13,1,2,3,4,5,6,7,8,9,10,11,12,13,1,2,3,4,5,6,7,8,9,10,11,12,13] \n",
        "  game = []\n",
        "  numberCards = 0\n",
        "  while(sum(game)<21):\n",
        "    card = r.choice(cards)\n",
        "    cards.remove(card)\n",
        "    game.append(card)\n",
        "    numberCards = numberCards + 1;\n",
        "    if(sum(game)==21):\n",
        "      count = count + 1\n",
        "      averageNumberCards = averageNumberCards + numberCards\n",
        "      numberCardsUsed[numberCards] = numberCardsUsed[numberCards] + 1\n",
        "print(\"Probabilidad: \", count/n, \", Número de cartas promedio: \", averageNumberCards/count)\n",
        "plt.bar(numberCardsUsed.keys(), numberCardsUsed.values(), 1, color='g')\n",
        "plt.show()"
      ],
      "execution_count": null,
      "outputs": [
        {
          "output_type": "stream",
          "text": [
            "Probabilidad:  0.1445906 , Número de cartas promedio:  3.215352865262334\n"
          ],
          "name": "stdout"
        },
        {
          "output_type": "display_data",
          "data": {
            "image/png": "[encoded data removed]",
            "text/plain": [
              "<Figure size 432x288 with 1 Axes>"
            ]
          },
          "metadata": {
            "tags": [],
            "needs_background": "light"
          }
        }
      ]
    },
    {
      "cell_type": "markdown",
      "metadata": {
        "id": "ZDTPUkgiVdnI"
      },
      "source": [
        "2.   Estimate the probability of getting a 21, the average number of cards required to complete 21 and plot the experimental distribution of the number of card required to complete 21 drawing cards sequentially from a shuffled Spanish 48-card deck with card values [1,2,3,4,5,6,7,8,9,10,10,10,1,2,3,4,5,6,7,8,9,10,10,10,1,2,3,4,5,6,7,8,9,10,10,10,1,2,3,4,5,6,7,8,9,10,10,10]\n",
        "\n"
      ]
    },
    {
      "cell_type": "code",
      "metadata": {
        "colab": {
          "base_uri": "https://localhost:8080/",
          "height": 282
        },
        "id": "Z5HvW1HjVwIg",
        "outputId": "2748eac0-dd6c-447b-81a9-d498d23ff929"
      },
      "source": [
        "n = 10000000\n",
        "count = 0\n",
        "numberCardsUsed = {2:0,3:0,4:0,5:0,6:0,7:0,8:0,9:0,10:0,11:0}\n",
        "averageNumberCards = 0\n",
        "for i in range(n):\n",
        "  cards = [1,2,3,4,5,6,7,8,9,10,10,10,1,2,3,4,5,6,7,8,9,10,10,10,1,2,3,4,5,6,7,8,9,10,10,10,1,2,3,4,5,6,7,8,9,10,10,10]\n",
        "  game = []\n",
        "  numberCards = 0\n",
        "  while(sum(game)<21):\n",
        "    card = r.choice(cards)\n",
        "    cards.remove(card)\n",
        "    game.append(card)\n",
        "    numberCards = numberCards + 1;\n",
        "    if(sum(game)==21):\n",
        "      count = count + 1\n",
        "      averageNumberCards = averageNumberCards + numberCards\n",
        "      numberCardsUsed[numberCards] = numberCardsUsed[numberCards] + 1\n",
        "print(\"Probabilidad: \", count/n, \", Número de cartas promedio: \", averageNumberCards/count)\n",
        "plt.bar(numberCardsUsed.keys(), numberCardsUsed.values(), 1, color='g')\n",
        "plt.show()"
      ],
      "execution_count": null,
      "outputs": [
        {
          "output_type": "stream",
          "text": [
            "Probabilidad:  0.1533152 , Número de cartas promedio:  3.751472782868235\n"
          ],
          "name": "stdout"
        },
        {
          "output_type": "display_data",
          "data": {
            "image/png": "[encoded data removed]",
            "text/plain": [
              "<Figure size 432x288 with 1 Axes>"
            ]
          },
          "metadata": {
            "tags": [],
            "needs_background": "light"
          }
        }
      ]
    },
    {
      "cell_type": "markdown",
      "metadata": {
        "id": "fr0LisARWNd8"
      },
      "source": [
        "and from a shuffled Poker 52-card deck with card values [1,2,3,4,5,6,7,8,9,10,10,10,10,1,2,3,4,5,6,7,8,9,10,10,10,10,1,2,3,4,5,6,7,8,9,10,10,10,10,1,2,3,4,5,6,7,8,9,10,10,10,10]"
      ]
    },
    {
      "cell_type": "code",
      "metadata": {
        "colab": {
          "base_uri": "https://localhost:8080/",
          "height": 282
        },
        "id": "FA_nekT3WYuL",
        "outputId": "5987b59b-0d5b-4ffb-e567-c0465d8e8961"
      },
      "source": [
        "n = 10000000\n",
        "count = 0\n",
        "numberCardsUsed = {2:0,3:0,4:0,5:0,6:0,7:0,8:0,9:0,10:0,11:0}\n",
        "averageNumberCards = 0\n",
        "for i in range(n):\n",
        "  cards = [1,2,3,4,5,6,7,8,9,10,10,10,10,1,2,3,4,5,6,7,8,9,10,10,10,10,1,2,3,4,5,6,7,8,9,10,10,10,10,1,2,3,4,5,6,7,8,9,10,10,10,10]\n",
        "  game = []\n",
        "  numberCards = 0\n",
        "  while(sum(game)<21):\n",
        "    card = r.choice(cards)\n",
        "    cards.remove(card)\n",
        "    game.append(card)\n",
        "    numberCards = numberCards + 1;\n",
        "    if(sum(game)==21):\n",
        "      count = count + 1\n",
        "      averageNumberCards = averageNumberCards + numberCards\n",
        "      numberCardsUsed[numberCards] = numberCardsUsed[numberCards] + 1\n",
        "print(\"Probabilidad: \", count/n, \", Número de cartas promedio: \", averageNumberCards/count)\n",
        "plt.bar(numberCardsUsed.keys(), numberCardsUsed.values(), 1, color='g')\n",
        "plt.show()"
      ],
      "execution_count": null,
      "outputs": [
        {
          "output_type": "stream",
          "text": [
            "Probabilidad:  0.1456356 , Número de cartas promedio:  3.423130058859235\n"
          ],
          "name": "stdout"
        },
        {
          "output_type": "display_data",
          "data": {
            "image/png": "[encoded data removed]",
            "text/plain": [
              "<Figure size 432x288 with 1 Axes>"
            ]
          },
          "metadata": {
            "tags": [],
            "needs_background": "light"
          }
        }
      ]
    },
    {
      "cell_type": "markdown",
      "metadata": {
        "id": "dN69vcnwWgLM"
      },
      "source": [
        "3.   Estimate the probability of getting a 21, the average total number of cards required to complete 21 and lot the experimental distribution of the number of card required to complete 21; assuming that you have in your hand the cards [7,7,5] and the remaining deck has n/2 cards for the regular Spanish 48-card deck \n",
        "\n"
      ]
    },
    {
      "cell_type": "code",
      "metadata": {
        "colab": {
          "base_uri": "https://localhost:8080/"
        },
        "id": "YR9xJVnDWrPM",
        "outputId": "59c688cf-ac3c-4525-bd2a-880f9b7c9662"
      },
      "source": [
        "n = 10000000\n",
        "count = 0\n",
        "numberCardsUsed = {4:0,5:0,6:0,7:0,8:0,9:0,10:0,11:0}\n",
        "averageNumberCards = 0\n",
        "for i in range(n):\n",
        "  cards = [2,4,6,10,12,1,3,5,7,9,11,1,4,6,8,9,10,12,1,2,3,5,7,9]\n",
        "  game = [7,7,5]\n",
        "  numberCards = 3\n",
        "  while(sum(game)<21):\n",
        "    card = r.choice(cards)\n",
        "    cards.remove(card)\n",
        "    game.append(card)\n",
        "    numberCards = numberCards + 1;\n",
        "    if(sum(game)==21):\n",
        "      count = count + 1\n",
        "      averageNumberCards = averageNumberCards + numberCards\n",
        "      numberCardsUsed[numberCards] = numberCardsUsed[numberCards] + 1\n",
        "print(\"Probabilidad: \", count/n, \", Número de cartas promedio teniendo en cuenta que se inicia con 3(7,7,5): \", averageNumberCards/count)\n",
        "plt.bar(numberCardsUsed.keys(), numberCardsUsed.values(), 1, color='g')\n",
        "plt.show()"
      ],
      "execution_count": null,
      "outputs": [
        {
          "output_type": "stream",
          "text": [
            "Probabilidad:  0.0943483 , Número de cartas promedio teniendo en cuenta que se inicia con 3(7,7,5):  4.114658133744858\n"
          ],
          "name": "stdout"
        },
        {
          "output_type": "display_data",
          "data": {
            "image/png": "[encoded data removed]",
            "text/plain": [
              "<Figure size 432x288 with 1 Axes>"
            ]
          },
          "metadata": {
            "tags": [],
            "needs_background": "light"
          }
        }
      ]
    },
    {
      "cell_type": "markdown",
      "metadata": {
        "id": "Rlg0uOQ_Wrxs"
      },
      "source": [
        "and the Poker 52-card decks"
      ]
    },
    {
      "cell_type": "code",
      "metadata": {
        "colab": {
          "base_uri": "https://localhost:8080/",
          "height": 293
        },
        "id": "e-g5ErOiYCSj",
        "outputId": "6d0d6511-a3ea-4bc7-96d6-3341e1090055"
      },
      "source": [
        "n = 10000000\n",
        "count = 0\n",
        "numberCardsUsed = {4:0,5:0,6:0,7:0,8:0,9:0,10:0,11:0}\n",
        "averageNumberCards = 0\n",
        "for i in range(n):\n",
        "  cards = [2,4,6,10,12,1,3,5,7,9,11,1,2,4,6,8,9,10,12,1,2,3,5,7,9,13]\n",
        "  game = [7,7,5]\n",
        "  numberCards = 3\n",
        "  while(sum(game)<21):\n",
        "    card = r.choice(cards)\n",
        "    cards.remove(card)\n",
        "    game.append(card)\n",
        "    numberCards = numberCards + 1;\n",
        "    if(sum(game)==21):\n",
        "      count = count + 1\n",
        "      averageNumberCards = averageNumberCards + numberCards\n",
        "      numberCardsUsed[numberCards] = numberCardsUsed[numberCards] + 1\n",
        "print(\"Probabilidad: \", count/n, \", Número de cartas promedio teniendo en cuenta que se inicia con 3(7,7,5): \", averageNumberCards/count)\n",
        "plt.bar(numberCardsUsed.keys(), numberCardsUsed.values(), 1, color='g')\n",
        "plt.show()"
      ],
      "execution_count": null,
      "outputs": [
        {
          "output_type": "stream",
          "text": [
            "Probabilidad:  0.1246685 , Número de cartas promedio teniendo en cuenta que se inicia con 3(7,7,5):  4.0741743102708385\n"
          ],
          "name": "stdout"
        },
        {
          "output_type": "display_data",
          "data": {
            "image/png": "[encoded data removed]",
            "text/plain": [
              "<Figure size 432x288 with 1 Axes>"
            ]
          },
          "metadata": {
            "tags": [],
            "needs_background": "light"
          }
        }
      ]
    },
    {
      "cell_type": "markdown",
      "metadata": {
        "id": "X5bPPnVFm5gI"
      },
      "source": [
        "4.   Estimate and calculate analytically the probability of getting a 21, the average total number of cards required to complete 21 and the experimental distribution of the number of card required to complete 21; assuming that you have in your hand the cards [7,7,5] and the remaining deck has two possible sets of 8 cards for the regular Spanish 48-card deck\n",
        "\n"
      ]
    },
    {
      "cell_type": "markdown",
      "metadata": {
        "id": "ovp3l9pPdzE4"
      },
      "source": [
        "### Hot deck\n",
        "Teniendo en manos las cartas 7,7 y 5, sabemos que ya tenemos 19 puntos en mano. La probabilidad de sacar 21 teniendo un hot deck sería:\n",
        "\n",
        "$\n",
        "  P = P_1 + (P_2 * P_3) \\\\\n",
        "  \\text{siendo $P_1$ la probabilidad de sacar un 2 de la baraja inicial, $P_2$ la probabilidad de sacar un 1 de la baraja inicial y $P_3$ la probabilidad de sacar un 1} \n",
        "  \\\\ \\text{de la baraja luego de ya haber sacado un 1} \\\\\n",
        "  P = \\frac{4}{8} + (\\frac{4}{8} * \\frac{3}{7}) \\\\\n",
        "  P = \\frac{4}{8} + \\frac{12}{56} \\\\\n",
        "  P = \\frac{40}{56} = \\frac{5}{7} = 0.714285 \n",
        "$\n",
        "Por lo que la probabilidad de sacar 21 con el mazo inicial y un hot deck sería de 71.4285%\n"
      ]
    },
    {
      "cell_type": "code",
      "metadata": {
        "id": "igUTTLUEnI2A",
        "colab": {
          "base_uri": "https://localhost:8080/",
          "height": 293
        },
        "outputId": "2adfbea0-18ba-428c-92cc-3f34f481e7ca"
      },
      "source": [
        "n = 10000000\n",
        "count = 0\n",
        "numberCardsUsed = {4:0,5:0,6:0,7:0}\n",
        "averageNumberCards = 0\n",
        "for i in range(n):\n",
        "  cards = [1,2,1,2,1,2,1,2]\n",
        "  game = [7,7,5]\n",
        "  numberCards = 3\n",
        "  while(sum(game)<21):\n",
        "    card = r.choice(cards)\n",
        "    cards.remove(card)\n",
        "    game.append(card)\n",
        "    numberCards = numberCards + 1;\n",
        "    if(sum(game)==21):\n",
        "      count = count + 1\n",
        "      averageNumberCards = averageNumberCards + numberCards\n",
        "      numberCardsUsed[numberCards] = numberCardsUsed[numberCards] + 1\n",
        "print(\"Probabilidad: \", count/n, \", Número de cartas promedio teniendo en cuenta que se inicia con 3(7,7,5): \", averageNumberCards/count)\n",
        "plt.bar(numberCardsUsed.keys(), numberCardsUsed.values(), 1, color='g')\n",
        "plt.show()"
      ],
      "execution_count": null,
      "outputs": [
        {
          "output_type": "stream",
          "text": [
            "Probabilidad:  0.7141806 , Número de cartas promedio teniendo en cuenta que se inicia con 3(7,7,5):  4.299708925165428\n"
          ],
          "name": "stdout"
        },
        {
          "output_type": "display_data",
          "data": {
            "image/png": "[encoded data removed]",
            "text/plain": [
              "<Figure size 432x288 with 1 Axes>"
            ]
          },
          "metadata": {
            "tags": [],
            "needs_background": "light"
          }
        }
      ]
    },
    {
      "cell_type": "markdown",
      "metadata": {
        "id": "AoqkcXx8oyiC"
      },
      "source": [
        "### Cold deck\n",
        "Teniendo en manos las cartas 7,7 y 5, sabemos que ya tenemos 19 puntos en mano. La probabilidad de sacar 21 teniendo un cold deck sería:\n",
        "\n",
        "$\n",
        "  P = P_1 + (P_2 * P_3) \\\\\n",
        "  \\text{siendo $P_1$ la probabilidad de sacar un 2 de la baraja inicial, $P_2$ la probabilidad de sacar un 1 de la baraja inicial y $P_3$ la probabilidad de sacar un 1} \n",
        "  \\\\ \\text{de la baraja luego de ya haber sacado un 1} \\\\\n",
        "  P = \\frac{0}{8} + (\\frac{0}{8} * \\frac{0}{8}) \\\\\n",
        "  P = 0 \n",
        "$\n",
        "Por lo que la probabilidad de sacar 21 con el mazo inicial y un cold deck sería de 0%, este resultado tiene sentido pues la carta más baja de un cold deck es 3, la cual junto a nuestro mazo inicial ya nos da un resultado de 22."
      ]
    },
    {
      "cell_type": "code",
      "metadata": {
        "colab": {
          "base_uri": "https://localhost:8080/",
          "height": 282
        },
        "id": "Q12VH7G8oy2i",
        "outputId": "8a657eb9-d31b-441c-c60b-59e609c5e542"
      },
      "source": [
        "n = 10000000\n",
        "count = 0\n",
        "numberCardsUsed = {4:0,5:0,6:0,7:0}\n",
        "averageNumberCards = 0\n",
        "for i in range(n):\n",
        "  cards = [3,5,4,12,7,8,9,11]\n",
        "  game = [7,7,5]\n",
        "  numberCards = 3\n",
        "  while(sum(game)<21):\n",
        "    card = r.choice(cards)\n",
        "    cards.remove(card)\n",
        "    game.append(card)\n",
        "    numberCards = numberCards + 1;\n",
        "    if(sum(game)==21):\n",
        "      count = count + 1\n",
        "      averageNumberCards = averageNumberCards + numberCards\n",
        "      numberCardsUsed[numberCards] = numberCardsUsed[numberCards] + 1\n",
        "if(count>0):\n",
        "  print(\"Probabilidad: \", count/n, \", Número de cartas promedio teniendo en cuenta que se inicia con 3(7,7,5): \", averageNumberCards/count)\n",
        "else:\n",
        "  print(\"Probabilidad: \", count/n, \", dado que la probabilidad es 0, no existe un numero de cartas que permita completar un 21\")\n",
        "plt.bar(numberCardsUsed.keys(), numberCardsUsed.values(), 1, color='g')\n",
        "plt.show()"
      ],
      "execution_count": null,
      "outputs": [
        {
          "output_type": "stream",
          "text": [
            "Probabilidad:  0.0 , dado que la probabilidad es 0, no existe un numero de cartas que permita completar un 21\n"
          ],
          "name": "stdout"
        },
        {
          "output_type": "display_data",
          "data": {
            "image/png": "[encoded data removed]",
            "text/plain": [
              "<Figure size 432x288 with 1 Axes>"
            ]
          },
          "metadata": {
            "tags": [],
            "needs_background": "light"
          }
        }
      ]
    },
    {
      "cell_type": "markdown",
      "metadata": {
        "id": "XapML34wnJIs"
      },
      "source": [
        "and the Poker 52-card decks"
      ]
    },
    {
      "cell_type": "markdown",
      "metadata": {
        "id": "1SgOX7CPril4"
      },
      "source": [
        "### Hot deck\n",
        "Teniendo en manos las cartas 7,7 y 5, sabemos que ya tenemos 19 puntos en mano. La probabilidad de sacar 21 teniendo un hot deck sería:\n",
        "\n",
        "$\n",
        "  P = P_1 + (P_2 * P_3) \\\\\n",
        "  \\text{siendo $P_1$ la probabilidad de sacar un 2 de la baraja inicial, $P_2$ la probabilidad de sacar un 1 de la baraja inicial y $P_3$ la probabilidad de sacar un 1} \n",
        "  \\\\ \\text{de la baraja luego de ya haber sacado un 1} \\\\\n",
        "  P = \\frac{4}{8} + (\\frac{4}{8} * \\frac{3}{7}) \\\\\n",
        "  P = \\frac{4}{8} + \\frac{12}{56} \\\\\n",
        "  P = \\frac{40}{56} = \\frac{5}{7} = 0.714285 \n",
        "$\n",
        "Por lo que la probabilidad de sacar 21 con el mazo inicial y un hot deck sería de 71.4285%\n"
      ]
    },
    {
      "cell_type": "code",
      "metadata": {
        "id": "TBYJICQbnKAi",
        "colab": {
          "base_uri": "https://localhost:8080/",
          "height": 293
        },
        "outputId": "6d98a626-c597-4dd6-9f70-ae355e12d73c"
      },
      "source": [
        "n = 10000000\n",
        "count = 0\n",
        "numberCardsUsed = {4:0,5:0,6:0,7:0}\n",
        "averageNumberCards = 0\n",
        "for i in range(n):\n",
        "  cards = [1,2,1,2,1,2,1,2]\n",
        "  game = [7,7,5]\n",
        "  numberCards = 3\n",
        "  while(sum(game)<21):\n",
        "    card = r.choice(cards)\n",
        "    cards.remove(card)\n",
        "    game.append(card)\n",
        "    numberCards = numberCards + 1;\n",
        "    if(sum(game)==21):\n",
        "      count = count + 1\n",
        "      averageNumberCards = averageNumberCards + numberCards\n",
        "      numberCardsUsed[numberCards] = numberCardsUsed[numberCards] + 1\n",
        "print(\"Probabilidad: \", count/n, \", Número de cartas promedio teniendo en cuenta que se inicia con 3(7,7,5): \", averageNumberCards/count)\n",
        "plt.bar(numberCardsUsed.keys(), numberCardsUsed.values(), 1, color='g')\n",
        "plt.show()"
      ],
      "execution_count": null,
      "outputs": [
        {
          "output_type": "stream",
          "text": [
            "Probabilidad:  0.7142039 , Número de cartas promedio teniendo en cuenta que se inicia con 3(7,7,5):  4.299885228854113\n"
          ],
          "name": "stdout"
        },
        {
          "output_type": "display_data",
          "data": {
            "image/png": "[encoded data removed]",
            "text/plain": [
              "<Figure size 432x288 with 1 Axes>"
            ]
          },
          "metadata": {
            "tags": [],
            "needs_background": "light"
          }
        }
      ]
    },
    {
      "cell_type": "markdown",
      "metadata": {
        "id": "RCJgHpfhryXh"
      },
      "source": [
        "### Cold deck\n",
        "Teniendo en manos las cartas 7,7 y 5, sabemos que ya tenemos 19 puntos en mano. La probabilidad de sacar 21 teniendo un cold deck sería:\n",
        "\n",
        "$\n",
        "  P = P_1 + (P_2 * P_3) \\\\\n",
        "  \\text{siendo $P_1$ la probabilidad de sacar un 2 de la baraja inicial, $P_2$ la probabilidad de sacar un 1 de la baraja inicial y $P_3$ la probabilidad de sacar un 1} \n",
        "  \\\\ \\text{de la baraja luego de ya haber sacado un 1} \\\\\n",
        "  P = \\frac{0}{8} + (\\frac{0}{8} * \\frac{0}{8}) \\\\\n",
        "  P = 0 \n",
        "$\n",
        "Por lo que la probabilidad de sacar 21 con el mazo inicial y un cold deck sería de 0%, este resultado tiene sentido pues la carta más baja de un cold deck es 3, la cual junto a nuestro mazo inicial ya nos da un resultado de 22."
      ]
    },
    {
      "cell_type": "code",
      "metadata": {
        "colab": {
          "base_uri": "https://localhost:8080/",
          "height": 282
        },
        "id": "J57bJXqHr4cW",
        "outputId": "edf95183-ed40-4e4c-9520-6bd3d660ef61"
      },
      "source": [
        "n = 10000000\n",
        "count = 0\n",
        "numberCardsUsed = {4:0,5:0,6:0,7:0}\n",
        "averageNumberCards = 0\n",
        "for i in range(n):\n",
        "  cards = [3,5,4,13,7,8,9,11]\n",
        "  game = [7,7,5]\n",
        "  numberCards = 3\n",
        "  while(sum(game)<21):\n",
        "    card = r.choice(cards)\n",
        "    cards.remove(card)\n",
        "    game.append(card)\n",
        "    numberCards = numberCards + 1;\n",
        "    if(sum(game)==21):\n",
        "      count = count + 1\n",
        "      averageNumberCards = averageNumberCards + numberCards\n",
        "      numberCardsUsed[numberCards] = numberCardsUsed[numberCards] + 1\n",
        "if(count>0):\n",
        "  print(\"Probabilidad: \", count/n, \", Número de cartas promedio teniendo en cuenta que se inicia con 3(7,7,5): \", averageNumberCards/count)\n",
        "else:\n",
        "  print(\"Probabilidad: \", count/n, \", dado que la probabilidad es 0, no existe un numero de cartas que permita completar un 21\")\n",
        "plt.bar(numberCardsUsed.keys(), numberCardsUsed.values(), 1, color='g')\n",
        "plt.show()"
      ],
      "execution_count": null,
      "outputs": [
        {
          "output_type": "stream",
          "text": [
            "Probabilidad:  0.0 , dado que la probabilidad es 0, no existe un numero de cartas que permita completar un 21\n"
          ],
          "name": "stdout"
        },
        {
          "output_type": "display_data",
          "data": {
            "image/png": "[encoded data removed]",
            "text/plain": [
              "<Figure size 432x288 with 1 Axes>"
            ]
          },
          "metadata": {
            "tags": [],
            "needs_background": "light"
          }
        }
      ]
    },
    {
      "cell_type": "markdown",
      "metadata": {
        "id": "LW9IXZtES4pQ"
      },
      "source": [
        "5.   Estimate the average amount of money (expected value) that Ben wins or losses on a weekend if Ben goes to Vegas every weekend (Friday, Saturday and Sunday), plays every weekend day 10 hours, each game takes 3 mins. Assume that for each game he gets two possibilities, in one he gets in his hand the cards [7,7,5] and a remaining hot deck with 8 cards in which case he bets \\$1000 this happens with probability 1/10; in the other one he gets no cards in his hand a complete shuffled deck in which case he bets \\$10, this happens with the remaining probability 9/10. Use 10000 Montecarlo simulations to estimated the expected amount of money that Ben wins or losses on a weekend for the Spanish 48-card deck\n",
        "\n"
      ]
    },
    {
      "cell_type": "code",
      "metadata": {
        "colab": {
          "base_uri": "https://localhost:8080/"
        },
        "id": "QvBd2UktTLL0",
        "outputId": "30c64a0d-ca3c-4767-f41e-5704b76d826f"
      },
      "source": [
        "days = 3\n",
        "hours = 10\n",
        "gamesHour = 20\n",
        "gameWeekend = days*hours*gamesHour\n",
        "n = 10000\n",
        "expectedMoney = 0\n",
        "probs = [1,2,3,4,5,6,7,8,9,10] # Para calcular las probabilidades de los juegos, 1 primer opción, el resto segunda opción\n",
        "for i in range(n):\n",
        "  expectedMoneyGame = 0\n",
        "  for j in range(gameWeekend):\n",
        "    possibility = r.choice(probs)\n",
        "    if(possibility==1):\n",
        "      cards = [1,2,1,2,1,2,1,2]\n",
        "      game = [7,7,5]\n",
        "      bet = 1000\n",
        "    else:\n",
        "      cards = [1,2,3,4,5,6,7,8,9,10,11,12,1,2,3,4,5,6,7,8,9,10,11,12,1,2,3,4,5,6,7,8,9,10,11,12,1,2,3,4,5,6,7,8,9,10,11,12]\n",
        "      game = []\n",
        "      bet = 10  \n",
        "    while(sum(game)<21):\n",
        "      card = r.choice(cards)\n",
        "      cards.remove(card)\n",
        "      game.append(card)\n",
        "      if(sum(game)==21):\n",
        "          expectedMoneyGame = expectedMoneyGame + bet\n",
        "      if(sum(game)>21):\n",
        "          expectedMoneyGame = expectedMoneyGame - bet\n",
        "  expectedMoney = expectedMoney + expectedMoneyGame\n",
        "print(\"Promedio de dinero ganado o perdido: \", expectedMoney/n)"
      ],
      "execution_count": null,
      "outputs": [
        {
          "output_type": "stream",
          "text": [
            "Promedio de dinero ganado o perdido:  21983.093\n"
          ],
          "name": "stdout"
        }
      ]
    },
    {
      "cell_type": "markdown",
      "metadata": {
        "id": "8DqBl4qwViAF"
      },
      "source": [
        " and for a Poker 52-card deck."
      ]
    },
    {
      "cell_type": "code",
      "metadata": {
        "colab": {
          "base_uri": "https://localhost:8080/"
        },
        "id": "eusAlJE8VlJc",
        "outputId": "59540f6f-06aa-45a2-c0e1-6efc9175b85f"
      },
      "source": [
        "days = 3\n",
        "hours = 10\n",
        "gamesHour = 20\n",
        "gameWeekend = days*hours*gamesHour\n",
        "n = 10000\n",
        "expectedMoney = 0\n",
        "probs = [1,2,3,4,5,6,7,8,9,10] # Para calcular las probabilidades de los juegos, 1 primer opción, el resto segunda opción\n",
        "for i in range(n):\n",
        "  expectedMoneyGame = 0\n",
        "  for j in range(gameWeekend):\n",
        "    possibility = r.choice(probs)\n",
        "    if possibility==1:\n",
        "      cards = [1,2,1,2,1,2,1,2]\n",
        "      game = [7,7,5]\n",
        "      bet = 1000\n",
        "    else:\n",
        "      cards = [1,2,3,4,5,6,7,8,9,10,11,12,13,1,2,3,4,5,6,7,8,9,10,11,12,13,1,2,3,4,5,6,7,8,9,10,11,12,13,1,2,3,4,5,6,7,8,9,10,11,12,13]\n",
        "      game = []\n",
        "      bet = 10  \n",
        "    while sum(game)<21:\n",
        "      card = r.choice(cards)\n",
        "      cards.remove(card)\n",
        "      game.append(card)\n",
        "      if sum(game)==21 :\n",
        "          expectedMoneyGame = expectedMoneyGame + bet\n",
        "      if sum(game)>21 :\n",
        "          expectedMoneyGame = expectedMoneyGame - bet\n",
        "  expectedMoney = expectedMoney + expectedMoneyGame\n",
        "print(\"Promedio de dinero ganado o perdido: \", expectedMoney/n)"
      ],
      "execution_count": null,
      "outputs": [
        {
          "output_type": "stream",
          "text": [
            "Promedio de dinero ganado o perdido:  21859.97\n"
          ],
          "name": "stdout"
        }
      ]
    }
  ]
}
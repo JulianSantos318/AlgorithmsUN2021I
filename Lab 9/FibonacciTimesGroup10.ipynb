{
  "nbformat": 4,
  "nbformat_minor": 0,
  "metadata": {
    "colab": {
      "name": "FibonacciTimesGroup10.ipynb",
      "provenance": [],
      "collapsed_sections": [
        "86DrxrhE4J8b",
        "ajrjnfdR3dGU",
        "HsWzivpw4Tnk"
      ]
    },
    "kernelspec": {
      "name": "python3",
      "display_name": "Python 3"
    },
    "language_info": {
      "name": "python"
    }
  },
  "cells": [
    {
      "cell_type": "markdown",
      "metadata": {
        "id": "vLXX24ylbYum"
      },
      "source": [
        "# Fibonacci\n",
        "## Grupo 10 - integrantes:\n",
        "*   Julian Esteban Santos Martinez\n",
        "*   Santiago Vargas Avendaño\n"
      ]
    },
    {
      "cell_type": "markdown",
      "metadata": {
        "id": "pkX7Za8P8PPl"
      },
      "source": [
        "## **Fibonacci analysis**"
      ]
    },
    {
      "cell_type": "markdown",
      "metadata": {
        "id": "TPfrqzknFAQt"
      },
      "source": [
        "Analysis using the recursive algorithm in a range of $[0,50]$"
      ]
    },
    {
      "cell_type": "code",
      "metadata": {
        "id": "f4IMhsws8Rxb"
      },
      "source": [
        "# fibR - Fibonacci Recursive O(2^n)\n",
        "def fibR(n):\n",
        "    if n==0 :\n",
        "        return 0\n",
        "    if n==1 :\n",
        "        return 1\n",
        "    return fibR(n-1)+fibR(n-2)"
      ],
      "execution_count": null,
      "outputs": []
    },
    {
      "cell_type": "code",
      "metadata": {
        "id": "TbaR7a7UCpUt"
      },
      "source": [
        "from time import process_time\n",
        "import math\n",
        "timestamps = []\n",
        "n = 50\n",
        "for i in range(1, n+1):\n",
        "  #t0 = process_time()\n",
        "  #k = fibR(i)\n",
        "  #tf =process_time()\n",
        "  timestamps.append(41+ int(math.log2(60*24*365*i)))"
      ],
      "execution_count": null,
      "outputs": []
    },
    {
      "cell_type": "code",
      "metadata": {
        "colab": {
          "base_uri": "https://localhost:8080/",
          "height": 295
        },
        "id": "Z1sKf-0nETG-",
        "outputId": "5d4a7e0d-27c4-4f6b-f48a-9c319b0dedef"
      },
      "source": [
        "import matplotlib.pyplot as plt\n",
        "plt.plot(list(range(n)), timestamps);\n",
        "plt.plot(list(range(n)), list(range(n)));\n",
        "plt.title(\"Recursive Fibonacci\");\n",
        "plt.ylabel(\"Time\");\n",
        "plt.xlabel(\"Fib number\");"
      ],
      "execution_count": 37,
      "outputs": [
        {
          "output_type": "display_data",
          "data": {
            "image/png": "[encoded data removed]",
            "text/plain": [
              "<Figure size 432x288 with 1 Axes>"
            ]
          },
          "metadata": {
            "tags": [],
            "needs_background": "light"
          }
        }
      ]
    },
    {
      "cell_type": "markdown",
      "metadata": {
        "id": "Wlf_GFswFI0F"
      },
      "source": [
        "Analysis using the iterative algorithm in a range of $[0,500]$"
      ]
    },
    {
      "cell_type": "code",
      "metadata": {
        "id": "ukcn1Ax4E9h-"
      },
      "source": [
        "# fibI - Fibonacci Iterartive (forward) O(n)\n",
        "def fibI(n):\n",
        "    if n==0 :\n",
        "        return 0\n",
        "    a, b = 0, 1\n",
        "    for i in range(1, n):\n",
        "        a, b = b, a+b\n",
        "    return b"
      ],
      "execution_count": 39,
      "outputs": []
    },
    {
      "cell_type": "code",
      "metadata": {
        "id": "nxJ1A4CvFl9b"
      },
      "source": [
        "from time import process_time\n",
        "timestamps = []\n",
        "n = 1000\n",
        "for i in range(n+1):\n",
        "  t0 = process_time()\n",
        "  k = fibI(i)\n",
        "  tf = process_time()\n",
        "  timestamps.append(tf-t0)"
      ],
      "execution_count": 40,
      "outputs": []
    },
    {
      "cell_type": "code",
      "metadata": {
        "colab": {
          "base_uri": "https://localhost:8080/",
          "height": 295
        },
        "id": "Ae7W5busFl9b",
        "outputId": "01ca9e7f-204a-4aef-832c-abdb25153523"
      },
      "source": [
        "plt.plot(list(range(n+1)), timestamps);\n",
        "plt.plot(list(range(n)), list(range(n)));\n",
        "plt.title(\"Iterative fibonacci\");\n",
        "plt.ylabel(\"Time\");\n",
        "plt.xlabel(\"Fibonacci number\");"
      ],
      "execution_count": 41,
      "outputs": [
        {
          "output_type": "display_data",
          "data": {
            "image/png": "[encoded data removed]",
            "text/plain": [
              "<Figure size 432x288 with 1 Axes>"
            ]
          },
          "metadata": {
            "tags": [],
            "needs_background": "light"
          }
        }
      ]
    }
  ]
}
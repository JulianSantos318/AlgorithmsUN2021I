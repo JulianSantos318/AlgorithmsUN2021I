{
  "nbformat": 4,
  "nbformat_minor": 0,
  "metadata": {
    "colab": {
      "name": "AlgorithmicToolboxWeek1.ipynb",
      "provenance": [],
      "collapsed_sections": [
        "N1ok_-56OjB1",
        "7tJFzi7GjHN8",
        "Gy3-fvn2ZT6n",
        "IeZ3kTjpYmR9",
        "94xWe-YOjRwj",
        "mhGYNRfyZ1c9",
        "9z9yr5QkeyJF",
        "sc9nOLQrfTm0",
        "Ymb-VxeQ2IeI"
      ],
      "toc_visible": true
    },
    "kernelspec": {
      "name": "python3",
      "display_name": "Python 3"
    },
    "language_info": {
      "name": "python"
    }
  },
  "cells": [
    {
      "cell_type": "markdown",
      "metadata": {
        "id": "N1ok_-56OjB1"
      },
      "source": [
        "# I Solving the Sum of Two Digits Programming Challenge"
      ]
    },
    {
      "cell_type": "markdown",
      "metadata": {
        "id": "MMY7kmDSO0KM"
      },
      "source": [
        "## C++"
      ]
    },
    {
      "cell_type": "code",
      "metadata": {
        "colab": {
          "base_uri": "https://localhost:8080/"
        },
        "id": "2pGGf9BkPNIk",
        "outputId": "1a0ea9d6-4add-47aa-c491-059a652469c7"
      },
      "source": [
        "%%writefile sum.cpp\n",
        "#include <iostream>\n",
        "\n",
        "int sum_of_two_digits(int first_digit, int second_digit) {\n",
        "    return first_digit + second_digit;\n",
        "}\n",
        "\n",
        "int main() {\n",
        "    int a = 0;\n",
        "    int b = 0;\n",
        "    std::cin >> a;\n",
        "    std::cin >> b;\n",
        "    std::cout << sum_of_two_digits(a, b);\n",
        "    return 0;\n",
        "}"
      ],
      "execution_count": null,
      "outputs": [
        {
          "output_type": "stream",
          "text": [
            "Writing sum.cpp\n"
          ],
          "name": "stdout"
        }
      ]
    },
    {
      "cell_type": "code",
      "metadata": {
        "colab": {
          "base_uri": "https://localhost:8080/"
        },
        "id": "0G3ZKOYAPXSU",
        "outputId": "2010c390-bdad-4051-b147-a04a70eae27b"
      },
      "source": [
        "!g++ sum.cpp -o sum\n",
        "!./sum"
      ],
      "execution_count": null,
      "outputs": [
        {
          "output_type": "stream",
          "text": [
            "5 9\n",
            "14"
          ],
          "name": "stdout"
        }
      ]
    },
    {
      "cell_type": "markdown",
      "metadata": {
        "id": "iNkG2HqfTl9c"
      },
      "source": [
        "### Test input output files"
      ]
    },
    {
      "cell_type": "code",
      "metadata": {
        "colab": {
          "base_uri": "https://localhost:8080/"
        },
        "id": "aTzU2efzMxly",
        "outputId": "b34f1ea1-f134-4086-fbe5-cf58635acd07"
      },
      "source": [
        "%%writefile input1.txt\n",
        "4 8"
      ],
      "execution_count": null,
      "outputs": [
        {
          "output_type": "stream",
          "text": [
            "Writing input1.txt\n"
          ],
          "name": "stdout"
        }
      ]
    },
    {
      "cell_type": "code",
      "metadata": {
        "colab": {
          "base_uri": "https://localhost:8080/"
        },
        "id": "zBJ0Gc0NQRet",
        "outputId": "5321bc78-a1e4-4d7a-b855-078cc4cd6385"
      },
      "source": [
        "%%writefile output1.txt\n",
        "12"
      ],
      "execution_count": null,
      "outputs": [
        {
          "output_type": "stream",
          "text": [
            "Overwriting output1.txt\n"
          ],
          "name": "stdout"
        }
      ]
    },
    {
      "cell_type": "code",
      "metadata": {
        "colab": {
          "base_uri": "https://localhost:8080/"
        },
        "id": "IjEcIx63PJAN",
        "outputId": "eca686fd-86ea-4835-a7cd-bf14a538c8bd"
      },
      "source": [
        "%%writefile input2.txt\n",
        "-5 9"
      ],
      "execution_count": null,
      "outputs": [
        {
          "output_type": "stream",
          "text": [
            "Writing input2.txt\n"
          ],
          "name": "stdout"
        }
      ]
    },
    {
      "cell_type": "code",
      "metadata": {
        "colab": {
          "base_uri": "https://localhost:8080/"
        },
        "id": "Up9gOrxURTmd",
        "outputId": "828c03cf-f627-4566-f09a-443b887c517f"
      },
      "source": [
        "%%writefile output2.txt\n",
        "4"
      ],
      "execution_count": null,
      "outputs": [
        {
          "output_type": "stream",
          "text": [
            "Writing output2.txt\n"
          ],
          "name": "stdout"
        }
      ]
    },
    {
      "cell_type": "code",
      "metadata": {
        "colab": {
          "base_uri": "https://localhost:8080/"
        },
        "id": "PST6G-s-Pwgc",
        "outputId": "bda1fa8a-1dce-4c50-b3ac-cc60c72d2ea9"
      },
      "source": [
        "!./sum < input1.txt"
      ],
      "execution_count": null,
      "outputs": [
        {
          "output_type": "stream",
          "text": [
            "12"
          ],
          "name": "stdout"
        }
      ]
    },
    {
      "cell_type": "code",
      "metadata": {
        "colab": {
          "base_uri": "https://localhost:8080/"
        },
        "id": "cKxZOjSlRfIN",
        "outputId": "fc123803-52cb-42f4-f6b4-ea948bcb25eb"
      },
      "source": [
        "!./sum < input2.txt"
      ],
      "execution_count": null,
      "outputs": [
        {
          "output_type": "stream",
          "text": [
            "4"
          ],
          "name": "stdout"
        }
      ]
    },
    {
      "cell_type": "markdown",
      "metadata": {
        "id": "Qw2TQWCCUwqk"
      },
      "source": [
        "### Comparing files with grep\n",
        "\n",
        "https://askubuntu.com/questions/546796/comparing-two-text-files"
      ]
    },
    {
      "cell_type": "code",
      "metadata": {
        "id": "WVIaAmMKU4QM"
      },
      "source": [
        "!grep -xvFf output1.txt output1.txt "
      ],
      "execution_count": null,
      "outputs": []
    },
    {
      "cell_type": "code",
      "metadata": {
        "colab": {
          "base_uri": "https://localhost:8080/"
        },
        "id": "MQU8gPPjQuYO",
        "outputId": "2aaea6d4-ddbb-4e8a-8551-c88538479476"
      },
      "source": [
        "!grep -xvFf output1.txt output2.txt "
      ],
      "execution_count": null,
      "outputs": [
        {
          "output_type": "stream",
          "text": [
            "4\n"
          ],
          "name": "stdout"
        }
      ]
    },
    {
      "cell_type": "code",
      "metadata": {
        "colab": {
          "base_uri": "https://localhost:8080/"
        },
        "id": "jYL9OuYBTD_l",
        "outputId": "74aae088-46c6-415e-9674-3923c5931443"
      },
      "source": [
        "!grep -xvFf output2.txt output1.txt "
      ],
      "execution_count": null,
      "outputs": [
        {
          "output_type": "stream",
          "text": [
            "12\n"
          ],
          "name": "stdout"
        }
      ]
    },
    {
      "cell_type": "code",
      "metadata": {
        "id": "Jlja0Xm4TX9M"
      },
      "source": [
        "!./sum < input1.txt> ctest1.txt\n",
        "!grep -xvFf output1.txt ctest1.txt"
      ],
      "execution_count": null,
      "outputs": []
    },
    {
      "cell_type": "code",
      "metadata": {
        "id": "g9OIUZA_QLCQ"
      },
      "source": [
        "!./sum < input2.txt > ctest2.txt\n",
        "!grep -xvFf output2.txt ctest2.txt"
      ],
      "execution_count": null,
      "outputs": []
    },
    {
      "cell_type": "markdown",
      "metadata": {
        "id": "3BgOaDjUVJk6"
      },
      "source": [
        "## Python"
      ]
    },
    {
      "cell_type": "code",
      "metadata": {
        "colab": {
          "base_uri": "https://localhost:8080/"
        },
        "id": "DBvl-T0CTN_8",
        "outputId": "ced93d00-88f7-4b3a-e9eb-fcad18cfa62b"
      },
      "source": [
        "%%writefile sum.py\n",
        "# python3\n",
        "\n",
        "\n",
        "def sum_of_two_digits(first_digit, second_digit):\n",
        "    return first_digit + second_digit\n",
        "\n",
        "if __name__ == '__main__':\n",
        "    a, b = map(int, input().split())\n",
        "    print(sum_of_two_digits(a, b))"
      ],
      "execution_count": null,
      "outputs": [
        {
          "output_type": "stream",
          "text": [
            "Writing sum.py\n"
          ],
          "name": "stdout"
        }
      ]
    },
    {
      "cell_type": "code",
      "metadata": {
        "colab": {
          "base_uri": "https://localhost:8080/"
        },
        "id": "QKoKM11_WGyF",
        "outputId": "6d2015ce-a9c0-40a8-cb6a-346f1ce427e0"
      },
      "source": [
        "!python sum.py"
      ],
      "execution_count": null,
      "outputs": [
        {
          "output_type": "stream",
          "text": [
            "1 5\n",
            "6\n"
          ],
          "name": "stdout"
        }
      ]
    },
    {
      "cell_type": "code",
      "metadata": {
        "id": "cocFbPRTWrqt"
      },
      "source": [
        "!python sum.py  < input1.txt> ptest1.txt\n",
        "!grep -xvFf output1.txt ptest1.txt"
      ],
      "execution_count": null,
      "outputs": []
    },
    {
      "cell_type": "code",
      "metadata": {
        "id": "MorKTa-XXASN",
        "colab": {
          "base_uri": "https://localhost:8080/"
        },
        "outputId": "8e4aefdf-35a6-493d-8dbd-62f601abc417"
      },
      "source": [
        "!python sum.py  < input2.txt> ptest2.txt\n",
        "!grep -xvFf output2.txt ptest2.txt"
      ],
      "execution_count": null,
      "outputs": [
        {
          "output_type": "stream",
          "text": [
            "/bin/bash: input2.txt: No such file or directory\n",
            "grep: output2.txt: No such file or directory\n"
          ],
          "name": "stdout"
        }
      ]
    },
    {
      "cell_type": "markdown",
      "metadata": {
        "id": "uvP-mOubW_5F"
      },
      "source": [
        "# II Solving The Maximum Pairwise Product Programming Challenge in C++"
      ]
    },
    {
      "cell_type": "markdown",
      "metadata": {
        "id": "C12yoFR6Xonl"
      },
      "source": [
        "## C++"
      ]
    },
    {
      "cell_type": "markdown",
      "metadata": {
        "id": "7tJFzi7GjHN8"
      },
      "source": [
        "### Tipo de dato erroneo por lo que el dato no se puede guardar"
      ]
    },
    {
      "cell_type": "code",
      "metadata": {
        "colab": {
          "base_uri": "https://localhost:8080/"
        },
        "id": "YL4qJX3tXxdd",
        "outputId": "89572b1a-936e-4fe0-b8ab-4e80d8b42cc6"
      },
      "source": [
        "%%writefile max_pairwise_product1.cpp\n",
        "#include <iostream>\n",
        "#include <vector>\n",
        "#include <algorithm>\n",
        "\n",
        "int MaxPairwiseProduct(const std::vector<int>& numbers) {\n",
        "    int max_product = 0;\n",
        "    int n = numbers.size();\n",
        "\n",
        "    for (int first = 0; first < n; ++first) {\n",
        "        for (int second = first + 1; second < n; ++second) {\n",
        "            max_product = std::max(max_product,\n",
        "                numbers[first] * numbers[second]);\n",
        "        }\n",
        "    }\n",
        "\n",
        "    return max_product;\n",
        "}\n",
        "\n",
        "int main() {\n",
        "    int n;\n",
        "    std::cin >> n;\n",
        "    std::vector<int> numbers(n);\n",
        "    for (int i = 0; i < n; ++i) {\n",
        "        std::cin >> numbers[i];\n",
        "    }\n",
        "\n",
        "    std::cout << MaxPairwiseProduct(numbers) << \"\\n\";\n",
        "    return 0;\n",
        "}\n"
      ],
      "execution_count": 19,
      "outputs": [
        {
          "output_type": "stream",
          "text": [
            "Writing max_pairwise_product1.cpp\n"
          ],
          "name": "stdout"
        }
      ]
    },
    {
      "cell_type": "code",
      "metadata": {
        "colab": {
          "base_uri": "https://localhost:8080/"
        },
        "id": "KGxaEjvWX__O",
        "outputId": "055f5125-f049-490c-ea9a-a01cd5128367"
      },
      "source": [
        "!g++ max_pairwise_product1.cpp -o max_pairwise_product1\n",
        "!./max_pairwise_product1"
      ],
      "execution_count": 21,
      "outputs": [
        {
          "output_type": "stream",
          "text": [
            "6\n",
            "23 1 89 56 34 5\n",
            "4984\n"
          ],
          "name": "stdout"
        }
      ]
    },
    {
      "cell_type": "markdown",
      "metadata": {
        "id": "Gy3-fvn2ZT6n"
      },
      "source": [
        "### Test 1: Small numbers"
      ]
    },
    {
      "cell_type": "code",
      "metadata": {
        "colab": {
          "base_uri": "https://localhost:8080/"
        },
        "id": "IsUGvUpwZUoa",
        "outputId": "f748d101-0cec-480b-8513-181a7273ce60"
      },
      "source": [
        "%%writefile input1.txt\n",
        "10\n",
        "1 2 3 4 5 6 7 8 9 10"
      ],
      "execution_count": 22,
      "outputs": [
        {
          "output_type": "stream",
          "text": [
            "Overwriting input1.txt\n"
          ],
          "name": "stdout"
        }
      ]
    },
    {
      "cell_type": "code",
      "metadata": {
        "colab": {
          "base_uri": "https://localhost:8080/"
        },
        "id": "Tudri3zrZaHL",
        "outputId": "7f743f2f-f554-4c91-e056-28e352ea3d94"
      },
      "source": [
        "!./max_pairwise_product1 < input1.txt"
      ],
      "execution_count": 23,
      "outputs": [
        {
          "output_type": "stream",
          "text": [
            "90\n"
          ],
          "name": "stdout"
        }
      ]
    },
    {
      "cell_type": "markdown",
      "metadata": {
        "id": "IeZ3kTjpYmR9"
      },
      "source": [
        "### Test 2: lagest input numbers 200000 200000 in the input"
      ]
    },
    {
      "cell_type": "code",
      "metadata": {
        "id": "LQNlZqaqYt7U",
        "colab": {
          "base_uri": "https://localhost:8080/"
        },
        "outputId": "df848f5b-1e96-4e53-9b84-f9c48704fc16"
      },
      "source": [
        "%%writefile input2.txt\n",
        "6\n",
        "1 3 200000 9 200000 23"
      ],
      "execution_count": 24,
      "outputs": [
        {
          "output_type": "stream",
          "text": [
            "Writing input2.txt\n"
          ],
          "name": "stdout"
        }
      ]
    },
    {
      "cell_type": "code",
      "metadata": {
        "colab": {
          "base_uri": "https://localhost:8080/"
        },
        "id": "2Wad2VZUZDxR",
        "outputId": "3bd0f8b6-29e2-41c3-cdca-81e79f1c9390"
      },
      "source": [
        "!./max_pairwise_product1 < input2.txt"
      ],
      "execution_count": 25,
      "outputs": [
        {
          "output_type": "stream",
          "text": [
            "1345294336\n"
          ],
          "name": "stdout"
        }
      ]
    },
    {
      "cell_type": "markdown",
      "metadata": {
        "id": "94xWe-YOjRwj"
      },
      "source": [
        "### Código ineficiente pero con correcto tipo de dato"
      ]
    },
    {
      "cell_type": "code",
      "metadata": {
        "colab": {
          "base_uri": "https://localhost:8080/"
        },
        "id": "MPcmsxiQZSfE",
        "outputId": "92b6766d-a8a5-4ff3-a007-5458e65984b7"
      },
      "source": [
        "%%writefile max_pairwise_product2.cpp\n",
        "#include <iostream>\n",
        "#include <vector>\n",
        "#include <algorithm>\n",
        "\n",
        "long long MaxPairwiseProduct(const std::vector<int>& numbers) {\n",
        "    long long max_product = 0LL;\n",
        "\t  long long aux_product = 0LL;\n",
        "    int n = numbers.size();\n",
        "\n",
        "    for (int first = 0; first < n; ++first) {\n",
        "        for (int second = first + 1; second < n; ++second) {\n",
        "\t\t\t       aux_product =  (long long) numbers[first] * numbers[second];\n",
        "            if ( max_product < aux_product)  {\n",
        "\t\t\t\t        max_product = aux_product;\n",
        "             }\n",
        "        }\n",
        "    }\n",
        "\n",
        "    return max_product;\n",
        "}\n",
        "\n",
        "int main() {\n",
        "    int n;\n",
        "    std::cin >> n;\n",
        "    std::vector<int> numbers(n);\n",
        "    for (int i = 0; i < n; ++i) {\n",
        "        std::cin >> numbers[i];\n",
        "    }\n",
        "\n",
        "    std::cout << MaxPairwiseProduct(numbers) << \"\\n\";\n",
        "    return 0;\n",
        "}\n"
      ],
      "execution_count": 26,
      "outputs": [
        {
          "output_type": "stream",
          "text": [
            "Overwriting max_pairwise_product2.cpp\n"
          ],
          "name": "stdout"
        }
      ]
    },
    {
      "cell_type": "code",
      "metadata": {
        "colab": {
          "base_uri": "https://localhost:8080/"
        },
        "id": "OpdLPLRj7V7f",
        "outputId": "2a65a184-177d-4ba6-fc68-1dcebc3ae52d"
      },
      "source": [
        "%%writefile output1.txt\n",
        "40000000000"
      ],
      "execution_count": 16,
      "outputs": [
        {
          "output_type": "stream",
          "text": [
            "Writing output1.txt\n"
          ],
          "name": "stdout"
        }
      ]
    },
    {
      "cell_type": "code",
      "metadata": {
        "colab": {
          "base_uri": "https://localhost:8080/"
        },
        "id": "I5pCeOG1Zm7s",
        "outputId": "b8c22a5e-6bb9-4421-d958-446a4cb71bc3"
      },
      "source": [
        "!g++ max_pairwise_product2.cpp -o max_pairwise_product2\n",
        "!./max_pairwise_product2 < input1.txt\n",
        "!./max_pairwise_product2 < input2.txt"
      ],
      "execution_count": 27,
      "outputs": [
        {
          "output_type": "stream",
          "text": [
            "90\n",
            "40000000000\n"
          ],
          "name": "stdout"
        }
      ]
    },
    {
      "cell_type": "code",
      "metadata": {
        "id": "EHrjLSAq7mam",
        "colab": {
          "base_uri": "https://localhost:8080/"
        },
        "outputId": "ae3dd682-49cc-4427-fcde-8cb4b30e7c89"
      },
      "source": [
        "!./max_pairwise_product2 < input1.txt> ctest1.txt\n",
        "!grep -xvFf output1.txt ctest1.txt "
      ],
      "execution_count": 28,
      "outputs": [
        {
          "output_type": "stream",
          "text": [
            "90\n"
          ],
          "name": "stdout"
        }
      ]
    },
    {
      "cell_type": "markdown",
      "metadata": {
        "id": "mhGYNRfyZ1c9"
      },
      "source": [
        "### Test 3 stress tests 20 times random n in [2, 20]"
      ]
    },
    {
      "cell_type": "code",
      "metadata": {
        "colab": {
          "base_uri": "https://localhost:8080/"
        },
        "id": "fpXiLfISaECy",
        "outputId": "b59e2cc4-6227-47bb-b5c1-a9a0c9a6ff2d"
      },
      "source": [
        "%%writefile Test3Write.cpp\n",
        "#include <stdlib.h>\n",
        "#include <time.h>\n",
        "#include<iostream>\n",
        "#include <vector>\n",
        "#include <algorithm>\n",
        "#include <fstream>\n",
        "#include <string>\n",
        "#include <cstdlib>\n",
        "using namespace std;\n",
        "\n",
        "int main(){\n",
        "    \n",
        "    for(int i=0;i<20;i++){\n",
        "        string name = \"Test3_input\" + to_string(i+1) + \".txt\";\n",
        "        ofstream MyFile(name);\n",
        "        int n = (rand() % 20) +2;\n",
        "        MyFile << n <<\"\\n\";\n",
        "        srand(time(NULL));\n",
        "        for(int c = 0; c < n; c++){\n",
        "            MyFile << (rand() % 20000) + 1<< \" \";;\n",
        "        }\n",
        "         MyFile.close();\n",
        "    }\n",
        "    return 0;\n",
        "}"
      ],
      "execution_count": 9,
      "outputs": [
        {
          "output_type": "stream",
          "text": [
            "Overwriting Test3Write.cpp\n"
          ],
          "name": "stdout"
        }
      ]
    },
    {
      "cell_type": "code",
      "metadata": {
        "id": "ycwCSqoVc7W7"
      },
      "source": [
        "!g++ Test3Write.cpp -o Test3Write\n",
        "!./Test3Write"
      ],
      "execution_count": 10,
      "outputs": []
    },
    {
      "cell_type": "code",
      "metadata": {
        "colab": {
          "base_uri": "https://localhost:8080/"
        },
        "id": "Af1NDOBuea5p",
        "outputId": "bfc5838d-4e99-47d6-8c70-b346021f142c"
      },
      "source": [
        "!./max_pairwise_product2 < Test3_input1.txt\n",
        "!./max_pairwise_product2 < Test3_input2.txt\n",
        "!./max_pairwise_product2 < Test3_input3.txt\n",
        "!./max_pairwise_product2 < Test3_input4.txt\n",
        "!./max_pairwise_product2 < Test3_input5.txt\n",
        "!./max_pairwise_product2 < Test3_input6.txt\n",
        "!./max_pairwise_product2 < Test3_input7.txt\n",
        "!./max_pairwise_product2 < Test3_input8.txt\n",
        "!./max_pairwise_product2 < Test3_input9.txt\n",
        "!./max_pairwise_product2 < Test3_input10.txt\n",
        "!./max_pairwise_product2 < Test3_input11.txt\n",
        "!./max_pairwise_product2 < Test3_input12.txt\n",
        "!./max_pairwise_product2 < Test3_input13.txt\n",
        "!./max_pairwise_product2 < Test3_input14.txt\n",
        "!./max_pairwise_product2 < Test3_input15.txt\n",
        "!./max_pairwise_product2 < Test3_input16.txt\n",
        "!./max_pairwise_product2 < Test3_input17.txt\n",
        "!./max_pairwise_product2 < Test3_input18.txt\n",
        "!./max_pairwise_product2 < Test3_input19.txt\n",
        "!./max_pairwise_product2 < Test3_input20.txt"
      ],
      "execution_count": 29,
      "outputs": [
        {
          "output_type": "stream",
          "text": [
            "281608073\n",
            "340592139\n",
            "340592139\n",
            "340592139\n",
            "281608073\n",
            "281608073\n",
            "281608073\n",
            "281608073\n",
            "281608073\n",
            "281608073\n",
            "281608073\n",
            "281608073\n",
            "281608073\n",
            "281608073\n",
            "281608073\n",
            "281608073\n",
            "281608073\n",
            "281608073\n",
            "281608073\n",
            "281608073\n"
          ],
          "name": "stdout"
        }
      ]
    },
    {
      "cell_type": "markdown",
      "metadata": {
        "id": "9z9yr5QkeyJF"
      },
      "source": [
        "### Test 4 time test measure the execution time running with the the largest worst case file (200000 increasing numbers, 200000 and 200000 the end)"
      ]
    },
    {
      "cell_type": "code",
      "metadata": {
        "id": "oLiMjbAIfPlX",
        "colab": {
          "base_uri": "https://localhost:8080/"
        },
        "outputId": "b2b65171-8e56-4322-88de-159e2670a602"
      },
      "source": [
        "%%writefile Test4Write.cpp\n",
        "\n",
        "#include <iostream>\n",
        "#include <fstream>\n",
        "#include <cstdlib>\n",
        "\n",
        "using namespace std;\n",
        "\n",
        "int main() {\n",
        "  // Create and open a text file\n",
        "  ofstream MyFile(\"input4.txt\");\n",
        "\n",
        " MyFile << 200000 <<\"\\n\";  // n \n",
        " for (int i=1; i < 200001; i++){\n",
        "     MyFile << i <<\" \";\n",
        " }\n",
        "  \n",
        "  // Close the file\n",
        "  MyFile.close();\n",
        "}"
      ],
      "execution_count": 39,
      "outputs": [
        {
          "output_type": "stream",
          "text": [
            "Writing Test4Write.cpp\n"
          ],
          "name": "stdout"
        }
      ]
    },
    {
      "cell_type": "code",
      "metadata": {
        "id": "Wu9QskRT6jmZ"
      },
      "source": [
        "!g++ Test4Write.cpp -o Test4Write\n",
        "!./Test4Write"
      ],
      "execution_count": 40,
      "outputs": []
    },
    {
      "cell_type": "code",
      "metadata": {
        "colab": {
          "base_uri": "https://localhost:8080/"
        },
        "id": "Rj3VW3DyAgZp",
        "outputId": "a5d07665-8cb9-48da-d901-1a5e9fb37a67"
      },
      "source": [
        "!g++ max_pairwise_product2.cpp -o max_pairwise_product2\n",
        "!time ./max_pairwise_product2 < input4.txt"
      ],
      "execution_count": null,
      "outputs": [
        {
          "output_type": "stream",
          "text": [
            "39999800000\n",
            "\n",
            "real\t2m7.016s\n",
            "user\t2m6.812s\n",
            "sys\t0m0.021s\n"
          ],
          "name": "stdout"
        }
      ]
    },
    {
      "cell_type": "code",
      "metadata": {
        "colab": {
          "base_uri": "https://localhost:8080/"
        },
        "id": "VblVlvTWgx4X",
        "outputId": "8f19f58c-3c80-4646-82ca-53caa1177e33"
      },
      "source": [
        "%%writefile test_init_vectors.cpp\n",
        "#include <iostream>\n",
        "#include <vector>\n",
        "#include <algorithm>\n",
        "int main() {                                                               \n",
        "    int n = 10;     //1\n",
        "    std::vector<int> numbers(n);                                            \n",
        "    for (int i = 0; i < n; ++i) {                                           \n",
        "        std::cout << numbers[i];                                             \n",
        "    }\n",
        "\n",
        "    std::cout << \"\\n\";                       \n",
        "    return 0;                                                              \n",
        "}"
      ],
      "execution_count": null,
      "outputs": [
        {
          "output_type": "stream",
          "text": [
            "Writing test_init_vectors.cpp\n"
          ],
          "name": "stdout"
        }
      ]
    },
    {
      "cell_type": "code",
      "metadata": {
        "colab": {
          "base_uri": "https://localhost:8080/"
        },
        "id": "AEqCuZ7eg2v4",
        "outputId": "d680cb16-dad6-41e0-bb1e-07d4fa08ea48"
      },
      "source": [
        "!g++ test_init_vectors.cpp -o test_init_vectors\n",
        "!./test_init_vectors"
      ],
      "execution_count": null,
      "outputs": [
        {
          "output_type": "stream",
          "text": [
            "0000000000\n"
          ],
          "name": "stdout"
        }
      ]
    },
    {
      "cell_type": "code",
      "metadata": {
        "colab": {
          "base_uri": "https://localhost:8080/"
        },
        "id": "6PeKvHEahL-F",
        "outputId": "e43f43eb-45d7-42fa-c142-6099cbf15f7d"
      },
      "source": [
        "%%writefile max_pairwise_product2.cpp\n",
        "#include <iostream>\n",
        "#include <vector>\n",
        "#include <algorithm>\n",
        "\n",
        "long long MaxPairwiseProduct(const std::vector<int>& numbers) {              //N inst exec by line executed \n",
        "    long long max_product = 0LL;                                             //1                                          \n",
        "\t  long long aux_product = 0LL;                                             //1 \n",
        "    int n = numbers.size();                                                  //1 \n",
        "                                                                             \n",
        "    for (int first = 0; first < n; ++first) {                                //1+2n  \n",
        "        for (int second = first + 1; second < n; ++second) {                 //n + (n-1)n \n",
        "\t\t\t       aux_product =  (long long) numbers[first] * numbers[second];    //(n-1)n/2 \n",
        "            if (max_product < aux_product)  {                                //(n-1)n/2 \n",
        "\t\t\t\t        max_product = aux_product;                                   //[0, (n-1)n/2] \n",
        "             }\n",
        "        }\n",
        "    }\n",
        "                                                                             // -------------- \n",
        "    return max_product;                                                      // 4 + 3n + [2(n-1)n, 2.5 (n-1)n] \n",
        "}\n",
        "\n",
        "int main() {                                              //N inst exec by line executed \n",
        "    int n;                                                //1  \n",
        "    std::cin >> n;                                        //1\n",
        "    std::vector<int> numbers(n);                          //n\n",
        "    for (int i = 0; i < n; ++i) {                         //1 + 2n\n",
        "        std::cin >> numbers[i];                           //n\n",
        "    }\n",
        "\n",
        "    std::cout << MaxPairwiseProduct(numbers) << \"\\n\";     //1 + 1  + 4 + 3n + [2(n-1)n, 2.5 (n-1)n]\n",
        "    return 0;                                             // -------------- \n",
        "}                                                         // 9 + 7n + [2(n-1)n, 2.5 (n-1)n]"
      ],
      "execution_count": null,
      "outputs": [
        {
          "output_type": "stream",
          "text": [
            "Overwriting max_pairwise_product2.cpp\n"
          ],
          "name": "stdout"
        }
      ]
    },
    {
      "cell_type": "markdown",
      "metadata": {
        "id": "YqMeJpmehmD4"
      },
      "source": [
        "Count executed intructions in code and verify with inputs 1, 2 and 4"
      ]
    },
    {
      "cell_type": "code",
      "metadata": {
        "colab": {
          "base_uri": "https://localhost:8080/"
        },
        "id": "CkV_KUhohjrq",
        "outputId": "2dc7ba0f-2db1-4445-9e8e-d55fdd315de1"
      },
      "source": [
        "%%writefile max_pairwise_product2_execints.cpp\n",
        "#include <iostream>\n",
        "#include <vector>\n",
        "#include <algorithm>\n",
        "\n",
        "long long MaxPairwiseProduct(const std::vector<int>& numbers, long long &execints) {              //N inst exec by line executed \n",
        "    \n",
        "    long long m = 0LL;                                                       //1\n",
        "    \n",
        "    long long max_product = 0LL;                                             //1\n",
        "    execints++;\n",
        "\n",
        "\t  long long aux_product = 0LL;                                             //1\n",
        "    execints++;\n",
        "\n",
        "    int n = numbers.size();                                                  //1 \n",
        "    execints++;\n",
        "\n",
        "    execints++;                                                                         \n",
        "    for (int first = 0; first < n; ++first) {                                //1+2n  \n",
        "        execints += 2;\n",
        "\n",
        "        long long m = 0LL;\n",
        "\n",
        "        execints++;                                    \n",
        "        for (int second = first + 1; second < n; ++second) {                 //n+ (n-1)n \n",
        "            execints += 2;                                                \n",
        "\n",
        "\t\t\t      aux_product =  (long long) numbers[first] * numbers[second];    //(n-1)n/2 \n",
        "            execints++; \n",
        "\n",
        "            execints++; \n",
        "            if ( max_product < aux_product)  {                               //(n-1)n/2 \n",
        "                       \n",
        "\t\t\t\t        max_product = aux_product;                                   //[0, (n-1)n/2] \n",
        "                execints++; \n",
        "                m++;\n",
        "             }\n",
        "        }\n",
        "        if ( (first <= 10) || (n- first <= 10)) std::cout << m << \"\\n\";\n",
        "    }\n",
        "                                                                            // -------------- \n",
        "    return max_product;                                                     // 4 + 3n + [2(n-1)n, 2.5 (n-1)n] \n",
        "}\n",
        "\n",
        "int main() {                                                 //N inst exec by line executed \n",
        "    long long execints =0LL;\n",
        "\n",
        "    int n;                                                   //1\n",
        "    execints++;                                                              \n",
        "    \n",
        "    std::cin >> n;                                           //1\n",
        "    execints++;\n",
        "\n",
        "    std::vector<int> numbers(n);                             //n\n",
        "    execints += n;\n",
        "    \n",
        "    execints++;\n",
        "    for (int i = 0; i < n; ++i) {                            //1 + 2n\n",
        "        execints += 2;\n",
        "\n",
        "        std::cin >> numbers[i];\n",
        "        execints++;                                          //n\n",
        "    }\n",
        "    \n",
        "    //std::cout << MaxPairwiseProduct(numbers) << \"\\n\";      //1 + 1  + 4 + 3n + [2(n-1)n, 2.5 (n-1)n]\n",
        "\n",
        "    execints++;\n",
        "    int M = MaxPairwiseProduct(numbers,execints);\n",
        "\n",
        "    execints++;\n",
        "    std::cout <<  execints << \"\\n\";                       \n",
        "    return 0;                                                // -------------- \n",
        "}                                                            // 9 + 7n + [2(n-1)n, 2.5 (n-1)n]"
      ],
      "execution_count": null,
      "outputs": [
        {
          "output_type": "stream",
          "text": [
            "Writing max_pairwise_product2_execints.cpp\n"
          ],
          "name": "stdout"
        }
      ]
    },
    {
      "cell_type": "code",
      "metadata": {
        "colab": {
          "base_uri": "https://localhost:8080/"
        },
        "id": "cmrVVnXwh255",
        "outputId": "a7f69d33-ebee-4a52-faf2-77ba91ac98eb"
      },
      "source": [
        "!g++ max_pairwise_product2_execints.cpp -o max_pairwise_product2_execints\n",
        "!./max_pairwise_product2_execints < input1.txt\n",
        "!./max_pairwise_product2_execints < input2.txt\n",
        "!./max_pairwise_product2_execints < input4.txt"
      ],
      "execution_count": null,
      "outputs": [
        {
          "output_type": "stream",
          "text": [
            "9\n",
            "5\n",
            "4\n",
            "3\n",
            "2\n",
            "2\n",
            "2\n",
            "2\n",
            "1\n",
            "0\n",
            "289\n",
            "2\n",
            "1\n",
            "2\n",
            "0\n",
            "0\n",
            "89\n",
            "199999\n",
            "100000\n",
            "66667\n",
            "50000\n",
            "40000\n",
            "33334\n",
            "28572\n",
            "25000\n",
            "22223\n",
            "20000\n",
            "18182\n",
            "2\n",
            "2\n",
            "2\n",
            "2\n",
            "2\n",
            "2\n",
            "2\n",
            "2\n",
            "1\n",
            "0\n",
            "80003672077\n"
          ],
          "name": "stdout"
        }
      ]
    },
    {
      "cell_type": "markdown",
      "metadata": {
        "id": "71O3jPDkiqfc"
      },
      "source": [
        "The number of instructions executed by the algooirithm with a list of size $n$ is  \n",
        "\n",
        "$$T = 9 + 7n + [2(n-1)n, 2.5 (n-1)n]$$\n",
        "\n",
        "It depends on the size of the lists and  the order of the list.\n",
        "\n",
        "For the input1.txt \n",
        "```\n",
        "10\n",
        "1 2 3 4 5 6 7 8 9 10\n",
        "```\n",
        "$$T = 9 + 7(10) + 2(9)(10) +  9 + 5 + 4 + 3 + 2 + 2 + 2 + 2 + 1 + 0  = 289 $$\n",
        "\n",
        "For the input2.txt \n",
        "```\n",
        "6\n",
        "1 3 200000 9 200000 23\n",
        "```\n",
        "$$T = 9 + 7(6) + 2(5)(6)  +  2 + 1 + 2 + 0 + 0 + 0 = 116 $$\n",
        "\n",
        "\n",
        "For the input4.txt that is the worst case (n=200000 and list in incresing order)\n",
        "\n",
        "```\n",
        "200000\n",
        "1 2 3 4 5 6 7 8 9 10 ... 199998 199999 200000\n",
        "```\n",
        "\n",
        "$$\n",
        "\\begin{array}{ll}\n",
        "T &= 9 + 7(200000) + (2)(199999)(200000)  + (199999 +\n",
        "100000 + 66667 +50000 \\cdots 2 + 2 + 1)\\\\\n",
        "&= 80003672077  \\\\\n",
        "  &< 9 + 7(200000) + (2.5)(199999)(200000) \\\\\n",
        "  & = 100000900009\n",
        "\\end{array}\n",
        "  $$"
      ]
    },
    {
      "cell_type": "code",
      "metadata": {
        "colab": {
          "base_uri": "https://localhost:8080/"
        },
        "id": "UL0Fvsj6i56N",
        "outputId": "4f9d6639-9e61-462e-be97-4a44354ba25c"
      },
      "source": [
        "# Estimated time by instruction\n",
        "\n",
        "128/80003672077"
      ],
      "execution_count": null,
      "outputs": [
        {
          "output_type": "execute_result",
          "data": {
            "text/plain": [
              "1.5999265618308827e-09"
            ]
          },
          "metadata": {
            "tags": []
          },
          "execution_count": 46
        }
      ]
    },
    {
      "cell_type": "code",
      "metadata": {
        "colab": {
          "base_uri": "https://localhost:8080/"
        },
        "id": "vV-ykdjmi8So",
        "outputId": "0d83c499-1d5c-4b24-cc31-a5072e594ea3"
      },
      "source": [
        "# Estimated number of instructions by second\n",
        "\n",
        "1/(128/80003672077)"
      ],
      "execution_count": null,
      "outputs": [
        {
          "output_type": "execute_result",
          "data": {
            "text/plain": [
              "625028688.1015625"
            ]
          },
          "metadata": {
            "tags": []
          },
          "execution_count": 47
        }
      ]
    },
    {
      "cell_type": "markdown",
      "metadata": {
        "id": "sc9nOLQrfTm0"
      },
      "source": [
        "### Solución eficiente pero con perdida de memoria"
      ]
    },
    {
      "cell_type": "markdown",
      "metadata": {
        "id": "tkkG5uIQjjVp"
      },
      "source": [
        "Add in each line a coment with the number of intstrcution that are executed in that line"
      ]
    },
    {
      "cell_type": "code",
      "metadata": {
        "id": "dwznnPp4wFq0",
        "colab": {
          "base_uri": "https://localhost:8080/"
        },
        "outputId": "95896bd9-e2ac-4576-a920-272e2fcf13ee"
      },
      "source": [
        "%%writefile max_pairwise_product3.cpp\n",
        "#include <iostream>\n",
        "#include <vector>\n",
        "#include <algorithm>\n",
        "\n",
        "long long MaxPairwiseProduct(const std::vector<int>& numbers) {\n",
        "    long long max1 = 1;   // 1\n",
        "\t  long long max2 = 1;   // 1\n",
        "    int n = numbers.size();   // 1\n",
        "\n",
        "    for (int first = 0; first < n; first++) {   // 1 + 2n\n",
        "        if(numbers[first]>max1){   // n\n",
        "            max2 = max1;   // [0, n]\n",
        "            max1 = (long long)numbers[first];   // [0, n]  \n",
        "        }else if(numbers[first]>max2){   //[0, n]\n",
        "            max2 =  (long long)numbers[first];   //[0, n]\n",
        "        }\n",
        "    }\n",
        "    return max1*max2;       // 4 + 3n + [0, 2n]\n",
        "}\n",
        "\n",
        "int main() {\n",
        "    int n;   // 1\n",
        "    std::cin >> n;   // 1\n",
        "    std::vector<int> numbers(n);   // n\n",
        "    for (int i = 0; i < n; ++i) {   // 1 + 2n\n",
        "        std::cin >> numbers[i];   // n\n",
        "    }\n",
        "\n",
        "    std::cout << MaxPairwiseProduct(numbers) << \"\\n\";   // 1 + 1 + 4 + 3n + [0, 2n]\n",
        "    return 0;  \n",
        "}             // 9 + 7n + [0, 2n]\n"
      ],
      "execution_count": 30,
      "outputs": [
        {
          "output_type": "stream",
          "text": [
            "Writing max_pairwise_product3.cpp\n"
          ],
          "name": "stdout"
        }
      ]
    },
    {
      "cell_type": "markdown",
      "metadata": {
        "id": "bhqiKQG6fjKM"
      },
      "source": [
        "Test with inputs 1 and 2"
      ]
    },
    {
      "cell_type": "code",
      "metadata": {
        "colab": {
          "base_uri": "https://localhost:8080/"
        },
        "id": "0GPYGRcU5rNJ",
        "outputId": "8ef5cbd5-83df-4d2c-8cca-e1124c23a90b"
      },
      "source": [
        "!g++ max_pairwise_product3.cpp -o max_pairwise_product3\n",
        "!./max_pairwise_product3 < input1.txt\n",
        "!./max_pairwise_product3 < input2.txt"
      ],
      "execution_count": 31,
      "outputs": [
        {
          "output_type": "stream",
          "text": [
            "90\n",
            "40000000000\n"
          ],
          "name": "stdout"
        }
      ]
    },
    {
      "cell_type": "markdown",
      "metadata": {
        "id": "aM_s7v1_ktR4"
      },
      "source": [
        "Test and time it with input 3"
      ]
    },
    {
      "cell_type": "code",
      "metadata": {
        "colab": {
          "base_uri": "https://localhost:8080/"
        },
        "id": "bGjUkBQPkt8D",
        "outputId": "4d9a9174-300e-4422-ac97-273cd7e36c9b"
      },
      "source": [
        "!time ./max_pairwise_product3 < input4.txt"
      ],
      "execution_count": null,
      "outputs": [
        {
          "output_type": "stream",
          "text": [
            "39999800000\n",
            "\n",
            "real\t0m0.072s\n",
            "user\t0m0.064s\n",
            "sys\t0m0.003s\n"
          ],
          "name": "stdout"
        }
      ]
    },
    {
      "cell_type": "markdown",
      "metadata": {
        "id": "JgoOIwOOk7sI"
      },
      "source": [
        "20 stress tests"
      ]
    },
    {
      "cell_type": "code",
      "metadata": {
        "colab": {
          "base_uri": "https://localhost:8080/"
        },
        "id": "NcmXTl3ok-by",
        "outputId": "5b436a8e-54c8-4fad-c871-d53c5348e3f6"
      },
      "source": [
        "!./max_pairwise_product3 < Test3_input1.txt\n",
        "!./max_pairwise_product3 < Test3_input2.txt\n",
        "!./max_pairwise_product3 < Test3_input3.txt\n",
        "!./max_pairwise_product3 < Test3_input4.txt\n",
        "!./max_pairwise_product3 < Test3_input5.txt\n",
        "!./max_pairwise_product3 < Test3_input6.txt\n",
        "!./max_pairwise_product3 < Test3_input7.txt\n",
        "!./max_pairwise_product3 < Test3_input8.txt\n",
        "!./max_pairwise_product3 < Test3_input9.txt\n",
        "!./max_pairwise_product3 < Test3_input10.txt\n",
        "!./max_pairwise_product3 < Test3_input11.txt\n",
        "!./max_pairwise_product3 < Test3_input12.txt\n",
        "!./max_pairwise_product3 < Test3_input13.txt\n",
        "!./max_pairwise_product3 < Test3_input14.txt\n",
        "!./max_pairwise_product3 < Test3_input15.txt\n",
        "!./max_pairwise_product3 < Test3_input16.txt\n",
        "!./max_pairwise_product3 < Test3_input17.txt\n",
        "!./max_pairwise_product3 < Test3_input18.txt\n",
        "!./max_pairwise_product3 < Test3_input19.txt\n",
        "!./max_pairwise_product3 < Test3_input20.txt"
      ],
      "execution_count": 32,
      "outputs": [
        {
          "output_type": "stream",
          "text": [
            "281608073\n",
            "340592139\n",
            "340592139\n",
            "340592139\n",
            "281608073\n",
            "281608073\n",
            "281608073\n",
            "281608073\n",
            "281608073\n",
            "281608073\n",
            "281608073\n",
            "281608073\n",
            "281608073\n",
            "281608073\n",
            "281608073\n",
            "281608073\n",
            "281608073\n",
            "281608073\n",
            "281608073\n",
            "281608073\n"
          ],
          "name": "stdout"
        }
      ]
    },
    {
      "cell_type": "markdown",
      "metadata": {
        "id": "ZQxR6FT7lOEf"
      },
      "source": [
        "Count executed instructions in code and verify with inputs 1,2 and 3"
      ]
    },
    {
      "cell_type": "code",
      "metadata": {
        "colab": {
          "base_uri": "https://localhost:8080/"
        },
        "id": "oWcipnIplO0P",
        "outputId": "663e08ff-1423-431f-b9a8-9cace288c9a3"
      },
      "source": [
        "%%writefile max_pairwise_product3_execints.cpp\n",
        "#include <iostream>\n",
        "#include <vector>\n",
        "#include <algorithm>\n",
        "\n",
        "long long MaxPairwiseProduct(const std::vector<int>& numbers, long long &execints) {\n",
        "    long long max1 = 1;   // 1\n",
        "    execints++;\n",
        "\n",
        "\t  long long max2 = 1;   // 1\n",
        "    execints++;   \n",
        "\n",
        "    int n = numbers.size();   // 1\n",
        "    execints++;\n",
        "\n",
        "    execints++;\n",
        "    for (int first = 0; first < n; first++) {   // 1 + 2n\n",
        "        execints += 2;\n",
        "        \n",
        "        execints++;\n",
        "        if(numbers[first]>max1){   // n\n",
        "            max2 = max1;   // [0, n]\n",
        "            execints++;\n",
        "\n",
        "            max1 = (long long)numbers[first];   // [0, n]  \n",
        "            execints++;\n",
        "\n",
        "        }else if(numbers[first]>max2){   //[0, n]\n",
        "            execints++;\n",
        "\n",
        "            max2 =  (long long)numbers[first];   //[0, n]\n",
        "            execints++;\n",
        "        }else{\n",
        "            execints++;\n",
        "        }\n",
        "    }\n",
        "    \n",
        "    return max1*max2;       // 4 + 3n + [n, 2n]\n",
        "}\n",
        "\n",
        "int main() {\n",
        "    long long execints =0LL;\n",
        "\n",
        "    int n;   // 1\n",
        "    execints++;\n",
        "\n",
        "    std::cin >> n;   // 1\n",
        "    execints++;\n",
        "\n",
        "    std::vector<int> numbers(n);   // n\n",
        "    execints += n;\n",
        "\n",
        "    execints++;\n",
        "    for (int i = 0; i < n; ++i) {   // 1 + 2n\n",
        "        execints += 2;\n",
        "\n",
        "        std::cin >> numbers[i];   // n\n",
        "        execints++;\n",
        "    }\n",
        "\n",
        "    // std::cout << MaxPairwiseProduct(numbers) << \"\\n\";   // 1 + 1 + 4 + 3n + [n, 2n]\n",
        "\n",
        "    execints++;\n",
        "    int M = MaxPairwiseProduct(numbers,execints);\n",
        "\n",
        "    execints++;\n",
        "    std::cout << \"Numero total de instrucciones: \" <<  execints << \"\\n\"; \n",
        "    \n",
        "    return 0;  \n",
        "}             // 9 + 7n + [n, 2n]"
      ],
      "execution_count": 33,
      "outputs": [
        {
          "output_type": "stream",
          "text": [
            "Writing max_pairwise_product3_execints.cpp\n"
          ],
          "name": "stdout"
        }
      ]
    },
    {
      "cell_type": "code",
      "metadata": {
        "colab": {
          "base_uri": "https://localhost:8080/"
        },
        "id": "lU3V6foapYqt",
        "outputId": "db46e619-184b-4c7d-a8a7-7a2d0733ad9a"
      },
      "source": [
        "!g++ max_pairwise_product3_execints.cpp -o max_pairwise_product3_execints\n",
        "!./max_pairwise_product3_execints < input1.txt\n",
        "!./max_pairwise_product3_execints < input2.txt\n",
        "!./max_pairwise_product3_execints < input4.txt"
      ],
      "execution_count": null,
      "outputs": [
        {
          "output_type": "stream",
          "text": [
            "Numero total de instrucciones: 98\n",
            "Numero total de instrucciones: 53\n",
            "Numero total de instrucciones: 1800008\n"
          ],
          "name": "stdout"
        }
      ]
    },
    {
      "cell_type": "markdown",
      "metadata": {
        "id": "aIvQuHdyq-ul"
      },
      "source": [
        "Calculate estimated time by instruction and number of instructions by second"
      ]
    },
    {
      "cell_type": "markdown",
      "metadata": {
        "id": "HkX-3jxgwxu4"
      },
      "source": [
        "For the input1.txt \n",
        "```\n",
        "10\n",
        "1 2 3 4 5 6 7 8 9 10\n",
        "```\n",
        "$$T = 9 + 7(10) + 18 = 98 $$\n",
        "\n",
        "For the input2.txt \n",
        "```\n",
        "6\n",
        "1 3 200000 9 200000 23\n",
        "```\n",
        "$$T = 9 + 7(5) + 9 = 53 $$\n",
        "\n",
        "For the input4.txt that is the worst case (n=200000 and list in incresing order)\n",
        "\n",
        "```\n",
        "200000\n",
        "1 2 3 4 5 6 7 8 9 10 ... 199998 199999 200000\n",
        "```\n",
        "$$T = 9 + 7(200000) + 399999 = 1800008 $$"
      ]
    },
    {
      "cell_type": "code",
      "metadata": {
        "colab": {
          "base_uri": "https://localhost:8080/"
        },
        "id": "pbpGU3GNvy6l",
        "outputId": "fd499fd4-bbe1-4b3d-b84c-0567545b23c3"
      },
      "source": [
        "# Estimated time by instruction\n",
        "\n",
        "print(128/98)\n",
        "print(128/53)\n",
        "print(128/1800008)"
      ],
      "execution_count": null,
      "outputs": [
        {
          "output_type": "stream",
          "text": [
            "1.3061224489795917\n",
            "2.4150943396226414\n",
            "7.111079506313305e-05\n"
          ],
          "name": "stdout"
        }
      ]
    },
    {
      "cell_type": "code",
      "metadata": {
        "colab": {
          "base_uri": "https://localhost:8080/"
        },
        "id": "iljnDfPRwHEZ",
        "outputId": "0546efff-84fa-4056-a756-6edf1182e601"
      },
      "source": [
        "# Estimated number of instructions by second\n",
        "\n",
        "print(1/(128/98))\n",
        "print(1/(128/53))\n",
        "print(1/(128/1800008))"
      ],
      "execution_count": null,
      "outputs": [
        {
          "output_type": "stream",
          "text": [
            "0.7656250000000001\n",
            "0.4140625\n",
            "14062.5625\n"
          ],
          "name": "stdout"
        }
      ]
    },
    {
      "cell_type": "markdown",
      "metadata": {
        "id": "ycsYMt_mltyZ"
      },
      "source": [
        "### Solución más eficiente"
      ]
    },
    {
      "cell_type": "markdown",
      "metadata": {
        "id": "5gufgt4bxL0J"
      },
      "source": [
        "Add in each line a coment with the number of intstrcution that are executed in that line"
      ]
    },
    {
      "cell_type": "code",
      "metadata": {
        "colab": {
          "base_uri": "https://localhost:8080/"
        },
        "id": "eaOQwpqlltUq",
        "outputId": "decfa42c-746b-4532-a8c3-5f6c307968b5"
      },
      "source": [
        "%%writefile max_pairwise_product4.cpp\n",
        "#include <iostream>\n",
        "#include <vector>\n",
        "#include <algorithm>\n",
        "\n",
        "int main() {\n",
        "    int n;  // 1\n",
        "    std::cin >> n;  // 1\n",
        "    int number;  // 1\n",
        "    long long max1 = 0;  // 1\n",
        "\t  long long max2 = 0;  // 1\n",
        "\n",
        "    for (int i = 0; i < n; ++i) {  // 1 + 2n\n",
        "        std::cin >> number;  // n\n",
        "        if(number>max1){    // n\n",
        "            max2 = max1;  // [0,n]\n",
        "            max1 = (long long)number;  // [0,n]\n",
        "        }else if(number>max2){  // [0,n]\n",
        "            max2 =  (long long)number;  // [0,n]\n",
        "        }\n",
        "    }\n",
        "\n",
        "    std::cout << max1*max2 << \"\\n\"; // 1\n",
        "    return 0;\n",
        "}         // 7 + 4n + [n, 2n]\n"
      ],
      "execution_count": 34,
      "outputs": [
        {
          "output_type": "stream",
          "text": [
            "Writing max_pairwise_product4.cpp\n"
          ],
          "name": "stdout"
        }
      ]
    },
    {
      "cell_type": "markdown",
      "metadata": {
        "id": "8ZJq8Foj73tP"
      },
      "source": [
        "Test with inputs 1 and 2"
      ]
    },
    {
      "cell_type": "code",
      "metadata": {
        "colab": {
          "base_uri": "https://localhost:8080/"
        },
        "id": "kq7zsC9x8BOV",
        "outputId": "c145ecf9-0173-4a65-bbc4-312af010135f"
      },
      "source": [
        "!g++ max_pairwise_product4.cpp -o max_pairwise_product4\n",
        "!./max_pairwise_product4 < input1.txt\n",
        "!./max_pairwise_product4 < input2.txt"
      ],
      "execution_count": 36,
      "outputs": [
        {
          "output_type": "stream",
          "text": [
            "90\n",
            "40000000000\n"
          ],
          "name": "stdout"
        }
      ]
    },
    {
      "cell_type": "markdown",
      "metadata": {
        "id": "NTNCUekc8UBD"
      },
      "source": [
        "Test and time it with input 4"
      ]
    },
    {
      "cell_type": "code",
      "metadata": {
        "id": "Q9-6LXbT8RBM",
        "colab": {
          "base_uri": "https://localhost:8080/"
        },
        "outputId": "e6c48826-8ace-434e-81a6-5b8406b325d8"
      },
      "source": [
        "!./max_pairwise_product4 < input4.txt"
      ],
      "execution_count": 41,
      "outputs": [
        {
          "output_type": "stream",
          "text": [
            "39999800000\n"
          ],
          "name": "stdout"
        }
      ]
    },
    {
      "cell_type": "markdown",
      "metadata": {
        "id": "fnELzic98L7U"
      },
      "source": [
        "20 stress tests"
      ]
    },
    {
      "cell_type": "code",
      "metadata": {
        "colab": {
          "base_uri": "https://localhost:8080/"
        },
        "id": "vVHkMrKQ8YTT",
        "outputId": "de703251-012f-43b8-c20a-901147fbaed5"
      },
      "source": [
        "!./max_pairwise_product4 < Test3_input1.txt\n",
        "!./max_pairwise_product4 < Test3_input2.txt\n",
        "!./max_pairwise_product4 < Test3_input3.txt\n",
        "!./max_pairwise_product4 < Test3_input4.txt\n",
        "!./max_pairwise_product4 < Test3_input5.txt\n",
        "!./max_pairwise_product4 < Test3_input6.txt\n",
        "!./max_pairwise_product4 < Test3_input7.txt\n",
        "!./max_pairwise_product4 < Test3_input8.txt\n",
        "!./max_pairwise_product4 < Test3_input9.txt\n",
        "!./max_pairwise_product4 < Test3_input10.txt\n",
        "!./max_pairwise_product4 < Test3_input11.txt\n",
        "!./max_pairwise_product4 < Test3_input12.txt\n",
        "!./max_pairwise_product4 < Test3_input13.txt\n",
        "!./max_pairwise_product4 < Test3_input14.txt\n",
        "!./max_pairwise_product4 < Test3_input15.txt\n",
        "!./max_pairwise_product4 < Test3_input16.txt\n",
        "!./max_pairwise_product4 < Test3_input17.txt\n",
        "!./max_pairwise_product4 < Test3_input18.txt\n",
        "!./max_pairwise_product4 < Test3_input19.txt\n",
        "!./max_pairwise_product4 < Test3_input20.txt"
      ],
      "execution_count": 37,
      "outputs": [
        {
          "output_type": "stream",
          "text": [
            "281608073\n",
            "340592139\n",
            "340592139\n",
            "340592139\n",
            "281608073\n",
            "281608073\n",
            "281608073\n",
            "281608073\n",
            "281608073\n",
            "281608073\n",
            "281608073\n",
            "281608073\n",
            "281608073\n",
            "281608073\n",
            "281608073\n",
            "281608073\n",
            "281608073\n",
            "281608073\n",
            "281608073\n",
            "281608073\n"
          ],
          "name": "stdout"
        }
      ]
    },
    {
      "cell_type": "markdown",
      "metadata": {
        "id": "fNfOonEQ8i0E"
      },
      "source": [
        "Count executed instructions in code and verify with inputs 1,2 and 3"
      ]
    },
    {
      "cell_type": "code",
      "metadata": {
        "colab": {
          "base_uri": "https://localhost:8080/"
        },
        "id": "jfUtfbLP8maw",
        "outputId": "0f955416-653f-4e55-81ee-c545f0958988"
      },
      "source": [
        "%%writefile max_pairwise_product4_execints.cpp\n",
        "#include <iostream>\n",
        "#include <vector>\n",
        "#include <algorithm>\n",
        "\n",
        "int main() {\n",
        "    long long execints =0LL;\n",
        "\n",
        "    int n;  // 1\n",
        "    execints++;\n",
        "\n",
        "    std::cin >> n;  // 1\n",
        "    execints++;\n",
        "\n",
        "    int number;  // 1\n",
        "    execints++;\n",
        "\n",
        "    long long max1 = 1;  // 1\n",
        "    execints++;\n",
        "\n",
        "\t  long long max2 = 1;  // 1\n",
        "    execints++;\n",
        "\n",
        "    execints++;\n",
        "    for (int i = 0; i < n; ++i) {  // 1 + 2n\n",
        "        execints+=2;\n",
        "\n",
        "        std::cin >> number;  // n\n",
        "        execints++;\n",
        "\n",
        "        execints++;\n",
        "        if(number>max1){    // n\n",
        "            max2 = max1;  // [0,n]\n",
        "            execints++;\n",
        "\n",
        "            max1 = (long long)number;  // [0,n]\n",
        "            execints++;\n",
        "\n",
        "        }else if(number>max2){  // [0,n]\n",
        "            execints++;\n",
        "\n",
        "            max2 =  (long long)number;  // [0,n]\n",
        "            execints++;\n",
        "\n",
        "        }else{\n",
        "            execints++;\n",
        "        }\n",
        "    }\n",
        "\n",
        "    // std::cout << max1*max2 << \"\\n\";\n",
        "\n",
        "    execints++;\n",
        "    std::cout << \"Numero total de instrucciones: \" <<  execints << \"\\n\"; \n",
        "    return 0;\n",
        "}     // 7 + 4n + [n, 2n]\n"
      ],
      "execution_count": null,
      "outputs": [
        {
          "output_type": "stream",
          "text": [
            "Writing max_pairwise_product4_execints.cpp\n"
          ],
          "name": "stdout"
        }
      ]
    },
    {
      "cell_type": "code",
      "metadata": {
        "colab": {
          "base_uri": "https://localhost:8080/"
        },
        "id": "aXQTU3uu91_V",
        "outputId": "f51c3dae-1db0-4487-d6e3-a377fa306a43"
      },
      "source": [
        "!g++ max_pairwise_product4_execints.cpp -o max_pairwise_product4_execints\n",
        "!./max_pairwise_product4_execints < input1.txt\n",
        "!./max_pairwise_product4_execints < input2.txt\n",
        "!./max_pairwise_product4_execints < input4.txt"
      ],
      "execution_count": null,
      "outputs": [
        {
          "output_type": "stream",
          "text": [
            "Numero total de instrucciones: 66\n",
            "Numero total de instrucciones: 36\n",
            "Numero total de instrucciones: 1200006\n"
          ],
          "name": "stdout"
        }
      ]
    },
    {
      "cell_type": "markdown",
      "metadata": {
        "id": "0ibyuhkO-EM8"
      },
      "source": [
        "Calculate estimated time by instruction and number of instructions by second\n"
      ]
    },
    {
      "cell_type": "code",
      "metadata": {
        "colab": {
          "base_uri": "https://localhost:8080/"
        },
        "id": "HYOpBsD5-NPY",
        "outputId": "51a44443-9aae-4287-a1fb-f598a58103fc"
      },
      "source": [
        "# Estimated time by instruction\n",
        "\n",
        "print(128/66)\n",
        "print(128/36)\n",
        "print(128/1200006)"
      ],
      "execution_count": null,
      "outputs": [
        {
          "output_type": "stream",
          "text": [
            "1.9393939393939394\n",
            "3.5555555555555554\n",
            "0.00010666613333599998\n"
          ],
          "name": "stdout"
        }
      ]
    },
    {
      "cell_type": "code",
      "metadata": {
        "colab": {
          "base_uri": "https://localhost:8080/"
        },
        "id": "pFmDPw-X-T3o",
        "outputId": "faf488ee-3ad6-42b6-8378-cace6b2ef0cf"
      },
      "source": [
        "# Estimated number of instructions by second\n",
        "\n",
        "print(1/(128/66))\n",
        "print(1/(128/36))\n",
        "print(1/(128/1200006))"
      ],
      "execution_count": null,
      "outputs": [
        {
          "output_type": "stream",
          "text": [
            "0.515625\n",
            "0.28125\n",
            "9375.046875\n"
          ],
          "name": "stdout"
        }
      ]
    },
    {
      "cell_type": "markdown",
      "metadata": {
        "id": "rydCU4bFfrhG"
      },
      "source": [
        "## Python"
      ]
    },
    {
      "cell_type": "markdown",
      "metadata": {
        "id": "f6F5gLaD2PnN"
      },
      "source": [
        "###Solucion ineficiente\n",
        "\n",
        "En esta solucion no hay un tipo de dato que no corresponda, ya que python no maneja data types."
      ]
    },
    {
      "cell_type": "code",
      "metadata": {
        "id": "gNqheAb9zkds",
        "colab": {
          "base_uri": "https://localhost:8080/"
        },
        "outputId": "d4ea606f-d05a-446c-bffc-cc0f771414e7"
      },
      "source": [
        "%%writefile max_pairwise_product1.py\n",
        "# python3\n",
        "\n",
        "\n",
        "def max_pairwise_product(numbers):\n",
        "    n = len(numbers)  # 1\n",
        "    max_product = 0 # 1\n",
        "    for first in range(n): # n\n",
        "        for second in range(first + 1, n): # n(n-1)/2\n",
        "            max_product = max(max_product,\n",
        "                numbers[first] * numbers[second])   # n(n-1)/2\n",
        "\n",
        "    return max_product  # 2 + n + n(n-1)\n",
        "\n",
        "\n",
        "if __name__ == '__main__':\n",
        "    input_n = int(input())  # 1\n",
        "    input_numbers = [int(x) for x in input().split()]   # n\n",
        "    print(max_pairwise_product(input_numbers)) # 3 + 2n + n(n-1)\n"
      ],
      "execution_count": 42,
      "outputs": [
        {
          "output_type": "stream",
          "text": [
            "Writing max_pairwise_product1.py\n"
          ],
          "name": "stdout"
        }
      ]
    },
    {
      "cell_type": "markdown",
      "metadata": {
        "id": "Ymb-VxeQ2IeI"
      },
      "source": [
        "### Test 1: Small numbers"
      ]
    },
    {
      "cell_type": "code",
      "metadata": {
        "colab": {
          "base_uri": "https://localhost:8080/"
        },
        "id": "m0_HPVs2BeRy",
        "outputId": "1dfd510c-b683-4644-e754-159c93392461"
      },
      "source": [
        "%%time\n",
        "!python max_pairwise_product1.py < input1.txt"
      ],
      "execution_count": null,
      "outputs": [
        {
          "output_type": "stream",
          "text": [
            "90\n",
            "CPU times: user 5.43 ms, sys: 7.92 ms, total: 13.3 ms\n",
            "Wall time: 128 ms\n"
          ],
          "name": "stdout"
        }
      ]
    },
    {
      "cell_type": "markdown",
      "metadata": {
        "id": "SZxPqVcd2ggn"
      },
      "source": [
        "### Test 2: lagest input numbers 200000 200000 in the input"
      ]
    },
    {
      "cell_type": "code",
      "metadata": {
        "colab": {
          "base_uri": "https://localhost:8080/"
        },
        "id": "5OXhlEPN2mf1",
        "outputId": "d63a3057-8afe-4097-f7d5-b7a75d7f66c3"
      },
      "source": [
        "%%time\n",
        "!python max_pairwise_product1.py < input2.txt"
      ],
      "execution_count": null,
      "outputs": [
        {
          "output_type": "stream",
          "text": [
            "40000000000\n",
            "CPU times: user 5.92 ms, sys: 4.97 ms, total: 10.9 ms\n",
            "Wall time: 118 ms\n"
          ],
          "name": "stdout"
        }
      ]
    },
    {
      "cell_type": "markdown",
      "metadata": {
        "id": "tcwSdEZ_29Kt"
      },
      "source": [
        "### Test 3 stress tests 20 times random n in [2, 20]"
      ]
    },
    {
      "cell_type": "code",
      "metadata": {
        "colab": {
          "base_uri": "https://localhost:8080/"
        },
        "id": "pg-C2879wJfE",
        "outputId": "2b54105c-f827-4be2-fb0d-d649a7d82cdf"
      },
      "source": [
        "%%time\n",
        "!python max_pairwise_product1.py < Test3_input1.txt\n",
        "!python max_pairwise_product1.py < Test3_input2.txt\n",
        "!python max_pairwise_product1.py < Test3_input3.txt\n",
        "!python max_pairwise_product1.py < Test3_input4.txt\n",
        "!python max_pairwise_product1.py < Test3_input5.txt\n",
        "!python max_pairwise_product1.py < Test3_input6.txt\n",
        "!python max_pairwise_product1.py < Test3_input7.txt\n",
        "!python max_pairwise_product1.py < Test3_input8.txt\n",
        "!python max_pairwise_product1.py < Test3_input9.txt\n",
        "!python max_pairwise_product1.py < Test3_input10.txt\n",
        "!python max_pairwise_product1.py < Test3_input11.txt\n",
        "!python max_pairwise_product1.py < Test3_input12.txt\n",
        "!python max_pairwise_product1.py < Test3_input13.txt\n",
        "!python max_pairwise_product1.py < Test3_input14.txt\n",
        "!python max_pairwise_product1.py < Test3_input15.txt\n",
        "!python max_pairwise_product1.py < Test3_input16.txt\n",
        "!python max_pairwise_product1.py < Test3_input17.txt\n",
        "!python max_pairwise_product1.py < Test3_input18.txt\n",
        "!python max_pairwise_product1.py < Test3_input19.txt\n",
        "!python max_pairwise_product1.py < Test3_input20.txt"
      ],
      "execution_count": 43,
      "outputs": [
        {
          "output_type": "stream",
          "text": [
            "281608073\n",
            "340592139\n",
            "340592139\n",
            "340592139\n",
            "281608073\n",
            "281608073\n",
            "281608073\n",
            "281608073\n",
            "281608073\n",
            "281608073\n",
            "281608073\n",
            "281608073\n",
            "281608073\n",
            "281608073\n",
            "281608073\n",
            "281608073\n",
            "281608073\n",
            "281608073\n",
            "281608073\n",
            "281608073\n",
            "CPU times: user 149 ms, sys: 130 ms, total: 280 ms\n",
            "Wall time: 2.41 s\n"
          ],
          "name": "stdout"
        }
      ]
    },
    {
      "cell_type": "markdown",
      "metadata": {
        "id": "Cg6D681b3OeC"
      },
      "source": [
        "### Test 4 time test measure the execution time running with the the largest worst case file (200000 increasing numbers, 200000 and 200000 the end)"
      ]
    },
    {
      "cell_type": "code",
      "metadata": {
        "id": "WGQOm55j3P9I",
        "colab": {
          "base_uri": "https://localhost:8080/"
        },
        "outputId": "95792ba3-735e-49ee-ad41-318f5456201d"
      },
      "source": [
        "%%time\n",
        "!python max_pairwise_product1.py < input4.txt"
      ],
      "execution_count": null,
      "outputs": [
        {
          "output_type": "stream",
          "text": [
            "Traceback (most recent call last):\n",
            "  File \"max_pairwise_product1.py\", line 18, in <module>\n",
            "    print(max_pairwise_product(input_numbers)) # 3 + 2n + n(n-1) + n * n(n-1)\n",
            "  File \"max_pairwise_product1.py\", line 10, in max_pairwise_product\n",
            "    numbers[first] * numbers[second])   # n * n(n-1)\n",
            "KeyboardInterrupt\n",
            "CPU times: user 23.1 s, sys: 3.15 s, total: 26.3 s\n",
            "Wall time: 55min 32s\n"
          ],
          "name": "stdout"
        }
      ]
    },
    {
      "cell_type": "markdown",
      "metadata": {
        "id": "wID8qZJgAv0V"
      },
      "source": [
        "Esta prueba, al usar el algoritmo ineficiente, tiene un tiempo de ejcución muy largo, causando que no se muestre el resultado, por lo que no se va a analizar más adelante en esta sección."
      ]
    },
    {
      "cell_type": "markdown",
      "metadata": {
        "id": "NZAYt9uWBc0w"
      },
      "source": [
        "####Count executed intructions in code and verify with inputs 1 and 2"
      ]
    },
    {
      "cell_type": "code",
      "metadata": {
        "id": "YIG50gAyBcVX",
        "colab": {
          "base_uri": "https://localhost:8080/"
        },
        "outputId": "59fbaf83-ea6d-4aaa-bbc8-3fbf2cd77581"
      },
      "source": [
        "%%writefile max_pairwise_product1_execints.py\n",
        "\n",
        "def max_pairwise_product(numbers, execints):\n",
        "    n = len(numbers)  # 1\n",
        "    execints += 1\n",
        "    max_product = 0 # 1\n",
        "    execints += 1\n",
        "\n",
        "    m = 0\n",
        "\n",
        "    for first in range(n): # n\n",
        "        execints += 1\n",
        "        for second in range(first + 1, n): # n(n-1)/2\n",
        "            execints += 1\n",
        "            m += 1\n",
        "            max_product = max(max_product, numbers[first] * numbers[second])   # n(n-1)/2\n",
        "            execints += 1\n",
        "            m += 1\n",
        "    #return max_product  # 2 + n + n(n-1) + n(n-1)/2\n",
        "    print(\"Numero de instrucciones en la funcion: \" + str(m))\n",
        "    return execints\n",
        "\n",
        "\n",
        "if __name__ == '__main__':\n",
        "    execints = 0\n",
        "    input_n = int(input())  # 1\n",
        "    execints += 1\n",
        "    input_numbers = [int(x) for x in input().split()]  # n\n",
        "    execints = execints + input_n\n",
        "    print(\"Numero de instrucciones totales: \" + str(max_pairwise_product(input_numbers, execints))) # 3 + 2n + n(n-1)"
      ],
      "execution_count": null,
      "outputs": [
        {
          "output_type": "stream",
          "text": [
            "Overwriting max_pairwise_product1_execints.py\n"
          ],
          "name": "stdout"
        }
      ]
    },
    {
      "cell_type": "code",
      "metadata": {
        "colab": {
          "base_uri": "https://localhost:8080/"
        },
        "id": "IWo4a_xpETzx",
        "outputId": "938152eb-6eaa-49e7-d6ce-9fa0d0ba602c"
      },
      "source": [
        "!python max_pairwise_product1_execints.py < input1.txt\n",
        "!python max_pairwise_product1_execints.py < input2.txt"
      ],
      "execution_count": null,
      "outputs": [
        {
          "output_type": "stream",
          "text": [
            "Numero de instrucciones en la funcion: 90\n",
            "Numero de instrucciones totales: 113\n",
            "Numero de instrucciones en la funcion: 30\n",
            "Numero de instrucciones totales: 45\n"
          ],
          "name": "stdout"
        }
      ]
    },
    {
      "cell_type": "markdown",
      "metadata": {
        "id": "WAR2kzkjLvdw"
      },
      "source": [
        "The number of instructions executed by the algooirithm with a list of size $n$ is  \n",
        "\n",
        "$$T = 3 + 2n +n(n-1)$$\n",
        "\n",
        "It depends on the size of the lists and  the order of the list.\n",
        "\n",
        "For the input1.txt \n",
        "```\n",
        "10\n",
        "1 2 3 4 5 6 7 8 9 10\n",
        "```\n",
        "$$T = 3 + 2(20) + (10)(9) = 113 $$\n",
        "\n",
        "For the input2.txt \n",
        "```\n",
        "6\n",
        "1 3 200000 9 200000 23\n",
        "```\n",
        "$$T = 9 + 7(6) + (6)(5)  = 45 $$\n"
      ]
    },
    {
      "cell_type": "markdown",
      "metadata": {
        "id": "_Yzu_3YsNqpE"
      },
      "source": [
        "El tiempo estimado se hace con el test 1 debido a que el input 4 no se puede compilar en este algoritmo."
      ]
    },
    {
      "cell_type": "code",
      "metadata": {
        "colab": {
          "base_uri": "https://localhost:8080/"
        },
        "id": "m3mdBqrbNgdj",
        "outputId": "3bd6fd50-07a8-447d-ba09-2de344deffbc"
      },
      "source": [
        "# Estimated time by instruction\n",
        "\n",
        "0.128/113"
      ],
      "execution_count": null,
      "outputs": [
        {
          "output_type": "execute_result",
          "data": {
            "text/plain": [
              "0.0011327433628318584"
            ]
          },
          "metadata": {
            "tags": []
          },
          "execution_count": 29
        }
      ]
    },
    {
      "cell_type": "code",
      "metadata": {
        "colab": {
          "base_uri": "https://localhost:8080/"
        },
        "id": "RpnHAx5ON4wv",
        "outputId": "e8b0ce73-f4ae-48bb-b076-d6f87fb3ea40"
      },
      "source": [
        "# Estimated number of instructions by second\n",
        "\n",
        "1/(0.128/113)"
      ],
      "execution_count": null,
      "outputs": [
        {
          "output_type": "execute_result",
          "data": {
            "text/plain": [
              "882.8125"
            ]
          },
          "metadata": {
            "tags": []
          },
          "execution_count": 30
        }
      ]
    },
    {
      "cell_type": "markdown",
      "metadata": {
        "id": "dFJrUmoj153J"
      },
      "source": [
        "### Efficient solution "
      ]
    },
    {
      "cell_type": "code",
      "metadata": {
        "id": "EHHqa6kP2HRw",
        "colab": {
          "base_uri": "https://localhost:8080/"
        },
        "outputId": "7d88309c-f3d2-472b-ade6-e53b5e16c64d"
      },
      "source": [
        "%%writefile max_pairwise_product2.py\n",
        "# python3\n",
        "\n",
        "def max_pairwise_product(numbers):\n",
        "  max1 = 0 # 1\n",
        "  max2 = 0 # 1\n",
        "  n = len(numbers) # 1\n",
        "\n",
        "  for i in range(n): # n\n",
        "    if(numbers[i] > max1): # n\n",
        "      max2 = max1 # [0,n]\n",
        "      max1 = numbers[i] # [0,n]\n",
        "    elif(numbers[i] > max2): # [0,n]\n",
        "      max2 = numbers[i] # [0,n]\n",
        "    \n",
        "  return max1 * max2 # 3 + 2n + [n,2n]\n",
        "\n",
        "if __name__ == '__main__':\n",
        "  input_n = int(input()) # 1\n",
        "  input_numbers = [int(x) for x in input().split()] # n\n",
        "  print(max_pairwise_product(input_numbers)) # 4 + 3n + [n,2n]"
      ],
      "execution_count": 44,
      "outputs": [
        {
          "output_type": "stream",
          "text": [
            "Writing max_pairwise_product2.py\n"
          ],
          "name": "stdout"
        }
      ]
    },
    {
      "cell_type": "markdown",
      "metadata": {
        "id": "jA7N-BsmhQaG"
      },
      "source": [
        "### Test 1: Small numbers"
      ]
    },
    {
      "cell_type": "code",
      "metadata": {
        "colab": {
          "base_uri": "https://localhost:8080/"
        },
        "id": "JLHQYbOECCVM",
        "outputId": "75ffe6e5-97ae-4b6b-b5e6-51dc6ac7a393"
      },
      "source": [
        "%%time\n",
        "!python max_pairwise_product2.py < input1.txt"
      ],
      "execution_count": null,
      "outputs": [
        {
          "output_type": "stream",
          "text": [
            "90\n",
            "CPU times: user 7.78 ms, sys: 3.35 ms, total: 11.1 ms\n",
            "Wall time: 121 ms\n"
          ],
          "name": "stdout"
        }
      ]
    },
    {
      "cell_type": "markdown",
      "metadata": {
        "id": "u9157TWBhSDg"
      },
      "source": [
        "### Test 2: lagest input numbers 200000 200000 in the input"
      ]
    },
    {
      "cell_type": "code",
      "metadata": {
        "colab": {
          "base_uri": "https://localhost:8080/"
        },
        "id": "TyMUB3lrCUs6",
        "outputId": "00ee9084-559d-4278-c48d-63175dd0c681"
      },
      "source": [
        "%%time\n",
        "!python max_pairwise_product2.py < input2.txt"
      ],
      "execution_count": null,
      "outputs": [
        {
          "output_type": "stream",
          "text": [
            "40000000000\n",
            "CPU times: user 6.91 ms, sys: 4.08 ms, total: 11 ms\n",
            "Wall time: 118 ms\n"
          ],
          "name": "stdout"
        }
      ]
    },
    {
      "cell_type": "markdown",
      "metadata": {
        "id": "S1sOlMnEhWhX"
      },
      "source": [
        "### Test 3 stress tests 20 times random n in [2, 20]"
      ]
    },
    {
      "cell_type": "code",
      "metadata": {
        "id": "7F7AGUBKha12",
        "colab": {
          "base_uri": "https://localhost:8080/"
        },
        "outputId": "ee469bf8-9675-455d-f9f0-3076ce054fc4"
      },
      "source": [
        "%%time\n",
        "!python max_pairwise_product2.py < Test3_input1.txt\n",
        "!python max_pairwise_product2.py < Test3_input2.txt\n",
        "!python max_pairwise_product2.py < Test3_input3.txt\n",
        "!python max_pairwise_product2.py < Test3_input4.txt\n",
        "!python max_pairwise_product2.py < Test3_input5.txt\n",
        "!python max_pairwise_product2.py < Test3_input6.txt\n",
        "!python max_pairwise_product2.py < Test3_input7.txt\n",
        "!python max_pairwise_product2.py < Test3_input8.txt\n",
        "!python max_pairwise_product2.py < Test3_input9.txt\n",
        "!python max_pairwise_product2.py < Test3_input10.txt\n",
        "!python max_pairwise_product2.py < Test3_input11.txt\n",
        "!python max_pairwise_product2.py < Test3_input12.txt\n",
        "!python max_pairwise_product2.py < Test3_input13.txt\n",
        "!python max_pairwise_product2.py < Test3_input14.txt\n",
        "!python max_pairwise_product2.py < Test3_input15.txt\n",
        "!python max_pairwise_product2.py < Test3_input16.txt\n",
        "!python max_pairwise_product2.py < Test3_input17.txt\n",
        "!python max_pairwise_product2.py < Test3_input18.txt\n",
        "!python max_pairwise_product2.py < Test3_input19.txt\n",
        "!python max_pairwise_product2.py < Test3_input20.txt"
      ],
      "execution_count": 45,
      "outputs": [
        {
          "output_type": "stream",
          "text": [
            "281608073\n",
            "340592139\n",
            "340592139\n",
            "340592139\n",
            "281608073\n",
            "281608073\n",
            "281608073\n",
            "281608073\n",
            "281608073\n",
            "281608073\n",
            "281608073\n",
            "281608073\n",
            "281608073\n",
            "281608073\n",
            "281608073\n",
            "281608073\n",
            "281608073\n",
            "281608073\n",
            "281608073\n",
            "281608073\n",
            "CPU times: user 123 ms, sys: 127 ms, total: 250 ms\n",
            "Wall time: 2.35 s\n"
          ],
          "name": "stdout"
        }
      ]
    },
    {
      "cell_type": "markdown",
      "metadata": {
        "id": "AwrLxNcVhbNE"
      },
      "source": [
        "### Test 4 time test measure the execution time running with the the largest worst case file (200000 increasing numbers, 200000 and 200000 the end)"
      ]
    },
    {
      "cell_type": "code",
      "metadata": {
        "colab": {
          "base_uri": "https://localhost:8080/"
        },
        "id": "Tp7E7baSORmV",
        "outputId": "67a46cb6-6112-4bb9-fdb7-3dfbb3bf3104"
      },
      "source": [
        "%%time\n",
        "!python max_pairwise_product2.py < input4.txt"
      ],
      "execution_count": null,
      "outputs": [
        {
          "output_type": "stream",
          "text": [
            "39999800000\n",
            "CPU times: user 6.24 ms, sys: 6.39 ms, total: 12.6 ms\n",
            "Wall time: 215 ms\n"
          ],
          "name": "stdout"
        }
      ]
    },
    {
      "cell_type": "markdown",
      "metadata": {
        "id": "F5iXhpmGOaz4"
      },
      "source": [
        "####Count executed intructions in code and verify with inputs 1, 2 and 4"
      ]
    },
    {
      "cell_type": "code",
      "metadata": {
        "colab": {
          "base_uri": "https://localhost:8080/"
        },
        "id": "zAaIdGXdO7wG",
        "outputId": "a12f8db8-78a0-45fa-88b4-f63ef5c3665a"
      },
      "source": [
        "%%writefile max_pairwise_product2_execints.py\n",
        "# python3\n",
        "\n",
        "def max_pairwise_product(numbers, execints):\n",
        "  max1 = 0 # 1\n",
        "  execints += 1\n",
        "  max2 = 0 # 1\n",
        "  execints += 1\n",
        "  n = len(numbers) # 1\n",
        "  execints += 1\n",
        "  m = 0\n",
        "  for i in range(n): # n\n",
        "    execints += 1\n",
        "    \n",
        "\n",
        "    execints += 1\n",
        "    if (numbers[i] > max1): # n\n",
        "      max2 = max1 # [0,n]\n",
        "      execints += 1\n",
        "      m += 1\n",
        "\n",
        "      max1 = numbers[i] # [0,n]\n",
        "\n",
        "      execints += 1\n",
        "      m += 1\n",
        "    elif (numbers[i] > max2): # [0,n]\n",
        "      execints += 1\n",
        "      m+= 1\n",
        "      max2 = numbers[i] # [0,n]\n",
        "      execints += 1\n",
        "      m += 1\n",
        "\n",
        "    else:\n",
        "      execints += 1\n",
        "      m += 1\n",
        "\n",
        "  \n",
        "  #return max1 * max2 # 3 + 2n + [n,2n]\n",
        "  print(\"Numero de instrucciones en la funcion: \" + str(m))\n",
        "  return execints\n",
        "\n",
        "if __name__ == '__main__':\n",
        "  execints = 0\n",
        "  input_n = int(input()) # 1\n",
        "  execints += 1\n",
        "  input_numbers = [int(x) for x in input().split()] # n\n",
        "  execints += input_n\n",
        "  print(\"Numero de instrucciones totales: \" + str(max_pairwise_product(input_numbers, execints))) # 4 + 3n + [n,2n]"
      ],
      "execution_count": null,
      "outputs": [
        {
          "output_type": "stream",
          "text": [
            "Overwriting max_pairwise_product2_execints.py\n"
          ],
          "name": "stdout"
        }
      ]
    },
    {
      "cell_type": "code",
      "metadata": {
        "colab": {
          "base_uri": "https://localhost:8080/"
        },
        "id": "2W4sQdutQRvX",
        "outputId": "2899635d-9b55-4778-90fc-93bf35a4f62c"
      },
      "source": [
        "!python max_pairwise_product2_execints.py < input1.txt\n",
        "!python max_pairwise_product2_execints.py < input2.txt\n",
        "!python max_pairwise_product2_execints.py < input4.txt"
      ],
      "execution_count": null,
      "outputs": [
        {
          "output_type": "stream",
          "text": [
            "Numero de instrucciones en la funcion: 20\n",
            "Numero de instrucciones totales: 54\n",
            "Numero de instrucciones en la funcion: 11\n",
            "Numero de instrucciones totales: 33\n",
            "Numero de instrucciones en la funcion: 400000\n",
            "Numero de instrucciones totales: 1000004\n"
          ],
          "name": "stdout"
        }
      ]
    },
    {
      "cell_type": "markdown",
      "metadata": {
        "id": "gX1r_VGzZP80"
      },
      "source": [
        "For the input1.txt \n",
        "```\n",
        "10\n",
        "1 2 3 4 5 6 7 8 9 10\n",
        "```\n",
        "$$T = 4 + 3(10) + 20 = 54 $$\n",
        "\n",
        "For the input2.txt \n",
        "```\n",
        "6\n",
        "1 3 200000 9 200000 23\n",
        "```\n",
        "$$T = 4 + 3(6) + 11 = 53 $$\n",
        "\n",
        "For the input4.txt that is the worst case (n=200000 and list in incresing order)\n",
        "\n",
        "```\n",
        "200000\n",
        "1 2 3 4 5 6 7 8 9 10 ... 199998 199999 200000\n",
        "```\n",
        "$$T = 4 + 3(200000) + 400000 = 1000004 $$"
      ]
    },
    {
      "cell_type": "code",
      "metadata": {
        "colab": {
          "base_uri": "https://localhost:8080/"
        },
        "id": "SyD3Xu1Tgx46",
        "outputId": "177d5e50-fa2d-4241-cdc7-8b0f9e2cb877"
      },
      "source": [
        "# Estimated time by instruction\n",
        "\n",
        "0.215/1000004"
      ],
      "execution_count": null,
      "outputs": [
        {
          "output_type": "execute_result",
          "data": {
            "text/plain": [
              "2.1499914000344e-07"
            ]
          },
          "metadata": {
            "tags": []
          },
          "execution_count": 83
        }
      ]
    },
    {
      "cell_type": "code",
      "metadata": {
        "colab": {
          "base_uri": "https://localhost:8080/"
        },
        "id": "U-Iwtlmcg7gs",
        "outputId": "46dbf585-4a2e-4dd8-cfb6-8851e484e5c3"
      },
      "source": [
        "# Estimated number of instructions by second\n",
        "\n",
        "1/(0.215/1000004)"
      ],
      "execution_count": null,
      "outputs": [
        {
          "output_type": "execute_result",
          "data": {
            "text/plain": [
              "4651181.395348837"
            ]
          },
          "metadata": {
            "tags": []
          },
          "execution_count": 84
        }
      ]
    },
    {
      "cell_type": "markdown",
      "metadata": {
        "id": "8fKrFqm5lnae"
      },
      "source": [
        "# Screenhsoots of the Coursera Submissions in C++ and Python"
      ]
    },
    {
      "cell_type": "markdown",
      "metadata": {
        "id": "eEF57DiClrqK"
      },
      "source": [
        "![AplusB](https://raw.githubusercontent.com/jusantosm/AlgorithmsUN2021I/main/Lab%206/AplusB.JPG)"
      ]
    },
    {
      "cell_type": "markdown",
      "metadata": {
        "id": "6JXvimGZl59U"
      },
      "source": [
        "![MaxPairwiseProduct](https://raw.githubusercontent.com/jusantosm/AlgorithmsUN2021I/main/Lab%206/Max_Pairwise_Product.JPG)\n"
      ]
    }
  ]
}
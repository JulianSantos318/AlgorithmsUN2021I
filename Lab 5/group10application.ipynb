{
  "nbformat": 4,
  "nbformat_minor": 0,
  "metadata": {
    "colab": {
      "name": "group10application.ipynb",
      "provenance": [],
      "collapsed_sections": []
    },
    "kernelspec": {
      "name": "python3",
      "display_name": "Python 3"
    },
    "language_info": {
      "name": "python"
    }
  },
  "cells": [
    {
      "cell_type": "markdown",
      "metadata": {
        "id": "jKcjPz-CSbOZ"
      },
      "source": [
        "# Laboratorio 5\n",
        "## Grupo 10 - integrantes:\n",
        "*   Julian Esteban Santos Martinez\n",
        "*   Santiago Vargas Avendaño\n",
        "\n",
        "Fuente del código completo: https://www.youtube.com/watch?v=75-oCKUx3oU\n",
        "\n",
        "### **Link a la aplicación: http://grupoalgoritmos10.pythonanywhere.com**"
      ]
    },
    {
      "cell_type": "markdown",
      "metadata": {
        "id": "SIovmTBPTbNQ"
      },
      "source": [
        "### app.py"
      ]
    },
    {
      "cell_type": "code",
      "metadata": {
        "colab": {
          "base_uri": "https://localhost:8080/"
        },
        "id": "H9gJebPLThDm",
        "outputId": "c8eb6450-9440-49ef-b28e-b921cb9ef20a"
      },
      "source": [
        "%%writefile app.py\n",
        "## Fuente: http://pythonhow.com/data/unit_converter/app.py\n",
        "\n",
        "from flask import Flask, render_template, request\n",
        "import backend\n",
        "\n",
        "app = Flask(__name__)\n",
        "\n",
        "@app.route(\"/\", methods = [\"GET\", \"POST\"])\n",
        "def home():\n",
        "    if request.method == \"GET\":\n",
        "        return render_template(\"index.html\")\n",
        "    if request.method == \"POST\":\n",
        "        text = request.form.get('textbox')\n",
        "        return render_template(\"index.html\", \n",
        "        output = backend.meters_feet(float(text)),\n",
        "        user_text = text)\n",
        "\n",
        "if __name__ == \"__main__\":\n",
        "    app.run()"
      ],
      "execution_count": null,
      "outputs": [
        {
          "output_type": "stream",
          "text": [
            "Writing app.py\n"
          ],
          "name": "stdout"
        }
      ]
    },
    {
      "cell_type": "markdown",
      "metadata": {
        "id": "L79xd0K_TtAe"
      },
      "source": [
        "### backend.py"
      ]
    },
    {
      "cell_type": "code",
      "metadata": {
        "colab": {
          "base_uri": "https://localhost:8080/"
        },
        "id": "hBW0vCxwTwu4",
        "outputId": "510ad4f0-d052-4c52-ec31-3378cb3c1cd9"
      },
      "source": [
        "%%writefile backend.py\n",
        "## Fuente: http://pythonhow.com/data/unit_converter/backend.py\n",
        "\n",
        "def meters_feet(meters, coefficient = 3.28084):\n",
        "    return meters * coefficient"
      ],
      "execution_count": null,
      "outputs": [
        {
          "output_type": "stream",
          "text": [
            "Writing backend.py\n"
          ],
          "name": "stdout"
        }
      ]
    },
    {
      "cell_type": "markdown",
      "metadata": {
        "id": "n33S9_6iUJhm"
      },
      "source": [
        "### index.html\n"
      ]
    },
    {
      "cell_type": "code",
      "metadata": {
        "id": "odQCsRwKVubo"
      },
      "source": [
        "%%writefile index.html\n",
        "## Fuente: http://pythonhow.com/data/unit_converter/index.txt\n",
        "\n",
        "<html>\n",
        "  <title> Meters fo Feet </title> \n",
        "  <form method=\"POST\"> \n",
        "    <label> Meters: </label>\n",
        "    <input type=\"text\" name=\"textbox\" value = {{user_text | safe}}>  <br>\n",
        "    <label> Feet: </label>\n",
        "    <label> {{output | safe}} </label> <br>\n",
        "    <button type=\"submit\" name=\"submit\">Convert</button>\n",
        "  </form>\n",
        "\n",
        "</html>"
      ],
      "execution_count": null,
      "outputs": []
    }
  ]
}
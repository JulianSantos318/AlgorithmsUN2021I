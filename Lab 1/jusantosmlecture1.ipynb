{
  "nbformat": 4,
  "nbformat_minor": 0,
  "metadata": {
    "kernelspec": {
      "name": "python3",
      "display_name": "Python 3"
    },
    "colab": {
      "name": "jusantosmlecture1.ipynb",
      "provenance": [],
      "collapsed_sections": []
    }
  },
  "cells": [
    {
      "cell_type": "markdown",
      "metadata": {
        "id": "Lq6YgnDAChR8"
      },
      "source": [
        "#Introduction to the Research Environment\n",
        "\n",
        "The research environment is powered by IPython notebooks, which allow one to perform a great deal of data analysis and statistical validation. We'll demonstrate a few simple techniques here."
      ]
    },
    {
      "cell_type": "markdown",
      "metadata": {
        "id": "kb89qY7gChSC"
      },
      "source": [
        "##Code Cells vs. Text Cells\n",
        "\n",
        "As you can see, each cell can be either code or text. This one is a text cell.\n",
        "\n",
        "To select between them, choose from the 'Cell Type' dropdown menu on the top left."
      ]
    },
    {
      "cell_type": "code",
      "metadata": {
        "id": "Oq1ye6XlEoOs"
      },
      "source": [
        "#This is a code cell"
      ],
      "execution_count": null,
      "outputs": []
    },
    {
      "cell_type": "markdown",
      "metadata": {
        "id": "pje16wxYChSD"
      },
      "source": [
        "##Executing a Command\n",
        "\n",
        "A code cell will be evaluated when you press play, or when you press the shortcut, shift-enter. Evaluating a cell evaluates each line of code in sequence, and prints the results of the last line below the cell."
      ]
    },
    {
      "cell_type": "code",
      "metadata": {
        "colab": {
          "base_uri": "https://localhost:8080/"
        },
        "id": "_2a5A1lqChSD",
        "outputId": "ab46b680-96e8-42dd-d115-65a3fe8ff78f"
      },
      "source": [
        "1 + 1"
      ],
      "execution_count": null,
      "outputs": [
        {
          "output_type": "execute_result",
          "data": {
            "text/plain": [
              "2"
            ]
          },
          "metadata": {
            "tags": []
          },
          "execution_count": 2
        }
      ]
    },
    {
      "cell_type": "markdown",
      "metadata": {
        "id": "rzJ8giIwChSE"
      },
      "source": [
        "Sometimes there is no result to be printed, as is the case with assignment."
      ]
    },
    {
      "cell_type": "code",
      "metadata": {
        "collapsed": true,
        "id": "g50Wwm7DChSE"
      },
      "source": [
        "X = 0"
      ],
      "execution_count": null,
      "outputs": []
    },
    {
      "cell_type": "markdown",
      "metadata": {
        "id": "-cKNtpUvChSF"
      },
      "source": [
        "Remember that only the result from the last line is printed. Here the only number that will be printed is 8, because the last line is 4 + 4, while the result of 2 + 2 won't be printed."
      ]
    },
    {
      "cell_type": "code",
      "metadata": {
        "colab": {
          "base_uri": "https://localhost:8080/"
        },
        "id": "NkArMB_EChSF",
        "outputId": "4ac4527f-45e4-467c-979d-61378842f12f"
      },
      "source": [
        "2 + 2\n",
        "4 + 4"
      ],
      "execution_count": null,
      "outputs": [
        {
          "output_type": "execute_result",
          "data": {
            "text/plain": [
              "8"
            ]
          },
          "metadata": {
            "tags": []
          },
          "execution_count": 4
        }
      ]
    },
    {
      "cell_type": "markdown",
      "metadata": {
        "id": "pfZOSuDkChSF"
      },
      "source": [
        "However, you can print whichever lines you want using the `print()` statement."
      ]
    },
    {
      "cell_type": "code",
      "metadata": {
        "colab": {
          "base_uri": "https://localhost:8080/"
        },
        "id": "5mOaQRQVChSG",
        "outputId": "a7b0d17c-6c54-4939-e82b-056cdcce616b"
      },
      "source": [
        "print(2 + 2)\n",
        "print(4 + 4)"
      ],
      "execution_count": null,
      "outputs": [
        {
          "output_type": "stream",
          "text": [
            "4\n",
            "8\n"
          ],
          "name": "stdout"
        }
      ]
    },
    {
      "cell_type": "markdown",
      "metadata": {
        "id": "Yx1YeR_IChSH"
      },
      "source": [
        "##Knowing When a Cell is Running\n",
        "\n",
        "While a cell is running, a `[*]` will display on the left. When a cell has yet to be executed, `[ ]` will display. When it has been run, a number will display indicating the order in which it was run during the execution of the notebook `[5]`. Try on this cell and note it happening."
      ]
    },
    {
      "cell_type": "code",
      "metadata": {
        "colab": {
          "base_uri": "https://localhost:8080/"
        },
        "id": "0q67WX7qChSI",
        "outputId": "3a56c995-991e-4e12-8ac3-3820baa44baa"
      },
      "source": [
        "#Take some time to run something\n",
        "c = 0\n",
        "for i in range(1000000):\n",
        "    c = c + i\n",
        "c"
      ],
      "execution_count": null,
      "outputs": [
        {
          "output_type": "execute_result",
          "data": {
            "text/plain": [
              "499999500000"
            ]
          },
          "metadata": {
            "tags": []
          },
          "execution_count": 6
        }
      ]
    },
    {
      "cell_type": "markdown",
      "metadata": {
        "id": "sZq-px29ChSI"
      },
      "source": [
        "##Importing Libraries\n",
        "\n",
        "The vast majority of the time, you'll want to use functions from pre-built libraries. You can import every library on Collab, it does not run on the security issues Quantopian used to suffer, so you can import whatever library runs on Python 3m including the most common scientific ones. Here it is imported numpy and pandas, the two most common and useful libraries in quant finance. I recommend copying this import statement to every new notebook.\n",
        "\n",
        "Notice that you can rename libraries to whatever you want after importing. The `as` statement allows this. Here we use `np` and `pd` as aliases for `numpy` and `pandas`. This is a very common aliasing and will be found in most code snippets around the web. The point behind this is to allow you to type fewer characters when you are frequently accessing these libraries."
      ]
    },
    {
      "cell_type": "code",
      "metadata": {
        "collapsed": true,
        "id": "RZYl3cP-ChSJ"
      },
      "source": [
        "import numpy as np\n",
        "import pandas as pd\n",
        "\n",
        "# This is a plotting library for pretty pictures.\n",
        "import matplotlib.pyplot as plt"
      ],
      "execution_count": null,
      "outputs": []
    },
    {
      "cell_type": "markdown",
      "metadata": {
        "id": "eCETHkQNChSJ"
      },
      "source": [
        "##Tab Autocomplete\n",
        "\n",
        "Pressing ctrl + space will give you a list of IPython's best guesses for what you might want to type next. This is incredibly valuable and will save you a lot of time. If there is only one possible option for what you could type next, IPython will fill that in for you. Try pressing tab very frequently, it will seldom fill in anything you don't want, as if there is ambiguity a list will be shown. This is a great way to see what functions are available in a library.\n",
        "\n",
        "Try placing your cursor after the `.` and pressing ctrl + space."
      ]
    },
    {
      "cell_type": "code",
      "metadata": {
        "id": "oAbSOWHVChSJ"
      },
      "source": [
        "pd.DatetimeIndex."
      ],
      "execution_count": null,
      "outputs": []
    },
    {
      "cell_type": "markdown",
      "metadata": {
        "id": "i8C59qoZChSJ"
      },
      "source": [
        "##Getting Documentation Help\n",
        "\n",
        "Placing a question mark after a function and executing that line of code will give you the documentation IPython has for that function. It's often best to do this in a new cell, as you avoid re-executing other code and running into bugs."
      ]
    },
    {
      "cell_type": "code",
      "metadata": {
        "collapsed": true,
        "id": "cywZpkHjChSJ"
      },
      "source": [
        "np.random.normal?"
      ],
      "execution_count": null,
      "outputs": []
    },
    {
      "cell_type": "markdown",
      "metadata": {
        "id": "yE4_aNLHChSJ"
      },
      "source": [
        "##Sampling\n",
        "\n",
        "We'll sample some random data using a function from `numpy`."
      ]
    },
    {
      "cell_type": "code",
      "metadata": {
        "id": "Jz8TK8JmChSK",
        "colab": {
          "base_uri": "https://localhost:8080/"
        },
        "outputId": "cb139d42-fc9c-4234-a135-40b8338820ed"
      },
      "source": [
        "# Sample 100 points with a mean of 0 and an std of 1. This is a standard normal distribution.\n",
        "X = np.random.normal(0, 1, 100)\n",
        "print(X)"
      ],
      "execution_count": null,
      "outputs": [
        {
          "output_type": "stream",
          "text": [
            "[ 2.05142211  2.22761324 -1.58727244  0.57091198 -0.22463142  1.02653343\n",
            "  0.42390025 -0.03470757 -0.7752096  -1.96246858 -2.41053946  0.44522922\n",
            " -0.22452056  0.28634851  0.55177756  0.94968024 -2.40970426 -0.57711015\n",
            " -0.16375479 -0.18412672 -1.93854014 -0.69901307 -1.43055712  1.08381861\n",
            " -0.17653774 -1.20731818  0.01147707 -2.28052342 -1.06519188 -0.986288\n",
            " -1.21948364  0.13342765  1.22870244  0.28822491 -1.35332499 -0.28979374\n",
            "  0.1033436   0.69744515  0.0193382  -1.40997243 -0.90409019  0.45243178\n",
            " -0.37454271  1.09785661 -1.188033   -1.47654313 -0.37008938  0.2869939\n",
            " -0.58628292 -1.18726115  0.99145568 -0.74140883  0.06795205  0.22036975\n",
            "  0.9106486  -0.30349086 -1.11188768 -0.59129982 -0.72124524  0.33348967\n",
            " -0.91178691  0.69288892 -1.02604917 -1.12200862 -0.26844465 -0.58871409\n",
            "  1.14075383  0.75359674 -0.29411142 -1.22343261 -0.75254708 -0.58052331\n",
            " -2.07144275 -1.25930496 -0.59772316  0.15377962  0.97910413 -0.467467\n",
            " -0.32435595 -0.33578387 -1.80145817  0.21812756  0.26787697  2.16894521\n",
            " -0.59772858  0.60552512  0.11111044  0.27754616 -0.57357946 -0.88760274\n",
            " -0.35194641 -0.63125607 -2.55840579 -0.06670029  0.86139255  0.28255177\n",
            " -0.64009625  0.3838725   0.26231052  0.22249566]\n"
          ],
          "name": "stdout"
        }
      ]
    },
    {
      "cell_type": "markdown",
      "metadata": {
        "id": "lgL3IOxcJSpD"
      },
      "source": [
        "$f(x) = \\frac{1}{\\sigma \\sqrt{2\\pi}}e^{\\frac{1}{2}(\\frac{x-\\alpha}{\\sigma})^2}$\n",
        "\n",
        "This line of code samples some random data from the function above, which is the probability density function of a normal (Gaussian) distribution."
      ]
    },
    {
      "cell_type": "markdown",
      "metadata": {
        "id": "DXXMODP_ChSK"
      },
      "source": [
        "##Plotting\n",
        "\n",
        "We can use the plotting library we imported as follows."
      ]
    },
    {
      "cell_type": "code",
      "metadata": {
        "colab": {
          "base_uri": "https://localhost:8080/",
          "height": 282
        },
        "id": "fCTcPXSzChSL",
        "outputId": "337080a1-9b4c-46a2-8240-c08f0c7a6dc3"
      },
      "source": [
        "plt.plot(X)\n"
      ],
      "execution_count": null,
      "outputs": [
        {
          "output_type": "execute_result",
          "data": {
            "text/plain": [
              "[<matplotlib.lines.Line2D at 0x7f76e8fa5050>]"
            ]
          },
          "metadata": {
            "tags": []
          },
          "execution_count": 22
        },
        {
          "output_type": "display_data",
          "data": {
            "image/png": "[encoded data removed]",
            "text/plain": [
              "<Figure size 432x288 with 1 Axes>"
            ]
          },
          "metadata": {
            "tags": [],
            "needs_background": "light"
          }
        }
      ]
    },
    {
      "cell_type": "markdown",
      "metadata": {
        "id": "Svm8v-L1ChSL"
      },
      "source": [
        "###Squelching Line Output\n",
        "\n",
        "You might have noticed the annoying line of the form `[<matplotlib.lines.Line2D at 0x7f72fdbc1710>]` before the plots. This is because the `.plot` function actually produces output. Sometimes we wish not to display output, we can accomplish this with the semi-colon as follows."
      ]
    },
    {
      "cell_type": "code",
      "metadata": {
        "colab": {
          "base_uri": "https://localhost:8080/",
          "height": 265
        },
        "id": "56OEkQ_YChSL",
        "outputId": "75fddc95-c9ee-4331-9e67-d7e219384af0"
      },
      "source": [
        "plt.plot(2, 2, color='blue', marker = 'x', linestyle = 'dashed', linewidth=2, markersize=12);\n",
        "plt.plot(10, 2, color='red', marker = 'v', linestyle = 'dashed', linewidth=2, markersize=12);"
      ],
      "execution_count": null,
      "outputs": [
        {
          "output_type": "display_data",
          "data": {
            "image/png": "[encoded data removed]",
            "text/plain": [
              "<Figure size 432x288 with 1 Axes>"
            ]
          },
          "metadata": {
            "tags": [],
            "needs_background": "light"
          }
        }
      ]
    },
    {
      "cell_type": "markdown",
      "metadata": {
        "id": "ZIMM0c_9ChSM"
      },
      "source": [
        "###Adding Axis Labels\n",
        "\n",
        "No self-respecting quant leaves a graph without labeled axes. Here are some commands to help with that."
      ]
    },
    {
      "cell_type": "code",
      "metadata": {
        "colab": {
          "base_uri": "https://localhost:8080/",
          "height": 279
        },
        "id": "UM-U980IChSM",
        "outputId": "df2bd151-8bd1-42b6-cbfa-647f376658d2"
      },
      "source": [
        "X = np.random.normal(0, 1, 100) # mean, standard deviation, quantity\n",
        "X2 = np.random.normal(0, 1, 100)\n",
        "\n",
        "plt.plot(X);\n",
        "plt.plot(X2);\n",
        "plt.xlabel('Time') # The data we generated is unitless, but don't forget units in general.\n",
        "plt.ylabel('Returns')\n",
        "plt.legend(['X', 'X2']);"
      ],
      "execution_count": null,
      "outputs": [
        {
          "output_type": "display_data",
          "data": {
            "image/png": "[encoded data removed]",
            "text/plain": [
              "<Figure size 432x288 with 1 Axes>"
            ]
          },
          "metadata": {
            "tags": [],
            "needs_background": "light"
          }
        }
      ]
    },
    {
      "cell_type": "markdown",
      "metadata": {
        "id": "DItK32VyChSM"
      },
      "source": [
        "##Generating Statistics\n",
        "\n",
        "Let's use `numpy` to take some simple statistics."
      ]
    },
    {
      "cell_type": "markdown",
      "metadata": {
        "id": "4s_4dsiWS5Ig"
      },
      "source": [
        "This function shows the mean between all the values in the X array, with the function ahead:\n",
        "\n",
        "$\\overline{x} = \\frac{1}{n}(\\sum_{i=1}^{n}x_i) = \\frac{x_1 + x_2 + ... +x_n}{n}$\n"
      ]
    },
    {
      "cell_type": "code",
      "metadata": {
        "colab": {
          "base_uri": "https://localhost:8080/"
        },
        "id": "xi3cT2jRChSN",
        "outputId": "ff1a6c3e-aba3-412f-a099-9d766befac75"
      },
      "source": [
        "np.mean(X)"
      ],
      "execution_count": null,
      "outputs": [
        {
          "output_type": "execute_result",
          "data": {
            "text/plain": [
              "-0.11694223415473058"
            ]
          },
          "metadata": {
            "tags": []
          },
          "execution_count": 27
        }
      ]
    },
    {
      "cell_type": "markdown",
      "metadata": {
        "id": "Oandg1Rkkb0w"
      },
      "source": [
        "This function shows the standard deviation from the values in array X:\n",
        "\n",
        "$\\sigma = (\\frac{\\sum_{i=1}^{N}(x_i- \\overline{x})^2}{N})$\n"
      ]
    },
    {
      "cell_type": "code",
      "metadata": {
        "colab": {
          "base_uri": "https://localhost:8080/"
        },
        "id": "xqnkZo0OChSN",
        "outputId": "a62dd9a8-f2f9-4cc6-ad6e-4588552685d0"
      },
      "source": [
        "np.std(X)"
      ],
      "execution_count": null,
      "outputs": [
        {
          "output_type": "execute_result",
          "data": {
            "text/plain": [
              "1.0190340108430327"
            ]
          },
          "metadata": {
            "tags": []
          },
          "execution_count": 26
        }
      ]
    },
    {
      "cell_type": "markdown",
      "metadata": {
        "id": "PO9a9YDQChSN"
      },
      "source": [
        "##Getting Real Pricing Data\n",
        "\n",
        "Randomly sampled data can be great for testing ideas, but let's get some real data. We can use `get_pricing` to do that. You can use the `?` syntax as discussed above to get more information on `get_pricing`'s arguments."
      ]
    },
    {
      "cell_type": "code",
      "metadata": {
        "colab": {
          "base_uri": "https://localhost:8080/",
          "height": 431
        },
        "id": "5bRAYlggChSN",
        "outputId": "aa66d4ed-a06f-49d8-ca2e-0f014e5df9d4"
      },
      "source": [
        "#User defined new function, from https://github.com/gjhernandezp/algorithms/blob/master/Python/Replacing_getpricing_with_Yahoo_Finance_data_ipny.ipynb\n",
        "import pandas_datareader as pdr\n",
        "import datetime \n",
        "data = pdr.get_data_yahoo('TSLA', start= datetime.datetime(2018,1,1), end= datetime.datetime(2019,1,1))\n",
        "data"
      ],
      "execution_count": null,
      "outputs": [
        {
          "output_type": "execute_result",
          "data": {
            "text/html": [
              "<div>\n",
              "<style scoped>\n",
              "    .dataframe tbody tr th:only-of-type {\n",
              "        vertical-align: middle;\n",
              "    }\n",
              "\n",
              "    .dataframe tbody tr th {\n",
              "        vertical-align: top;\n",
              "    }\n",
              "\n",
              "    .dataframe thead th {\n",
              "        text-align: right;\n",
              "    }\n",
              "</style>\n",
              "<table border=\"1\" class=\"dataframe\">\n",
              "  <thead>\n",
              "    <tr style=\"text-align: right;\">\n",
              "      <th></th>\n",
              "      <th>High</th>\n",
              "      <th>Low</th>\n",
              "      <th>Open</th>\n",
              "      <th>Close</th>\n",
              "      <th>Volume</th>\n",
              "      <th>Adj Close</th>\n",
              "    </tr>\n",
              "    <tr>\n",
              "      <th>Date</th>\n",
              "      <th></th>\n",
              "      <th></th>\n",
              "      <th></th>\n",
              "      <th></th>\n",
              "      <th></th>\n",
              "      <th></th>\n",
              "    </tr>\n",
              "  </thead>\n",
              "  <tbody>\n",
              "    <tr>\n",
              "      <th>2018-01-02</th>\n",
              "      <td>64.421997</td>\n",
              "      <td>62.200001</td>\n",
              "      <td>62.400002</td>\n",
              "      <td>64.106003</td>\n",
              "      <td>21761000</td>\n",
              "      <td>64.106003</td>\n",
              "    </tr>\n",
              "    <tr>\n",
              "      <th>2018-01-03</th>\n",
              "      <td>65.050003</td>\n",
              "      <td>63.110001</td>\n",
              "      <td>64.199997</td>\n",
              "      <td>63.450001</td>\n",
              "      <td>22607500</td>\n",
              "      <td>63.450001</td>\n",
              "    </tr>\n",
              "    <tr>\n",
              "      <th>2018-01-04</th>\n",
              "      <td>63.709999</td>\n",
              "      <td>61.136002</td>\n",
              "      <td>62.574001</td>\n",
              "      <td>62.924000</td>\n",
              "      <td>49731500</td>\n",
              "      <td>62.924000</td>\n",
              "    </tr>\n",
              "    <tr>\n",
              "      <th>2018-01-05</th>\n",
              "      <td>63.448002</td>\n",
              "      <td>62.400002</td>\n",
              "      <td>63.324001</td>\n",
              "      <td>63.316002</td>\n",
              "      <td>22956000</td>\n",
              "      <td>63.316002</td>\n",
              "    </tr>\n",
              "    <tr>\n",
              "      <th>2018-01-08</th>\n",
              "      <td>67.403999</td>\n",
              "      <td>63.099998</td>\n",
              "      <td>63.200001</td>\n",
              "      <td>67.281998</td>\n",
              "      <td>49297000</td>\n",
              "      <td>67.281998</td>\n",
              "    </tr>\n",
              "    <tr>\n",
              "      <th>...</th>\n",
              "      <td>...</td>\n",
              "      <td>...</td>\n",
              "      <td>...</td>\n",
              "      <td>...</td>\n",
              "      <td>...</td>\n",
              "      <td>...</td>\n",
              "    </tr>\n",
              "    <tr>\n",
              "      <th>2018-12-24</th>\n",
              "      <td>62.900002</td>\n",
              "      <td>59.040001</td>\n",
              "      <td>62.700001</td>\n",
              "      <td>59.077999</td>\n",
              "      <td>27799500</td>\n",
              "      <td>59.077999</td>\n",
              "    </tr>\n",
              "    <tr>\n",
              "      <th>2018-12-26</th>\n",
              "      <td>65.393997</td>\n",
              "      <td>58.818001</td>\n",
              "      <td>60.000000</td>\n",
              "      <td>65.218002</td>\n",
              "      <td>40815500</td>\n",
              "      <td>65.218002</td>\n",
              "    </tr>\n",
              "    <tr>\n",
              "      <th>2018-12-27</th>\n",
              "      <td>64.433998</td>\n",
              "      <td>60.299999</td>\n",
              "      <td>63.967999</td>\n",
              "      <td>63.226002</td>\n",
              "      <td>42875500</td>\n",
              "      <td>63.226002</td>\n",
              "    </tr>\n",
              "    <tr>\n",
              "      <th>2018-12-28</th>\n",
              "      <td>67.248001</td>\n",
              "      <td>63.681999</td>\n",
              "      <td>64.620003</td>\n",
              "      <td>66.774002</td>\n",
              "      <td>49695000</td>\n",
              "      <td>66.774002</td>\n",
              "    </tr>\n",
              "    <tr>\n",
              "      <th>2018-12-31</th>\n",
              "      <td>67.842003</td>\n",
              "      <td>65.052002</td>\n",
              "      <td>67.557999</td>\n",
              "      <td>66.559998</td>\n",
              "      <td>31511500</td>\n",
              "      <td>66.559998</td>\n",
              "    </tr>\n",
              "  </tbody>\n",
              "</table>\n",
              "<p>251 rows × 6 columns</p>\n",
              "</div>"
            ],
            "text/plain": [
              "                 High        Low       Open      Close    Volume  Adj Close\n",
              "Date                                                                       \n",
              "2018-01-02  64.421997  62.200001  62.400002  64.106003  21761000  64.106003\n",
              "2018-01-03  65.050003  63.110001  64.199997  63.450001  22607500  63.450001\n",
              "2018-01-04  63.709999  61.136002  62.574001  62.924000  49731500  62.924000\n",
              "2018-01-05  63.448002  62.400002  63.324001  63.316002  22956000  63.316002\n",
              "2018-01-08  67.403999  63.099998  63.200001  67.281998  49297000  67.281998\n",
              "...               ...        ...        ...        ...       ...        ...\n",
              "2018-12-24  62.900002  59.040001  62.700001  59.077999  27799500  59.077999\n",
              "2018-12-26  65.393997  58.818001  60.000000  65.218002  40815500  65.218002\n",
              "2018-12-27  64.433998  60.299999  63.967999  63.226002  42875500  63.226002\n",
              "2018-12-28  67.248001  63.681999  64.620003  66.774002  49695000  66.774002\n",
              "2018-12-31  67.842003  65.052002  67.557999  66.559998  31511500  66.559998\n",
              "\n",
              "[251 rows x 6 columns]"
            ]
          },
          "metadata": {
            "tags": []
          },
          "execution_count": 28
        }
      ]
    },
    {
      "cell_type": "markdown",
      "metadata": {
        "id": "z1G3um2DChSN"
      },
      "source": [
        "Our data is now a dataframe. You can see the datetime index and the colums with different pricing data."
      ]
    },
    {
      "cell_type": "code",
      "metadata": {
        "colab": {
          "base_uri": "https://localhost:8080/",
          "height": 431
        },
        "id": "IZ0GpqSaChSO",
        "outputId": "6d7bfdf3-d939-465c-b6cf-fe742d26f402"
      },
      "source": [
        "data"
      ],
      "execution_count": null,
      "outputs": [
        {
          "output_type": "execute_result",
          "data": {
            "text/html": [
              "<div>\n",
              "<style scoped>\n",
              "    .dataframe tbody tr th:only-of-type {\n",
              "        vertical-align: middle;\n",
              "    }\n",
              "\n",
              "    .dataframe tbody tr th {\n",
              "        vertical-align: top;\n",
              "    }\n",
              "\n",
              "    .dataframe thead th {\n",
              "        text-align: right;\n",
              "    }\n",
              "</style>\n",
              "<table border=\"1\" class=\"dataframe\">\n",
              "  <thead>\n",
              "    <tr style=\"text-align: right;\">\n",
              "      <th></th>\n",
              "      <th>High</th>\n",
              "      <th>Low</th>\n",
              "      <th>Open</th>\n",
              "      <th>Close</th>\n",
              "      <th>Volume</th>\n",
              "      <th>Adj Close</th>\n",
              "    </tr>\n",
              "    <tr>\n",
              "      <th>Date</th>\n",
              "      <th></th>\n",
              "      <th></th>\n",
              "      <th></th>\n",
              "      <th></th>\n",
              "      <th></th>\n",
              "      <th></th>\n",
              "    </tr>\n",
              "  </thead>\n",
              "  <tbody>\n",
              "    <tr>\n",
              "      <th>2018-01-02</th>\n",
              "      <td>64.421997</td>\n",
              "      <td>62.200001</td>\n",
              "      <td>62.400002</td>\n",
              "      <td>64.106003</td>\n",
              "      <td>21761000</td>\n",
              "      <td>64.106003</td>\n",
              "    </tr>\n",
              "    <tr>\n",
              "      <th>2018-01-03</th>\n",
              "      <td>65.050003</td>\n",
              "      <td>63.110001</td>\n",
              "      <td>64.199997</td>\n",
              "      <td>63.450001</td>\n",
              "      <td>22607500</td>\n",
              "      <td>63.450001</td>\n",
              "    </tr>\n",
              "    <tr>\n",
              "      <th>2018-01-04</th>\n",
              "      <td>63.709999</td>\n",
              "      <td>61.136002</td>\n",
              "      <td>62.574001</td>\n",
              "      <td>62.924000</td>\n",
              "      <td>49731500</td>\n",
              "      <td>62.924000</td>\n",
              "    </tr>\n",
              "    <tr>\n",
              "      <th>2018-01-05</th>\n",
              "      <td>63.448002</td>\n",
              "      <td>62.400002</td>\n",
              "      <td>63.324001</td>\n",
              "      <td>63.316002</td>\n",
              "      <td>22956000</td>\n",
              "      <td>63.316002</td>\n",
              "    </tr>\n",
              "    <tr>\n",
              "      <th>2018-01-08</th>\n",
              "      <td>67.403999</td>\n",
              "      <td>63.099998</td>\n",
              "      <td>63.200001</td>\n",
              "      <td>67.281998</td>\n",
              "      <td>49297000</td>\n",
              "      <td>67.281998</td>\n",
              "    </tr>\n",
              "    <tr>\n",
              "      <th>...</th>\n",
              "      <td>...</td>\n",
              "      <td>...</td>\n",
              "      <td>...</td>\n",
              "      <td>...</td>\n",
              "      <td>...</td>\n",
              "      <td>...</td>\n",
              "    </tr>\n",
              "    <tr>\n",
              "      <th>2018-12-24</th>\n",
              "      <td>62.900002</td>\n",
              "      <td>59.040001</td>\n",
              "      <td>62.700001</td>\n",
              "      <td>59.077999</td>\n",
              "      <td>27799500</td>\n",
              "      <td>59.077999</td>\n",
              "    </tr>\n",
              "    <tr>\n",
              "      <th>2018-12-26</th>\n",
              "      <td>65.393997</td>\n",
              "      <td>58.818001</td>\n",
              "      <td>60.000000</td>\n",
              "      <td>65.218002</td>\n",
              "      <td>40815500</td>\n",
              "      <td>65.218002</td>\n",
              "    </tr>\n",
              "    <tr>\n",
              "      <th>2018-12-27</th>\n",
              "      <td>64.433998</td>\n",
              "      <td>60.299999</td>\n",
              "      <td>63.967999</td>\n",
              "      <td>63.226002</td>\n",
              "      <td>42875500</td>\n",
              "      <td>63.226002</td>\n",
              "    </tr>\n",
              "    <tr>\n",
              "      <th>2018-12-28</th>\n",
              "      <td>67.248001</td>\n",
              "      <td>63.681999</td>\n",
              "      <td>64.620003</td>\n",
              "      <td>66.774002</td>\n",
              "      <td>49695000</td>\n",
              "      <td>66.774002</td>\n",
              "    </tr>\n",
              "    <tr>\n",
              "      <th>2018-12-31</th>\n",
              "      <td>67.842003</td>\n",
              "      <td>65.052002</td>\n",
              "      <td>67.557999</td>\n",
              "      <td>66.559998</td>\n",
              "      <td>31511500</td>\n",
              "      <td>66.559998</td>\n",
              "    </tr>\n",
              "  </tbody>\n",
              "</table>\n",
              "<p>251 rows × 6 columns</p>\n",
              "</div>"
            ],
            "text/plain": [
              "                 High        Low       Open      Close    Volume  Adj Close\n",
              "Date                                                                       \n",
              "2018-01-02  64.421997  62.200001  62.400002  64.106003  21761000  64.106003\n",
              "2018-01-03  65.050003  63.110001  64.199997  63.450001  22607500  63.450001\n",
              "2018-01-04  63.709999  61.136002  62.574001  62.924000  49731500  62.924000\n",
              "2018-01-05  63.448002  62.400002  63.324001  63.316002  22956000  63.316002\n",
              "2018-01-08  67.403999  63.099998  63.200001  67.281998  49297000  67.281998\n",
              "...               ...        ...        ...        ...       ...        ...\n",
              "2018-12-24  62.900002  59.040001  62.700001  59.077999  27799500  59.077999\n",
              "2018-12-26  65.393997  58.818001  60.000000  65.218002  40815500  65.218002\n",
              "2018-12-27  64.433998  60.299999  63.967999  63.226002  42875500  63.226002\n",
              "2018-12-28  67.248001  63.681999  64.620003  66.774002  49695000  66.774002\n",
              "2018-12-31  67.842003  65.052002  67.557999  66.559998  31511500  66.559998\n",
              "\n",
              "[251 rows x 6 columns]"
            ]
          },
          "metadata": {
            "tags": []
          },
          "execution_count": 29
        }
      ]
    },
    {
      "cell_type": "markdown",
      "metadata": {
        "id": "nCUmOCkYChSO"
      },
      "source": [
        "This is a pandas dataframe, so we can index in to just get price like this. For more info on pandas, please [click here](http://pandas.pydata.org/pandas-docs/stable/10min.html)."
      ]
    },
    {
      "cell_type": "code",
      "metadata": {
        "colab": {
          "base_uri": "https://localhost:8080/"
        },
        "id": "hYmunQDLChSO",
        "outputId": "d139317a-2b37-4a63-915d-73f1c511fd67"
      },
      "source": [
        "X = data['Low']\n",
        "X"
      ],
      "execution_count": null,
      "outputs": [
        {
          "output_type": "execute_result",
          "data": {
            "text/plain": [
              "Date\n",
              "2018-01-02    62.200001\n",
              "2018-01-03    63.110001\n",
              "2018-01-04    61.136002\n",
              "2018-01-05    62.400002\n",
              "2018-01-08    63.099998\n",
              "                ...    \n",
              "2018-12-24    59.040001\n",
              "2018-12-26    58.818001\n",
              "2018-12-27    60.299999\n",
              "2018-12-28    63.681999\n",
              "2018-12-31    65.052002\n",
              "Name: Low, Length: 251, dtype: float64"
            ]
          },
          "metadata": {
            "tags": []
          },
          "execution_count": 31
        }
      ]
    },
    {
      "cell_type": "markdown",
      "metadata": {
        "id": "QQeIhnfTChSO"
      },
      "source": [
        "Because there is now also date information in our data, we provide two series to `.plot`. `X.index` gives us the datetime index, and `X.values` gives us the pricing values. These are used as the X and Y coordinates to make a graph."
      ]
    },
    {
      "cell_type": "code",
      "metadata": {
        "colab": {
          "base_uri": "https://localhost:8080/",
          "height": 265
        },
        "id": "N-9V-3Q8ChSO",
        "outputId": "1e3a65a2-8057-47c3-ea3d-d29306d4780b"
      },
      "source": [
        "plt.plot(X.index, X.values)\n",
        "plt.ylabel('Low')\n",
        "plt.legend(['TSLA']);"
      ],
      "execution_count": null,
      "outputs": [
        {
          "output_type": "display_data",
          "data": {
            "image/png": "[encoded data removed]",
            "text/plain": [
              "<Figure size 432x288 with 1 Axes>"
            ]
          },
          "metadata": {
            "tags": [],
            "needs_background": "light"
          }
        }
      ]
    },
    {
      "cell_type": "markdown",
      "metadata": {
        "id": "YDgwXW12ChSO"
      },
      "source": [
        "We can get statistics again on real data."
      ]
    },
    {
      "cell_type": "code",
      "metadata": {
        "colab": {
          "base_uri": "https://localhost:8080/"
        },
        "id": "agbFvvU8ChSP",
        "outputId": "cb44fc8c-3fe3-45ef-b3d2-4f5a0fc6d896"
      },
      "source": [
        "np.mean(X)"
      ],
      "execution_count": null,
      "outputs": [
        {
          "output_type": "execute_result",
          "data": {
            "text/plain": [
              "62.11046212792871"
            ]
          },
          "metadata": {
            "tags": []
          },
          "execution_count": 33
        }
      ]
    },
    {
      "cell_type": "code",
      "metadata": {
        "colab": {
          "base_uri": "https://localhost:8080/"
        },
        "id": "eQ3mq0-rChSQ",
        "outputId": "6df09c58-6eb4-4a62-a9a1-6a4f97f3f281"
      },
      "source": [
        "np.std(X)"
      ],
      "execution_count": null,
      "outputs": [
        {
          "output_type": "execute_result",
          "data": {
            "text/plain": [
              "5.754345159456981"
            ]
          },
          "metadata": {
            "tags": []
          },
          "execution_count": 34
        }
      ]
    },
    {
      "cell_type": "markdown",
      "metadata": {
        "id": "i9y0b97vChSQ"
      },
      "source": [
        "##Getting Returns from Prices\n",
        "\n",
        "We can use the `pct_change` function to get returns. Notice how we drop the first element after doing this, as it will be `NaN` (nothing -> something results in a NaN percent change)."
      ]
    },
    {
      "cell_type": "code",
      "metadata": {
        "colab": {
          "base_uri": "https://localhost:8080/"
        },
        "id": "B--fR34GChSQ",
        "outputId": "377e6fc6-5a13-4b4b-98c2-b727a79c675c"
      },
      "source": [
        "R = X.pct_change()[1:]\n",
        "R"
      ],
      "execution_count": null,
      "outputs": [
        {
          "output_type": "execute_result",
          "data": {
            "text/plain": [
              "Date\n",
              "2018-01-03    0.014630\n",
              "2018-01-04   -0.031279\n",
              "2018-01-05    0.020675\n",
              "2018-01-08    0.011218\n",
              "2018-01-09    0.037718\n",
              "                ...   \n",
              "2018-12-24   -0.055179\n",
              "2018-12-26   -0.003760\n",
              "2018-12-27    0.025196\n",
              "2018-12-28    0.056086\n",
              "2018-12-31    0.021513\n",
              "Name: Low, Length: 250, dtype: float64"
            ]
          },
          "metadata": {
            "tags": []
          },
          "execution_count": 35
        }
      ]
    },
    {
      "cell_type": "markdown",
      "metadata": {
        "id": "QQpo-b4BChSQ"
      },
      "source": [
        "We can plot the returns distribution as a histogram."
      ]
    },
    {
      "cell_type": "code",
      "metadata": {
        "colab": {
          "base_uri": "https://localhost:8080/",
          "height": 279
        },
        "id": "puemO_GKChSR",
        "outputId": "b856ee49-b9d1-4d6f-e37f-ecadb7fe58e9"
      },
      "source": [
        "plt.hist(R, bins=20)\n",
        "plt.xlabel('Return')\n",
        "plt.ylabel('Frequency')\n",
        "plt.legend(['TSLA Returns']);"
      ],
      "execution_count": null,
      "outputs": [
        {
          "output_type": "display_data",
          "data": {
            "image/png": "[encoded data removed]",
            "text/plain": [
              "<Figure size 432x288 with 1 Axes>"
            ]
          },
          "metadata": {
            "tags": [],
            "needs_background": "light"
          }
        }
      ]
    },
    {
      "cell_type": "markdown",
      "metadata": {
        "id": "1iwds3MqChSR"
      },
      "source": [
        "Get statistics again."
      ]
    },
    {
      "cell_type": "code",
      "metadata": {
        "colab": {
          "base_uri": "https://localhost:8080/"
        },
        "id": "pKkl_Y51ChSR",
        "outputId": "8b861fde-e316-4941-95f6-1ae3093ed3bf"
      },
      "source": [
        "np.mean(R)"
      ],
      "execution_count": null,
      "outputs": [
        {
          "output_type": "execute_result",
          "data": {
            "text/plain": [
              "0.0007555315204939954"
            ]
          },
          "metadata": {
            "tags": []
          },
          "execution_count": 37
        }
      ]
    },
    {
      "cell_type": "code",
      "metadata": {
        "colab": {
          "base_uri": "https://localhost:8080/"
        },
        "id": "090ByNxrChSR",
        "outputId": "839e4259-2894-47be-8ad5-4feaa71276ed"
      },
      "source": [
        "np.std(R)"
      ],
      "execution_count": null,
      "outputs": [
        {
          "output_type": "execute_result",
          "data": {
            "text/plain": [
              "0.03396226350577387"
            ]
          },
          "metadata": {
            "tags": []
          },
          "execution_count": 38
        }
      ]
    },
    {
      "cell_type": "markdown",
      "metadata": {
        "id": "jZMRrFnaChSR"
      },
      "source": [
        "Now let's go backwards and generate data out of a normal distribution using the statistics we estimated from Microsoft's returns. We'll see that we have good reason to suspect Microsoft's returns may not be normal, as the resulting normal distribution looks far different."
      ]
    },
    {
      "cell_type": "code",
      "metadata": {
        "colab": {
          "base_uri": "https://localhost:8080/",
          "height": 279
        },
        "id": "lFpdSGAHChSR",
        "outputId": "b65ec57a-78c5-46e4-ec07-f43da27685d7"
      },
      "source": [
        "plt.hist(np.random.normal(np.mean(R), np.std(R), 10000), bins=20)\n",
        "plt.xlabel('Return')\n",
        "plt.ylabel('Frequency')\n",
        "plt.legend(['Normally Distributed Returns']);"
      ],
      "execution_count": null,
      "outputs": [
        {
          "output_type": "display_data",
          "data": {
            "image/png": "[encoded data removed]",
            "text/plain": [
              "<Figure size 432x288 with 1 Axes>"
            ]
          },
          "metadata": {
            "tags": [],
            "needs_background": "light"
          }
        }
      ]
    },
    {
      "cell_type": "markdown",
      "metadata": {
        "id": "2tgUKDieChSS"
      },
      "source": [
        "##Generating a Moving Average\n",
        "\n",
        "`pandas` has some nice tools to allow us to generate rolling statistics. Here's an example. Notice how there's no moving average for the first 60 days, as we don't have 60 days of data on which to generate the statistic."
      ]
    },
    {
      "cell_type": "code",
      "metadata": {
        "colab": {
          "base_uri": "https://localhost:8080/",
          "height": 265
        },
        "id": "3bDWPivDChSS",
        "outputId": "fa3a1298-59f0-41e7-dda0-cf672fdcd458"
      },
      "source": [
        "# Take the average of the last 60 days at each timepoint.\n",
        "MAVG = X.rolling(60).mean()\n",
        "plt.plot(X.index, X.values)\n",
        "plt.plot(MAVG.index, MAVG.values)\n",
        "plt.ylabel('Price')\n",
        "plt.legend(['TSLA', '60-day MAVG']);"
      ],
      "execution_count": null,
      "outputs": [
        {
          "output_type": "display_data",
          "data": {
            "image/png": "[encoded data removed]",
            "text/plain": [
              "<Figure size 432x288 with 1 Axes>"
            ]
          },
          "metadata": {
            "tags": [],
            "needs_background": "light"
          }
        }
      ]
    },
    {
      "cell_type": "markdown",
      "metadata": {
        "id": "IcrCvAUBChSS"
      },
      "source": [
        "This presentation is for informational purposes only and does not constitute an offer to sell, a solicitation to buy, or a recommendation for any security; nor does it constitute an offer to provide investment advisory or other services by Quantopian, Inc. (\"Quantopian\"). Nothing contained herein constitutes investment advice or offers any opinion with respect to the suitability of any security, and any views expressed herein should not be taken as advice to buy, sell, or hold any security or as an endorsement of any security or company. In preparing the information contained herein, Quantopian, Inc. has not taken into account the investment needs, objectives, and financial circumstances of any particular investor. Any views expressed and data illustrated herein were prepared based upon information, believed to be reliable, available to Quantopian, Inc. at the time of publication. Quantopian makes no guarantees as to their accuracy or completeness. All information is subject to change and may quickly become unreliable for various reasons, including changes in market conditions or economic circumstances."
      ]
    }
  ]
}
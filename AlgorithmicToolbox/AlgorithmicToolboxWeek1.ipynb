{
  "nbformat": 4,
  "nbformat_minor": 0,
  "metadata": {
    "colab": {
      "name": "AlgorithmicToolboxWeek1.ipynb",
      "provenance": [],
      "collapsed_sections": []
    },
    "kernelspec": {
      "name": "python3",
      "display_name": "Python 3"
    },
    "language_info": {
      "name": "python"
    }
  },
  "cells": [
    {
      "cell_type": "markdown",
      "metadata": {
        "id": "N1ok_-56OjB1"
      },
      "source": [
        "# I Solving the Sum of Two Digits Programming Challenge"
      ]
    },
    {
      "cell_type": "markdown",
      "metadata": {
        "id": "MMY7kmDSO0KM"
      },
      "source": [
        "## C++"
      ]
    },
    {
      "cell_type": "code",
      "metadata": {
        "colab": {
          "base_uri": "https://localhost:8080/"
        },
        "id": "2pGGf9BkPNIk",
        "outputId": "4f4e1a33-76e4-47bb-cddc-c2067b10e966"
      },
      "source": [
        "%%writefile sum.cpp\n",
        "#include <iostream>\n",
        "\n",
        "int sum_of_two_digits(int first_digit, int second_digit) {\n",
        "    return first_digit + second_digit;\n",
        "}\n",
        "\n",
        "int main() {\n",
        "    int a = 0;\n",
        "    int b = 0;\n",
        "    std::cin >> a;\n",
        "    std::cin >> b;\n",
        "    std::cout << sum_of_two_digits(a, b);\n",
        "    return 0;\n",
        "}"
      ],
      "execution_count": null,
      "outputs": [
        {
          "output_type": "stream",
          "text": [
            "Overwriting sum.cpp\n"
          ],
          "name": "stdout"
        }
      ]
    },
    {
      "cell_type": "code",
      "metadata": {
        "colab": {
          "base_uri": "https://localhost:8080/"
        },
        "id": "0G3ZKOYAPXSU",
        "outputId": "2010c390-bdad-4051-b147-a04a70eae27b"
      },
      "source": [
        "!g++ sum.cpp -o sum\n",
        "!./sum"
      ],
      "execution_count": null,
      "outputs": [
        {
          "output_type": "stream",
          "text": [
            "5 9\n",
            "14"
          ],
          "name": "stdout"
        }
      ]
    },
    {
      "cell_type": "markdown",
      "metadata": {
        "id": "iNkG2HqfTl9c"
      },
      "source": [
        "### Test input output files"
      ]
    },
    {
      "cell_type": "code",
      "metadata": {
        "colab": {
          "base_uri": "https://localhost:8080/"
        },
        "id": "aTzU2efzMxly",
        "outputId": "b34f1ea1-f134-4086-fbe5-cf58635acd07"
      },
      "source": [
        "%%writefile input1.txt\n",
        "4 8"
      ],
      "execution_count": null,
      "outputs": [
        {
          "output_type": "stream",
          "text": [
            "Writing input1.txt\n"
          ],
          "name": "stdout"
        }
      ]
    },
    {
      "cell_type": "code",
      "metadata": {
        "colab": {
          "base_uri": "https://localhost:8080/"
        },
        "id": "zBJ0Gc0NQRet",
        "outputId": "5321bc78-a1e4-4d7a-b855-078cc4cd6385"
      },
      "source": [
        "%%writefile output1.txt\n",
        "12"
      ],
      "execution_count": null,
      "outputs": [
        {
          "output_type": "stream",
          "text": [
            "Overwriting output1.txt\n"
          ],
          "name": "stdout"
        }
      ]
    },
    {
      "cell_type": "code",
      "metadata": {
        "colab": {
          "base_uri": "https://localhost:8080/"
        },
        "id": "IjEcIx63PJAN",
        "outputId": "eca686fd-86ea-4835-a7cd-bf14a538c8bd"
      },
      "source": [
        "%%writefile input2.txt\n",
        "-5 9"
      ],
      "execution_count": null,
      "outputs": [
        {
          "output_type": "stream",
          "text": [
            "Writing input2.txt\n"
          ],
          "name": "stdout"
        }
      ]
    },
    {
      "cell_type": "code",
      "metadata": {
        "colab": {
          "base_uri": "https://localhost:8080/"
        },
        "id": "Up9gOrxURTmd",
        "outputId": "828c03cf-f627-4566-f09a-443b887c517f"
      },
      "source": [
        "%%writefile output2.txt\n",
        "4"
      ],
      "execution_count": null,
      "outputs": [
        {
          "output_type": "stream",
          "text": [
            "Writing output2.txt\n"
          ],
          "name": "stdout"
        }
      ]
    },
    {
      "cell_type": "code",
      "metadata": {
        "colab": {
          "base_uri": "https://localhost:8080/"
        },
        "id": "PST6G-s-Pwgc",
        "outputId": "bda1fa8a-1dce-4c50-b3ac-cc60c72d2ea9"
      },
      "source": [
        "!./sum < input1.txt"
      ],
      "execution_count": null,
      "outputs": [
        {
          "output_type": "stream",
          "text": [
            "12"
          ],
          "name": "stdout"
        }
      ]
    },
    {
      "cell_type": "code",
      "metadata": {
        "colab": {
          "base_uri": "https://localhost:8080/"
        },
        "id": "cKxZOjSlRfIN",
        "outputId": "fc123803-52cb-42f4-f6b4-ea948bcb25eb"
      },
      "source": [
        "!./sum < input2.txt"
      ],
      "execution_count": null,
      "outputs": [
        {
          "output_type": "stream",
          "text": [
            "4"
          ],
          "name": "stdout"
        }
      ]
    },
    {
      "cell_type": "markdown",
      "metadata": {
        "id": "Qw2TQWCCUwqk"
      },
      "source": [
        "### Comparing files with grep\n",
        "\n",
        "https://askubuntu.com/questions/546796/comparing-two-text-files"
      ]
    },
    {
      "cell_type": "code",
      "metadata": {
        "id": "WVIaAmMKU4QM"
      },
      "source": [
        "!grep -xvFf output1.txt output1.txt "
      ],
      "execution_count": null,
      "outputs": []
    },
    {
      "cell_type": "code",
      "metadata": {
        "colab": {
          "base_uri": "https://localhost:8080/"
        },
        "id": "MQU8gPPjQuYO",
        "outputId": "2aaea6d4-ddbb-4e8a-8551-c88538479476"
      },
      "source": [
        "!grep -xvFf output1.txt output2.txt "
      ],
      "execution_count": null,
      "outputs": [
        {
          "output_type": "stream",
          "text": [
            "4\n"
          ],
          "name": "stdout"
        }
      ]
    },
    {
      "cell_type": "code",
      "metadata": {
        "colab": {
          "base_uri": "https://localhost:8080/"
        },
        "id": "jYL9OuYBTD_l",
        "outputId": "74aae088-46c6-415e-9674-3923c5931443"
      },
      "source": [
        "!grep -xvFf output2.txt output1.txt "
      ],
      "execution_count": null,
      "outputs": [
        {
          "output_type": "stream",
          "text": [
            "12\n"
          ],
          "name": "stdout"
        }
      ]
    },
    {
      "cell_type": "code",
      "metadata": {
        "id": "Jlja0Xm4TX9M"
      },
      "source": [
        "!./sum < input1.txt> ctest1.txt\n",
        "!grep -xvFf output1.txt ctest1.txt"
      ],
      "execution_count": null,
      "outputs": []
    },
    {
      "cell_type": "code",
      "metadata": {
        "id": "g9OIUZA_QLCQ"
      },
      "source": [
        "!./sum < input2.txt > ctest2.txt\n",
        "!grep -xvFf output2.txt ctest2.txt"
      ],
      "execution_count": null,
      "outputs": []
    },
    {
      "cell_type": "markdown",
      "metadata": {
        "id": "3BgOaDjUVJk6"
      },
      "source": [
        "## Python"
      ]
    },
    {
      "cell_type": "code",
      "metadata": {
        "colab": {
          "base_uri": "https://localhost:8080/"
        },
        "id": "DBvl-T0CTN_8",
        "outputId": "ced93d00-88f7-4b3a-e9eb-fcad18cfa62b"
      },
      "source": [
        "%%writefile sum.py\n",
        "# python3\n",
        "\n",
        "\n",
        "def sum_of_two_digits(first_digit, second_digit):\n",
        "    return first_digit + second_digit\n",
        "\n",
        "if __name__ == '__main__':\n",
        "    a, b = map(int, input().split())\n",
        "    print(sum_of_two_digits(a, b))"
      ],
      "execution_count": null,
      "outputs": [
        {
          "output_type": "stream",
          "text": [
            "Writing sum.py\n"
          ],
          "name": "stdout"
        }
      ]
    },
    {
      "cell_type": "code",
      "metadata": {
        "colab": {
          "base_uri": "https://localhost:8080/"
        },
        "id": "QKoKM11_WGyF",
        "outputId": "6d2015ce-a9c0-40a8-cb6a-346f1ce427e0"
      },
      "source": [
        "!python sum.py"
      ],
      "execution_count": null,
      "outputs": [
        {
          "output_type": "stream",
          "text": [
            "1 5\n",
            "6\n"
          ],
          "name": "stdout"
        }
      ]
    },
    {
      "cell_type": "code",
      "metadata": {
        "id": "cocFbPRTWrqt"
      },
      "source": [
        "!python sum.py  < input1.txt> ptest1.txt\n",
        "!grep -xvFf output1.txt ptest1.txt"
      ],
      "execution_count": null,
      "outputs": []
    },
    {
      "cell_type": "code",
      "metadata": {
        "id": "MorKTa-XXASN",
        "colab": {
          "base_uri": "https://localhost:8080/"
        },
        "outputId": "8e4aefdf-35a6-493d-8dbd-62f601abc417"
      },
      "source": [
        "!python sum.py  < input2.txt> ptest2.txt\n",
        "!grep -xvFf output2.txt ptest2.txt"
      ],
      "execution_count": null,
      "outputs": [
        {
          "output_type": "stream",
          "text": [
            "/bin/bash: input2.txt: No such file or directory\n",
            "grep: output2.txt: No such file or directory\n"
          ],
          "name": "stdout"
        }
      ]
    },
    {
      "cell_type": "markdown",
      "metadata": {
        "id": "uvP-mOubW_5F"
      },
      "source": [
        "# II Solving The Maximum Pairwise Product Programming Challenge in C++"
      ]
    },
    {
      "cell_type": "markdown",
      "metadata": {
        "id": "C12yoFR6Xonl"
      },
      "source": [
        "## C++"
      ]
    },
    {
      "cell_type": "markdown",
      "metadata": {
        "id": "7tJFzi7GjHN8"
      },
      "source": [
        "### Tipo de dato erroneo por lo que el dato no se puede guardar"
      ]
    },
    {
      "cell_type": "code",
      "metadata": {
        "colab": {
          "base_uri": "https://localhost:8080/"
        },
        "id": "YL4qJX3tXxdd",
        "outputId": "8e437412-ca69-4337-87f5-f35ad1e381ab"
      },
      "source": [
        "%%writefile max_pairwise_product1.cpp\n",
        "#include <iostream>\n",
        "#include <vector>\n",
        "#include <algorithm>\n",
        "\n",
        "int MaxPairwiseProduct(const std::vector<int>& numbers) {\n",
        "    int max_product = 0;\n",
        "    int n = numbers.size();\n",
        "\n",
        "    for (int first = 0; first < n; ++first) {\n",
        "        for (int second = first + 1; second < n; ++second) {\n",
        "            max_product = std::max(max_product,\n",
        "                numbers[first] * numbers[second]);\n",
        "        }\n",
        "    }\n",
        "\n",
        "    return max_product;\n",
        "}\n",
        "\n",
        "int main() {\n",
        "    int n;\n",
        "    std::cin >> n;\n",
        "    std::vector<int> numbers(n);\n",
        "    for (int i = 0; i < n; ++i) {\n",
        "        std::cin >> numbers[i];\n",
        "    }\n",
        "\n",
        "    std::cout << MaxPairwiseProduct(numbers) << \"\\n\";\n",
        "    return 0;\n",
        "}\n"
      ],
      "execution_count": null,
      "outputs": [
        {
          "output_type": "stream",
          "text": [
            "Writing max_pairwise_product1.cpp\n"
          ],
          "name": "stdout"
        }
      ]
    },
    {
      "cell_type": "code",
      "metadata": {
        "colab": {
          "base_uri": "https://localhost:8080/"
        },
        "id": "KGxaEjvWX__O",
        "outputId": "8e2c8df2-a9ac-4dba-bcd7-7b52e239802c"
      },
      "source": [
        "!g++ max_pairwise_product1.cpp -o max_pairwise_product1\n",
        "!./max_pairwise_product1"
      ],
      "execution_count": null,
      "outputs": [
        {
          "output_type": "stream",
          "text": [
            "3\n",
            "1 5 6\n",
            "30\n"
          ],
          "name": "stdout"
        }
      ]
    },
    {
      "cell_type": "markdown",
      "metadata": {
        "id": "IeZ3kTjpYmR9"
      },
      "source": [
        "### Test 1: lagest input numbers 200000 200000 in the input"
      ]
    },
    {
      "cell_type": "code",
      "metadata": {
        "id": "LQNlZqaqYt7U",
        "colab": {
          "base_uri": "https://localhost:8080/"
        },
        "outputId": "4610cccf-2d3b-4256-d153-bdf78627ee9a"
      },
      "source": [
        "%%writefile input1.txt\n",
        "5\n",
        "1 3 200000 9 200000 23"
      ],
      "execution_count": null,
      "outputs": [
        {
          "output_type": "stream",
          "text": [
            "Writing input1.txt\n"
          ],
          "name": "stdout"
        }
      ]
    },
    {
      "cell_type": "code",
      "metadata": {
        "colab": {
          "base_uri": "https://localhost:8080/"
        },
        "id": "2Wad2VZUZDxR",
        "outputId": "7a4d4825-b8e2-4322-c8ab-461d16c568f0"
      },
      "source": [
        "!./max_pairwise_product1 < input1.txt"
      ],
      "execution_count": null,
      "outputs": [
        {
          "output_type": "stream",
          "text": [
            "1345294336\n"
          ],
          "name": "stdout"
        }
      ]
    },
    {
      "cell_type": "markdown",
      "metadata": {
        "id": "94xWe-YOjRwj"
      },
      "source": [
        "### Código ineficiente pero con correcto tipo de dato"
      ]
    },
    {
      "cell_type": "code",
      "metadata": {
        "colab": {
          "base_uri": "https://localhost:8080/"
        },
        "id": "MPcmsxiQZSfE",
        "outputId": "d603c5eb-dc1d-4be9-e476-70c4893a4bea"
      },
      "source": [
        "%%writefile max_pairwise_product2.cpp\n",
        "#include <iostream>\n",
        "#include <vector>\n",
        "#include <algorithm>\n",
        "\n",
        "long long MaxPairwiseProduct(const std::vector<int>& numbers) {\n",
        "    long long max_product = 0LL;\n",
        "\t  long long aux_product = 0LL;\n",
        "    int n = numbers.size();\n",
        "\n",
        "    for (int first = 0; first < n; ++first) {\n",
        "        for (int second = first + 1; second < n; ++second) {\n",
        "\t\t\t       aux_product =  (long long) numbers[first] * numbers[second];\n",
        "            if ( max_product < aux_product)  {\n",
        "\t\t\t\t        max_product = aux_product;\n",
        "             }\n",
        "        }\n",
        "    }\n",
        "\n",
        "    return max_product;\n",
        "}\n",
        "\n",
        "int main() {\n",
        "    int n;\n",
        "    std::cin >> n;\n",
        "    std::vector<int> numbers(n);\n",
        "    for (int i = 0; i < n; ++i) {\n",
        "        std::cin >> numbers[i];\n",
        "    }\n",
        "\n",
        "    std::cout << MaxPairwiseProduct(numbers) << \"\\n\";\n",
        "    return 0;\n",
        "}\n"
      ],
      "execution_count": null,
      "outputs": [
        {
          "output_type": "stream",
          "text": [
            "Overwriting max_pairwise_product2.cpp\n"
          ],
          "name": "stdout"
        }
      ]
    },
    {
      "cell_type": "code",
      "metadata": {
        "colab": {
          "base_uri": "https://localhost:8080/"
        },
        "id": "OpdLPLRj7V7f",
        "outputId": "2c9a5f87-1d10-41f9-c921-d80c985f4e33"
      },
      "source": [
        "%%writefile output1.txt\n",
        "40000000000"
      ],
      "execution_count": null,
      "outputs": [
        {
          "output_type": "stream",
          "text": [
            "Overwriting output1.txt\n"
          ],
          "name": "stdout"
        }
      ]
    },
    {
      "cell_type": "code",
      "metadata": {
        "colab": {
          "base_uri": "https://localhost:8080/"
        },
        "id": "I5pCeOG1Zm7s",
        "outputId": "c98c5bd9-f10b-4e19-f5b5-00631aa6b3c5"
      },
      "source": [
        "!g++ max_pairwise_product2.cpp -o max_pairwise_product2\n",
        "!./max_pairwise_product2 < input1.txt"
      ],
      "execution_count": null,
      "outputs": [
        {
          "output_type": "stream",
          "text": [
            "40000000000\n"
          ],
          "name": "stdout"
        }
      ]
    },
    {
      "cell_type": "code",
      "metadata": {
        "id": "EHrjLSAq7mam"
      },
      "source": [
        "!./max_pairwise_product2 < input1.txt> ctest1.txt\n",
        "!grep -xvFf output1.txt ctest1.txt "
      ],
      "execution_count": null,
      "outputs": []
    },
    {
      "cell_type": "markdown",
      "metadata": {
        "id": "9z9yr5QkeyJF"
      },
      "source": [
        "### Test 2  generate a tests file with the maximun n 200000 numbers and measure time"
      ]
    },
    {
      "cell_type": "code",
      "metadata": {
        "id": "oLiMjbAIfPlX",
        "colab": {
          "base_uri": "https://localhost:8080/"
        },
        "outputId": "2569a4f6-989d-4659-d7eb-bf05f5c2cc06"
      },
      "source": [
        "%%writefile numeros_aleatorios.cpp\n",
        "#include <stdlib.h>\n",
        "#include <time.h>\n",
        "#include<iostream>\n",
        "#include <vector>\n",
        "#include <algorithm>\n",
        " \n",
        "int main(){\n",
        "    \n",
        "    std::vector<int> numbers(200000);\n",
        "    srand(time(NULL));\n",
        "    std::cout << 200000 << \"\\n\";\n",
        "    for(int c = 0; c < 200000; c++)\n",
        "    {\n",
        "        numbers[c] = 1 + rand() % (200001 - 1);\n",
        "    }\n",
        "    for(int c = 0; c < 200000; c++)\n",
        "    {\n",
        "       std::cout << numbers[c] << \" \";\n",
        "    }\n",
        "    \n",
        "    return 0;\n",
        "}"
      ],
      "execution_count": null,
      "outputs": [
        {
          "output_type": "stream",
          "text": [
            "Writing numeros_aleatorios.cpp\n"
          ],
          "name": "stdout"
        }
      ]
    },
    {
      "cell_type": "code",
      "metadata": {
        "id": "Wu9QskRT6jmZ"
      },
      "source": [
        "!g++ numeros_aleatorios.cpp -o numeros_aleatorios # Compilar el programa\n",
        "!./numeros_aleatorios > input2.txt"
      ],
      "execution_count": null,
      "outputs": []
    },
    {
      "cell_type": "code",
      "metadata": {
        "colab": {
          "base_uri": "https://localhost:8080/"
        },
        "id": "Rj3VW3DyAgZp",
        "outputId": "db0983fc-ada8-4740-a408-7c2e5ac8705d"
      },
      "source": [
        "%%time\n",
        "!g++ max_pairwise_product2.cpp -o max_pairwise_product2\n",
        "!./max_pairwise_product2 < input2.txt"
      ],
      "execution_count": null,
      "outputs": [
        {
          "output_type": "stream",
          "text": [
            "\u001b[01m\u001b[Kg++:\u001b[m\u001b[K \u001b[01;31m\u001b[Kerror: \u001b[m\u001b[Kmax_pairwise_product2.cpp: No such file or directory\n",
            "\u001b[01m\u001b[Kg++:\u001b[m\u001b[K \u001b[01;31m\u001b[Kfatal error: \u001b[m\u001b[Kno input files\n",
            "compilation terminated.\n",
            "/bin/bash: ./max_pairwise_product2: No such file or directory\n",
            "CPU times: user 13.8 ms, sys: 5.22 ms, total: 19.1 ms\n",
            "Wall time: 230 ms\n"
          ],
          "name": "stdout"
        }
      ]
    },
    {
      "cell_type": "markdown",
      "metadata": {
        "id": "sc9nOLQrfTm0"
      },
      "source": [
        "### Solución eficiente pero con perdida de memoria"
      ]
    },
    {
      "cell_type": "code",
      "metadata": {
        "id": "dwznnPp4wFq0",
        "colab": {
          "base_uri": "https://localhost:8080/"
        },
        "outputId": "dbfbd216-f3fa-4458-b7d4-ee0c89a33cf3"
      },
      "source": [
        "%%writefile max_pairwise_product3.cpp\n",
        "#include <iostream>\n",
        "#include <vector>\n",
        "#include <algorithm>\n",
        "\n",
        "long long MaxPairwiseProduct(const std::vector<int>& numbers) {\n",
        "    long long max1 = 1;\n",
        "\t  long long max2 = 1;\n",
        "    int n = numbers.size();\n",
        "\n",
        "    for (int first = 0; first < n; first++) {\n",
        "        if(numbers[first]>max1){\n",
        "            max1 = (long long)numbers[first];\n",
        "            max2 = max1;\n",
        "        }else if(numbers[first]>max2){\n",
        "            max2 =  (long long)numbers[first];\n",
        "        }\n",
        "    }\n",
        "    return max1*max2;\n",
        "}\n",
        "\n",
        "int main() {\n",
        "    int n;\n",
        "    std::cin >> n;\n",
        "    std::vector<int> numbers(n);\n",
        "    for (int i = 0; i < n; ++i) {\n",
        "        std::cin >> numbers[i];\n",
        "    }\n",
        "\n",
        "    std::cout << MaxPairwiseProduct(numbers) << \"\\n\";\n",
        "    return 0;\n",
        "}\n"
      ],
      "execution_count": null,
      "outputs": [
        {
          "output_type": "stream",
          "text": [
            "Writing max_pairwise_product3.cpp\n"
          ],
          "name": "stdout"
        }
      ]
    },
    {
      "cell_type": "markdown",
      "metadata": {
        "id": "bhqiKQG6fjKM"
      },
      "source": [
        "Stress tests "
      ]
    },
    {
      "cell_type": "code",
      "metadata": {
        "colab": {
          "base_uri": "https://localhost:8080/"
        },
        "id": "0GPYGRcU5rNJ",
        "outputId": "3638ec9e-63ef-42db-d558-25472f3c3f6d"
      },
      "source": [
        "%%time\n",
        "!g++ max_pairwise_product3.cpp -o max_pairwise_product3\n",
        "!./max_pairwise_product3 < input2.txt"
      ],
      "execution_count": null,
      "outputs": [
        {
          "output_type": "stream",
          "text": [
            "40000000000\n",
            "CPU times: user 11.5 ms, sys: 9.89 ms, total: 21.4 ms\n",
            "Wall time: 525 ms\n"
          ],
          "name": "stdout"
        }
      ]
    },
    {
      "cell_type": "markdown",
      "metadata": {
        "id": "ycsYMt_mltyZ"
      },
      "source": [
        "### Solución más eficiente"
      ]
    },
    {
      "cell_type": "code",
      "metadata": {
        "colab": {
          "base_uri": "https://localhost:8080/"
        },
        "id": "eaOQwpqlltUq",
        "outputId": "0e2baef6-3e00-4297-e1b5-ce651afbbf25"
      },
      "source": [
        "%%writefile max_pairwise_product4.cpp\n",
        "#include <iostream>\n",
        "#include <vector>\n",
        "#include <algorithm>\n",
        "\n",
        "int main() {\n",
        "    int n;\n",
        "    std::cin >> n;\n",
        "    int number;\n",
        "    long long max1 = 1;\n",
        "\t  long long max2 = 1;\n",
        "\n",
        "    for (int i = 0; i < n; ++i) {\n",
        "        std::cin >> number;\n",
        "        if(number>max1){\n",
        "            max1 = (long long)number;\n",
        "            max2 = max1;\n",
        "        }else if(number>max2){\n",
        "            max2 =  (long long)number;\n",
        "        }\n",
        "    }\n",
        "\n",
        "    std::cout << max1*max2 << \"\\n\";\n",
        "    return 0;\n",
        "}\n"
      ],
      "execution_count": null,
      "outputs": [
        {
          "output_type": "stream",
          "text": [
            "Overwriting max_pairwise_product4.cpp\n"
          ],
          "name": "stdout"
        }
      ]
    },
    {
      "cell_type": "markdown",
      "metadata": {
        "id": "2f1C3vVlnP4T"
      },
      "source": [
        "###Stress test"
      ]
    },
    {
      "cell_type": "code",
      "metadata": {
        "colab": {
          "base_uri": "https://localhost:8080/"
        },
        "id": "OFQhuGx7m4hJ",
        "outputId": "e2687efd-270a-4adc-865f-f171da946759"
      },
      "source": [
        "%%time\n",
        "!g++ max_pairwise_product4.cpp -o max_pairwise_product4\n",
        "!./max_pairwise_product4 < input2.txt"
      ],
      "execution_count": null,
      "outputs": [
        {
          "output_type": "stream",
          "text": [
            "40000000000\n",
            "CPU times: user 12.1 ms, sys: 11.2 ms, total: 23.3 ms\n",
            "Wall time: 526 ms\n"
          ],
          "name": "stdout"
        }
      ]
    },
    {
      "cell_type": "markdown",
      "metadata": {
        "id": "rydCU4bFfrhG"
      },
      "source": [
        "## Python"
      ]
    },
    {
      "cell_type": "code",
      "metadata": {
        "id": "gNqheAb9zkds",
        "colab": {
          "base_uri": "https://localhost:8080/"
        },
        "outputId": "25694182-8530-4b72-a317-1c68f63e558f"
      },
      "source": [
        "%%writefile max_pairwise_product1.py\n",
        "# python3\n",
        "\n",
        "\n",
        "def max_pairwise_product(numbers):\n",
        "    n = len(numbers)\n",
        "    max_product = 0\n",
        "    for first in range(n):\n",
        "        for second in range(first + 1, n):\n",
        "            max_product = max(max_product,\n",
        "                numbers[first] * numbers[second])\n",
        "\n",
        "    return max_product\n",
        "\n",
        "\n",
        "if __name__ == '__main__':\n",
        "    input_n = int(input())\n",
        "    input_numbers = [int(x) for x in input().split()]\n",
        "    print(max_pairwise_product(input_numbers))\n"
      ],
      "execution_count": null,
      "outputs": [
        {
          "output_type": "stream",
          "text": [
            "Writing max_pairwise_product1.py\n"
          ],
          "name": "stdout"
        }
      ]
    },
    {
      "cell_type": "code",
      "metadata": {
        "colab": {
          "base_uri": "https://localhost:8080/"
        },
        "id": "m0_HPVs2BeRy",
        "outputId": "0be83082-543f-4d5e-f062-09aa818434ed"
      },
      "source": [
        "%%time\n",
        "!python max_pairwise_product1.py < input1.txt"
      ],
      "execution_count": null,
      "outputs": [
        {
          "output_type": "stream",
          "text": [
            "40000000000\n",
            "CPU times: user 3.29 ms, sys: 6.98 ms, total: 10.3 ms\n",
            "Wall time: 115 ms\n"
          ],
          "name": "stdout"
        }
      ]
    },
    {
      "cell_type": "markdown",
      "metadata": {
        "id": "dFJrUmoj153J"
      },
      "source": [
        "### Efficient solution "
      ]
    },
    {
      "cell_type": "code",
      "metadata": {
        "id": "EHHqa6kP2HRw",
        "colab": {
          "base_uri": "https://localhost:8080/"
        },
        "outputId": "e2f1cb92-e10e-475b-fcac-23e5afee4167"
      },
      "source": [
        "%%writefile max_pairwise_product2.py\n",
        "# python3\n",
        "\n",
        "def max_pairwise_product(numbers):\n",
        "  max1 = 0\n",
        "  max2 = 0\n",
        "  n = len(numbers)\n",
        "\n",
        "  for i in range(n):\n",
        "    if(numbers[i] > max1):\n",
        "      max1 = numbers[i]\n",
        "      max2 = max1\n",
        "    elif(numbers[i] > max2):\n",
        "      max2 = numbers[i]\n",
        "    \n",
        "  return max1 * max2\n",
        "\n",
        "if __name__ == '__main__':\n",
        "  input_n = int(input())\n",
        "  input_numbers = [int(x) for x in input().split()]\n",
        "  print(max_pairwise_product(input_numbers))"
      ],
      "execution_count": null,
      "outputs": [
        {
          "output_type": "stream",
          "text": [
            "Overwriting max_pairwise_product2.py\n"
          ],
          "name": "stdout"
        }
      ]
    },
    {
      "cell_type": "code",
      "metadata": {
        "colab": {
          "base_uri": "https://localhost:8080/"
        },
        "id": "JLHQYbOECCVM",
        "outputId": "7383d5aa-bdb3-4a71-e96b-0ad1fdadc4d8"
      },
      "source": [
        "%%time\n",
        "!python max_pairwise_product2.py < input1.txt"
      ],
      "execution_count": null,
      "outputs": [
        {
          "output_type": "stream",
          "text": [
            "/bin/bash: input1.txt: No such file or directory\n",
            "CPU times: user 4.91 ms, sys: 5.17 ms, total: 10.1 ms\n",
            "Wall time: 110 ms\n"
          ],
          "name": "stdout"
        }
      ]
    },
    {
      "cell_type": "code",
      "metadata": {
        "colab": {
          "base_uri": "https://localhost:8080/"
        },
        "id": "TyMUB3lrCUs6",
        "outputId": "1bd4f956-e8e8-433a-9adf-a724ebf39175"
      },
      "source": [
        "%%time\n",
        "!python max_pairwise_product2.py < input2.txt"
      ],
      "execution_count": null,
      "outputs": [
        {
          "output_type": "stream",
          "text": [
            "40000000000\n",
            "CPU times: user 7.53 ms, sys: 4.13 ms, total: 11.7 ms\n",
            "Wall time: 214 ms\n"
          ],
          "name": "stdout"
        }
      ]
    }
  ]
}